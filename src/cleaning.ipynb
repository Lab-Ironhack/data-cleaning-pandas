{
 "cells": [
  {
   "cell_type": "markdown",
   "id": "6ce84033",
   "metadata": {},
   "source": [
    "# Research questions:\n",
    "\n",
    "Shark related attacks according to sex.\n",
    "- Shark related attacks according to sex, throughout history\n",
    "\n",
    "Shark related deaths according to sex.\n",
    "- Shark related deaths according to sex, throughout history\n",
    "\n",
    "PIRATE KIDS:\n",
    "- Shark related infant deaths according to sex throughout history\n",
    "\n",
    "Morning bird-shark: What is a shark's favourite meal?"
   ]
  },
  {
   "cell_type": "markdown",
   "id": "6ae4da5c",
   "metadata": {},
   "source": [
    "## Libraries"
   ]
  },
  {
   "cell_type": "code",
   "execution_count": 1,
   "id": "69d0e784",
   "metadata": {},
   "outputs": [],
   "source": [
    "import pandas as pd"
   ]
  },
  {
   "cell_type": "markdown",
   "id": "a61757a0",
   "metadata": {},
   "source": [
    "## Subset with variables of interest"
   ]
  },
  {
   "cell_type": "code",
   "execution_count": 22,
   "id": "5558964a",
   "metadata": {},
   "outputs": [],
   "source": [
    "attacks = pd.read_csv(\"../data/attacks.csv\", encoding=\"unicode_escape\")\n",
    "df = attacks[[\"Year\", \"Sex \", \"Fatal (Y/N)\", \"Age\", \"Time\"]]"
   ]
  },
  {
   "cell_type": "code",
   "execution_count": 24,
   "id": "66444610",
   "metadata": {},
   "outputs": [
    {
     "data": {
      "text/plain": [
       "20940"
      ]
     },
     "execution_count": 24,
     "metadata": {},
     "output_type": "execute_result"
    }
   ],
   "source": [
    "df.duplicated().sum()"
   ]
  },
  {
   "cell_type": "code",
   "execution_count": 25,
   "id": "887170b8",
   "metadata": {},
   "outputs": [
    {
     "name": "stderr",
     "output_type": "stream",
     "text": [
      "C:\\Users\\gdcma\\AppData\\Local\\Temp\\ipykernel_24344\\3006716147.py:1: SettingWithCopyWarning: \n",
      "A value is trying to be set on a copy of a slice from a DataFrame\n",
      "\n",
      "See the caveats in the documentation: https://pandas.pydata.org/pandas-docs/stable/user_guide/indexing.html#returning-a-view-versus-a-copy\n",
      "  df.drop_duplicates(inplace=True)\n"
     ]
    }
   ],
   "source": [
    "df.drop_duplicates(inplace=True)"
   ]
  },
  {
   "cell_type": "code",
   "execution_count": 27,
   "id": "d34de38c",
   "metadata": {},
   "outputs": [
    {
     "data": {
      "text/plain": [
       "0"
      ]
     },
     "execution_count": 27,
     "metadata": {},
     "output_type": "execute_result"
    }
   ],
   "source": [
    "df.duplicated().sum()"
   ]
  },
  {
   "cell_type": "code",
   "execution_count": 33,
   "id": "e6b4281d",
   "metadata": {},
   "outputs": [
    {
     "data": {
      "text/plain": [
       "Year              3\n",
       "Sex             377\n",
       "Fatal (Y/N)     460\n",
       "Age            1397\n",
       "Time           1885\n",
       "dtype: int64"
      ]
     },
     "execution_count": 33,
     "metadata": {},
     "output_type": "execute_result"
    }
   ],
   "source": [
    "df.isna().sum()"
   ]
  },
  {
   "cell_type": "code",
   "execution_count": null,
   "id": "bbc73bee",
   "metadata": {},
   "outputs": [],
   "source": []
  },
  {
   "cell_type": "code",
   "execution_count": null,
   "id": "08002c0f",
   "metadata": {},
   "outputs": [],
   "source": []
  },
  {
   "cell_type": "code",
   "execution_count": null,
   "id": "18cf6669",
   "metadata": {},
   "outputs": [],
   "source": []
  },
  {
   "cell_type": "code",
   "execution_count": null,
   "id": "5d071f5d",
   "metadata": {},
   "outputs": [],
   "source": []
  }
 ],
 "metadata": {
  "kernelspec": {
   "display_name": "ironhack",
   "language": "python",
   "name": "ironhack"
  },
  "language_info": {
   "codemirror_mode": {
    "name": "ipython",
    "version": 3
   },
   "file_extension": ".py",
   "mimetype": "text/x-python",
   "name": "python",
   "nbconvert_exporter": "python",
   "pygments_lexer": "ipython3",
   "version": "3.11.5"
  }
 },
 "nbformat": 4,
 "nbformat_minor": 5
}
