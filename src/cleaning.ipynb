{
 "cells": [
  {
   "cell_type": "markdown",
   "id": "6ce84033",
   "metadata": {},
   "source": [
    "# Research questions:\n",
    "---\n",
    "Shark related attacks according to sex.\n",
    "- Shark related attacks according to sex, throughout history\n",
    "\n",
    "Shark related deaths according to sex.\n",
    "- Shark related deaths according to sex, throughout history\n",
    "\n",
    "PIRATE KIDS:\n",
    "- Shark related infant deaths according to sex throughout history\n",
    "---\n",
    "**Bonus question:**\n",
    "- Morning bird-shark: What is a shark's favourite meal?\n",
    "---"
   ]
  },
  {
   "cell_type": "markdown",
   "id": "6ae4da5c",
   "metadata": {},
   "source": [
    "## Libraries"
   ]
  },
  {
   "cell_type": "code",
   "execution_count": 28,
   "id": "69d0e784",
   "metadata": {},
   "outputs": [],
   "source": [
    "import pandas as pd\n",
    "import seaborn as sns"
   ]
  },
  {
   "cell_type": "markdown",
   "id": "a61757a0",
   "metadata": {},
   "source": [
    "## Subset with variables of interest"
   ]
  },
  {
   "cell_type": "code",
   "execution_count": 77,
   "id": "5558964a",
   "metadata": {},
   "outputs": [],
   "source": [
    "attacks = pd.read_csv(\"../data/attacks.csv\", encoding=\"unicode_escape\")\n",
    "df = attacks[[\"Year\", \"Sex \", \"Fatal (Y/N)\", \"Age\", \"Time\"]]"
   ]
  },
  {
   "cell_type": "code",
   "execution_count": 79,
   "id": "66444610",
   "metadata": {},
   "outputs": [
    {
     "data": {
      "text/plain": [
       "20940"
      ]
     },
     "execution_count": 79,
     "metadata": {},
     "output_type": "execute_result"
    }
   ],
   "source": [
    "df.duplicated().sum()"
   ]
  },
  {
   "cell_type": "code",
   "execution_count": 31,
   "id": "887170b8",
   "metadata": {},
   "outputs": [
    {
     "name": "stderr",
     "output_type": "stream",
     "text": [
      "C:\\Users\\gdcma\\AppData\\Local\\Temp\\ipykernel_18452\\3006716147.py:1: SettingWithCopyWarning: \n",
      "A value is trying to be set on a copy of a slice from a DataFrame\n",
      "\n",
      "See the caveats in the documentation: https://pandas.pydata.org/pandas-docs/stable/user_guide/indexing.html#returning-a-view-versus-a-copy\n",
      "  df.drop_duplicates(inplace=True)\n"
     ]
    }
   ],
   "source": [
    "df.drop_duplicates(inplace=True)"
   ]
  },
  {
   "cell_type": "code",
   "execution_count": 32,
   "id": "d34de38c",
   "metadata": {},
   "outputs": [
    {
     "data": {
      "text/plain": [
       "0"
      ]
     },
     "execution_count": 32,
     "metadata": {},
     "output_type": "execute_result"
    }
   ],
   "source": [
    "df.duplicated().sum()"
   ]
  },
  {
   "cell_type": "code",
   "execution_count": 33,
   "id": "920af60f",
   "metadata": {},
   "outputs": [
    {
     "data": {
      "text/plain": [
       "(4783, 5)"
      ]
     },
     "execution_count": 33,
     "metadata": {},
     "output_type": "execute_result"
    }
   ],
   "source": [
    "df.shape # 4783 unique subjects"
   ]
  },
  {
   "cell_type": "code",
   "execution_count": 34,
   "id": "e6b4281d",
   "metadata": {
    "scrolled": true
   },
   "outputs": [
    {
     "data": {
      "text/plain": [
       "Year              3\n",
       "Sex             377\n",
       "Fatal (Y/N)     460\n",
       "Age            1397\n",
       "Time           1885\n",
       "dtype: int64"
      ]
     },
     "execution_count": 34,
     "metadata": {},
     "output_type": "execute_result"
    }
   ],
   "source": [
    "df.isna().sum()"
   ]
  },
  {
   "cell_type": "markdown",
   "id": "bdcba756",
   "metadata": {},
   "source": [
    "### Cleaning of \"Year\" (only 3 NaN)\n",
    "\n",
    "Except the last research question, all of them take into account the \"Year\" variable.\n",
    "\n",
    "The df used for the first questions will not have subjects with NaN years.\n",
    "\n",
    "---"
   ]
  },
  {
   "cell_type": "code",
   "execution_count": 35,
   "id": "f84d8e04",
   "metadata": {},
   "outputs": [
    {
     "data": {
      "text/plain": [
       "count    4780.000000\n",
       "mean     1961.906276\n",
       "std       151.480634\n",
       "min         0.000000\n",
       "25%      1955.750000\n",
       "50%      1988.000000\n",
       "75%      2007.000000\n",
       "max      2018.000000\n",
       "Name: Year, dtype: float64"
      ]
     },
     "execution_count": 35,
     "metadata": {},
     "output_type": "execute_result"
    }
   ],
   "source": [
    "df[\"Year\"].describe()"
   ]
  },
  {
   "cell_type": "code",
   "execution_count": 36,
   "id": "18cf6669",
   "metadata": {},
   "outputs": [
    {
     "data": {
      "text/plain": [
       "Index([6177, 6181, 6184, 6185, 6189, 6193, 6198, 6200, 6202, 6226, 6228, 6232,\n",
       "       6238, 6239, 6241, 6242, 6243, 6254, 6259, 6265, 6276, 6277, 6301],\n",
       "      dtype='int64')"
      ]
     },
     "execution_count": 36,
     "metadata": {},
     "output_type": "execute_result"
    }
   ],
   "source": [
    "df[\"Year\"][df[\"Year\"] == df[\"Year\"].min()].index # 23 subjects with Year 0 (plus 3 na)"
   ]
  },
  {
   "cell_type": "code",
   "execution_count": 37,
   "id": "eb0c4d73",
   "metadata": {},
   "outputs": [
    {
     "data": {
      "text/plain": [
       "Index([187, 6079, 6302], dtype='int64')"
      ]
     },
     "execution_count": 37,
     "metadata": {},
     "output_type": "execute_result"
    }
   ],
   "source": [
    "df[df[\"Year\"].isna() == True].index"
   ]
  },
  {
   "cell_type": "code",
   "execution_count": 38,
   "id": "5d071f5d",
   "metadata": {
    "scrolled": true
   },
   "outputs": [
    {
     "data": {
      "text/html": [
       "<div>\n",
       "<style scoped>\n",
       "    .dataframe tbody tr th:only-of-type {\n",
       "        vertical-align: middle;\n",
       "    }\n",
       "\n",
       "    .dataframe tbody tr th {\n",
       "        vertical-align: top;\n",
       "    }\n",
       "\n",
       "    .dataframe thead th {\n",
       "        text-align: right;\n",
       "    }\n",
       "</style>\n",
       "<table border=\"1\" class=\"dataframe\">\n",
       "  <thead>\n",
       "    <tr style=\"text-align: right;\">\n",
       "      <th></th>\n",
       "      <th>Year</th>\n",
       "      <th>Sex</th>\n",
       "      <th>Fatal (Y/N)</th>\n",
       "      <th>Age</th>\n",
       "      <th>Time</th>\n",
       "    </tr>\n",
       "  </thead>\n",
       "  <tbody>\n",
       "    <tr>\n",
       "      <th>187</th>\n",
       "      <td>NaN</td>\n",
       "      <td>M</td>\n",
       "      <td>NaN</td>\n",
       "      <td>35</td>\n",
       "      <td>NaN</td>\n",
       "    </tr>\n",
       "    <tr>\n",
       "      <th>6079</th>\n",
       "      <td>NaN</td>\n",
       "      <td>M</td>\n",
       "      <td>Y</td>\n",
       "      <td>NaN</td>\n",
       "      <td>NaN</td>\n",
       "    </tr>\n",
       "    <tr>\n",
       "      <th>6177</th>\n",
       "      <td>0.0</td>\n",
       "      <td>M</td>\n",
       "      <td>Y</td>\n",
       "      <td>NaN</td>\n",
       "      <td>NaN</td>\n",
       "    </tr>\n",
       "    <tr>\n",
       "      <th>6181</th>\n",
       "      <td>0.0</td>\n",
       "      <td>M</td>\n",
       "      <td>N</td>\n",
       "      <td>NaN</td>\n",
       "      <td>NaN</td>\n",
       "    </tr>\n",
       "    <tr>\n",
       "      <th>6184</th>\n",
       "      <td>0.0</td>\n",
       "      <td>M</td>\n",
       "      <td>Y</td>\n",
       "      <td>20</td>\n",
       "      <td>NaN</td>\n",
       "    </tr>\n",
       "    <tr>\n",
       "      <th>6185</th>\n",
       "      <td>0.0</td>\n",
       "      <td>NaN</td>\n",
       "      <td>N</td>\n",
       "      <td>NaN</td>\n",
       "      <td>NaN</td>\n",
       "    </tr>\n",
       "    <tr>\n",
       "      <th>6189</th>\n",
       "      <td>0.0</td>\n",
       "      <td>F</td>\n",
       "      <td>N</td>\n",
       "      <td>15</td>\n",
       "      <td>NaN</td>\n",
       "    </tr>\n",
       "    <tr>\n",
       "      <th>6193</th>\n",
       "      <td>0.0</td>\n",
       "      <td>F</td>\n",
       "      <td>Y</td>\n",
       "      <td>NaN</td>\n",
       "      <td>NaN</td>\n",
       "    </tr>\n",
       "    <tr>\n",
       "      <th>6198</th>\n",
       "      <td>0.0</td>\n",
       "      <td>F</td>\n",
       "      <td>N</td>\n",
       "      <td>NaN</td>\n",
       "      <td>NaN</td>\n",
       "    </tr>\n",
       "    <tr>\n",
       "      <th>6200</th>\n",
       "      <td>0.0</td>\n",
       "      <td>F</td>\n",
       "      <td>N</td>\n",
       "      <td>21</td>\n",
       "      <td>18h00</td>\n",
       "    </tr>\n",
       "    <tr>\n",
       "      <th>6202</th>\n",
       "      <td>0.0</td>\n",
       "      <td>NaN</td>\n",
       "      <td>Y</td>\n",
       "      <td>NaN</td>\n",
       "      <td>NaN</td>\n",
       "    </tr>\n",
       "    <tr>\n",
       "      <th>6226</th>\n",
       "      <td>0.0</td>\n",
       "      <td>M</td>\n",
       "      <td>N</td>\n",
       "      <td>19</td>\n",
       "      <td>NaN</td>\n",
       "    </tr>\n",
       "    <tr>\n",
       "      <th>6228</th>\n",
       "      <td>0.0</td>\n",
       "      <td>F</td>\n",
       "      <td>N</td>\n",
       "      <td>NaN</td>\n",
       "      <td>Morning</td>\n",
       "    </tr>\n",
       "    <tr>\n",
       "      <th>6232</th>\n",
       "      <td>0.0</td>\n",
       "      <td>M</td>\n",
       "      <td>NaN</td>\n",
       "      <td>NaN</td>\n",
       "      <td>NaN</td>\n",
       "    </tr>\n",
       "    <tr>\n",
       "      <th>6238</th>\n",
       "      <td>0.0</td>\n",
       "      <td>M</td>\n",
       "      <td>N</td>\n",
       "      <td>27</td>\n",
       "      <td>NaN</td>\n",
       "    </tr>\n",
       "    <tr>\n",
       "      <th>6239</th>\n",
       "      <td>0.0</td>\n",
       "      <td>M</td>\n",
       "      <td>N</td>\n",
       "      <td>36</td>\n",
       "      <td>NaN</td>\n",
       "    </tr>\n",
       "    <tr>\n",
       "      <th>6241</th>\n",
       "      <td>0.0</td>\n",
       "      <td>M</td>\n",
       "      <td>N</td>\n",
       "      <td>25</td>\n",
       "      <td>Afternoon</td>\n",
       "    </tr>\n",
       "    <tr>\n",
       "      <th>6242</th>\n",
       "      <td>0.0</td>\n",
       "      <td>M</td>\n",
       "      <td>N</td>\n",
       "      <td>6</td>\n",
       "      <td>Afternoon</td>\n",
       "    </tr>\n",
       "    <tr>\n",
       "      <th>6243</th>\n",
       "      <td>0.0</td>\n",
       "      <td>M</td>\n",
       "      <td>N</td>\n",
       "      <td>16</td>\n",
       "      <td>Afternoon</td>\n",
       "    </tr>\n",
       "    <tr>\n",
       "      <th>6254</th>\n",
       "      <td>0.0</td>\n",
       "      <td>M</td>\n",
       "      <td>Y</td>\n",
       "      <td>50</td>\n",
       "      <td>NaN</td>\n",
       "    </tr>\n",
       "    <tr>\n",
       "      <th>6259</th>\n",
       "      <td>0.0</td>\n",
       "      <td>NaN</td>\n",
       "      <td>Y</td>\n",
       "      <td>NaN</td>\n",
       "      <td>Late afternoon</td>\n",
       "    </tr>\n",
       "    <tr>\n",
       "      <th>6265</th>\n",
       "      <td>0.0</td>\n",
       "      <td>M</td>\n",
       "      <td>Y</td>\n",
       "      <td>13 or 14</td>\n",
       "      <td>Afternoon</td>\n",
       "    </tr>\n",
       "    <tr>\n",
       "      <th>6276</th>\n",
       "      <td>0.0</td>\n",
       "      <td>M</td>\n",
       "      <td>Y</td>\n",
       "      <td>16</td>\n",
       "      <td>NaN</td>\n",
       "    </tr>\n",
       "    <tr>\n",
       "      <th>6277</th>\n",
       "      <td>0.0</td>\n",
       "      <td>M</td>\n",
       "      <td>UNKNOWN</td>\n",
       "      <td>NaN</td>\n",
       "      <td>NaN</td>\n",
       "    </tr>\n",
       "    <tr>\n",
       "      <th>6301</th>\n",
       "      <td>0.0</td>\n",
       "      <td>M</td>\n",
       "      <td>Y</td>\n",
       "      <td>15</td>\n",
       "      <td>NaN</td>\n",
       "    </tr>\n",
       "    <tr>\n",
       "      <th>6302</th>\n",
       "      <td>NaN</td>\n",
       "      <td>NaN</td>\n",
       "      <td>NaN</td>\n",
       "      <td>NaN</td>\n",
       "      <td>NaN</td>\n",
       "    </tr>\n",
       "  </tbody>\n",
       "</table>\n",
       "</div>"
      ],
      "text/plain": [
       "      Year Sex  Fatal (Y/N)       Age            Time\n",
       "187    NaN    M         NaN        35             NaN\n",
       "6079   NaN    M           Y       NaN             NaN\n",
       "6177   0.0    M           Y       NaN             NaN\n",
       "6181   0.0    M           N       NaN             NaN\n",
       "6184   0.0    M           Y        20             NaN\n",
       "6185   0.0  NaN           N       NaN             NaN\n",
       "6189   0.0    F           N        15             NaN\n",
       "6193   0.0    F           Y       NaN             NaN\n",
       "6198   0.0    F           N       NaN             NaN\n",
       "6200   0.0    F           N        21           18h00\n",
       "6202   0.0  NaN           Y       NaN             NaN\n",
       "6226   0.0    M           N        19             NaN\n",
       "6228   0.0    F           N       NaN         Morning\n",
       "6232   0.0    M         NaN       NaN             NaN\n",
       "6238   0.0    M           N        27             NaN\n",
       "6239   0.0    M           N        36             NaN\n",
       "6241   0.0    M           N        25       Afternoon\n",
       "6242   0.0    M           N         6       Afternoon\n",
       "6243   0.0    M           N        16       Afternoon\n",
       "6254   0.0    M           Y        50             NaN\n",
       "6259   0.0  NaN           Y       NaN  Late afternoon\n",
       "6265   0.0    M           Y  13 or 14       Afternoon\n",
       "6276   0.0    M           Y        16             NaN\n",
       "6277   0.0    M     UNKNOWN       NaN             NaN\n",
       "6301   0.0    M           Y        15             NaN\n",
       "6302   NaN  NaN         NaN       NaN             NaN"
      ]
     },
     "execution_count": 38,
     "metadata": {},
     "output_type": "execute_result"
    }
   ],
   "source": [
    "pd.DataFrame(df.loc[[187, 6079, 6177, 6181, 6184, 6185, 6189, 6193, 6198, 6200, 6202, 6226, 6228, 6232, 6238, 6239, 6241,\n",
    "                     6242, 6243, 6254, 6259, 6265, 6276, 6277, 6301, 6302]])"
   ]
  },
  {
   "cell_type": "code",
   "execution_count": 39,
   "id": "af8b04f2",
   "metadata": {},
   "outputs": [],
   "source": [
    "df_evolution = df.drop([187, 6079, 6177, 6181, 6184, 6185, 6189, 6193, 6198, 6200, 6202, 6226, 6228, 6232, 6238, 6239, 6241, \n",
    "                        6242, 6243, 6254, 6259, 6265, 6276, 6277, 6301, 6302])"
   ]
  },
  {
   "cell_type": "code",
   "execution_count": 40,
   "id": "c197bff2",
   "metadata": {},
   "outputs": [
    {
     "data": {
      "text/plain": [
       "count    4757.000000\n",
       "mean     1971.392054\n",
       "std        65.979031\n",
       "min         5.000000\n",
       "25%      1956.000000\n",
       "50%      1988.000000\n",
       "75%      2007.000000\n",
       "max      2018.000000\n",
       "Name: Year, dtype: float64"
      ]
     },
     "execution_count": 40,
     "metadata": {},
     "output_type": "execute_result"
    }
   ],
   "source": [
    "df_evolution[\"Year\"].describe()"
   ]
  },
  {
   "cell_type": "code",
   "execution_count": 41,
   "id": "9cdf5f8d",
   "metadata": {},
   "outputs": [
    {
     "data": {
      "text/html": [
       "<div>\n",
       "<style scoped>\n",
       "    .dataframe tbody tr th:only-of-type {\n",
       "        vertical-align: middle;\n",
       "    }\n",
       "\n",
       "    .dataframe tbody tr th {\n",
       "        vertical-align: top;\n",
       "    }\n",
       "\n",
       "    .dataframe thead th {\n",
       "        text-align: right;\n",
       "    }\n",
       "</style>\n",
       "<table border=\"1\" class=\"dataframe\">\n",
       "  <thead>\n",
       "    <tr style=\"text-align: right;\">\n",
       "      <th></th>\n",
       "      <th>Year</th>\n",
       "      <th>Sex</th>\n",
       "      <th>Fatal (Y/N)</th>\n",
       "      <th>Age</th>\n",
       "      <th>Time</th>\n",
       "    </tr>\n",
       "  </thead>\n",
       "  <tbody>\n",
       "    <tr>\n",
       "      <th>6176</th>\n",
       "      <td>5.0</td>\n",
       "      <td>M</td>\n",
       "      <td>N</td>\n",
       "      <td>NaN</td>\n",
       "      <td>NaN</td>\n",
       "    </tr>\n",
       "    <tr>\n",
       "      <th>6175</th>\n",
       "      <td>77.0</td>\n",
       "      <td>M</td>\n",
       "      <td>Y</td>\n",
       "      <td>NaN</td>\n",
       "      <td>NaN</td>\n",
       "    </tr>\n",
       "    <tr>\n",
       "      <th>6174</th>\n",
       "      <td>500.0</td>\n",
       "      <td>M</td>\n",
       "      <td>N</td>\n",
       "      <td>NaN</td>\n",
       "      <td>NaN</td>\n",
       "    </tr>\n",
       "    <tr>\n",
       "      <th>6173</th>\n",
       "      <td>1543.0</td>\n",
       "      <td>M</td>\n",
       "      <td>Y</td>\n",
       "      <td>NaN</td>\n",
       "      <td>NaN</td>\n",
       "    </tr>\n",
       "    <tr>\n",
       "      <th>6172</th>\n",
       "      <td>1554.0</td>\n",
       "      <td>M</td>\n",
       "      <td>UNKNOWN</td>\n",
       "      <td>NaN</td>\n",
       "      <td>NaN</td>\n",
       "    </tr>\n",
       "  </tbody>\n",
       "</table>\n",
       "</div>"
      ],
      "text/plain": [
       "        Year Sex  Fatal (Y/N)  Age Time\n",
       "6176     5.0    M           N  NaN  NaN\n",
       "6175    77.0    M           Y  NaN  NaN\n",
       "6174   500.0    M           N  NaN  NaN\n",
       "6173  1543.0    M           Y  NaN  NaN\n",
       "6172  1554.0    M     UNKNOWN  NaN  NaN"
      ]
     },
     "execution_count": 41,
     "metadata": {},
     "output_type": "execute_result"
    }
   ],
   "source": [
    "df_evolution.sort_values(by = \"Year\").head()"
   ]
  },
  {
   "cell_type": "code",
   "execution_count": 42,
   "id": "a5c5c8bc",
   "metadata": {},
   "outputs": [],
   "source": [
    "df_evolution.drop([6176, 6175, 6174], inplace = True)"
   ]
  },
  {
   "cell_type": "code",
   "execution_count": 44,
   "id": "f406c61a",
   "metadata": {},
   "outputs": [
    {
     "data": {
      "text/plain": [
       "(4754, 5)"
      ]
     },
     "execution_count": 44,
     "metadata": {},
     "output_type": "execute_result"
    }
   ],
   "source": [
    "df_evolution.shape # 4754 unique subjects"
   ]
  },
  {
   "cell_type": "code",
   "execution_count": 45,
   "id": "d922cb88",
   "metadata": {},
   "outputs": [],
   "source": [
    "sns.set(rc={\"figure.figsize\": (5, 4)})\n",
    "sns.set_style(\"whitegrid\")"
   ]
  },
  {
   "cell_type": "code",
   "execution_count": 46,
   "id": "a4780257",
   "metadata": {},
   "outputs": [
    {
     "data": {
      "image/png": "[encoded data removed]",
      "text/plain": [
       "<Figure size 500x400 with 1 Axes>"
      ]
     },
     "metadata": {},
     "output_type": "display_data"
    }
   ],
   "source": [
    "sns.boxplot(y = \"Year\", data=df_evolution); # There is not much information about shark attacks previous to 1880"
   ]
  },
  {
   "cell_type": "markdown",
   "id": "80da3d03",
   "metadata": {},
   "source": [
    "### Cleaning of \"Sex\" (377 NaN)"
   ]
  },
  {
   "cell_type": "code",
   "execution_count": 47,
   "id": "69d3ca92",
   "metadata": {},
   "outputs": [],
   "source": [
    "df_evolution.rename({\"Sex \":\"Sex\"}, axis = 1, inplace = True)"
   ]
  },
  {
   "cell_type": "code",
   "execution_count": 48,
   "id": "2c3ddac4",
   "metadata": {},
   "outputs": [
    {
     "data": {
      "text/plain": [
       "count     4381\n",
       "unique       6\n",
       "top          M\n",
       "freq      3781\n",
       "Name: Sex, dtype: object"
      ]
     },
     "execution_count": 48,
     "metadata": {},
     "output_type": "execute_result"
    }
   ],
   "source": [
    "df_evolution[\"Sex\"].describe() #6 different categories"
   ]
  },
  {
   "cell_type": "code",
   "execution_count": 49,
   "id": "9c3cc5ac",
   "metadata": {
    "scrolled": true
   },
   "outputs": [
    {
     "data": {
      "text/plain": [
       "Sex\n",
       "M      3781\n",
       "F       594\n",
       "M         2\n",
       "N         2\n",
       "lli       1\n",
       ".         1\n",
       "Name: count, dtype: int64"
      ]
     },
     "execution_count": 49,
     "metadata": {},
     "output_type": "execute_result"
    }
   ],
   "source": [
    "df_evolution[\"Sex\"].value_counts()"
   ]
  },
  {
   "cell_type": "code",
   "execution_count": 50,
   "id": "bbcdab13",
   "metadata": {},
   "outputs": [
    {
     "data": {
      "text/html": [
       "<div>\n",
       "<style scoped>\n",
       "    .dataframe tbody tr th:only-of-type {\n",
       "        vertical-align: middle;\n",
       "    }\n",
       "\n",
       "    .dataframe tbody tr th {\n",
       "        vertical-align: top;\n",
       "    }\n",
       "\n",
       "    .dataframe thead th {\n",
       "        text-align: right;\n",
       "    }\n",
       "</style>\n",
       "<table border=\"1\" class=\"dataframe\">\n",
       "  <thead>\n",
       "    <tr style=\"text-align: right;\">\n",
       "      <th></th>\n",
       "      <th>Year</th>\n",
       "      <th>Sex</th>\n",
       "      <th>Fatal (Y/N)</th>\n",
       "      <th>Age</th>\n",
       "      <th>Time</th>\n",
       "    </tr>\n",
       "  </thead>\n",
       "  <tbody>\n",
       "    <tr>\n",
       "      <th>563</th>\n",
       "      <td>2014.0</td>\n",
       "      <td>M</td>\n",
       "      <td>N</td>\n",
       "      <td>42</td>\n",
       "      <td>15h30</td>\n",
       "    </tr>\n",
       "    <tr>\n",
       "      <th>1587</th>\n",
       "      <td>2005.0</td>\n",
       "      <td>M</td>\n",
       "      <td>N</td>\n",
       "      <td>NaN</td>\n",
       "      <td>NaN</td>\n",
       "    </tr>\n",
       "    <tr>\n",
       "      <th>1624</th>\n",
       "      <td>2004.0</td>\n",
       "      <td>lli</td>\n",
       "      <td>N</td>\n",
       "      <td>38</td>\n",
       "      <td>13h30</td>\n",
       "    </tr>\n",
       "    <tr>\n",
       "      <th>4938</th>\n",
       "      <td>1934.0</td>\n",
       "      <td>N</td>\n",
       "      <td>N</td>\n",
       "      <td>NaN</td>\n",
       "      <td>NaN</td>\n",
       "    </tr>\n",
       "    <tr>\n",
       "      <th>5437</th>\n",
       "      <td>1908.0</td>\n",
       "      <td>.</td>\n",
       "      <td>Y</td>\n",
       "      <td>NaN</td>\n",
       "      <td>NaN</td>\n",
       "    </tr>\n",
       "    <tr>\n",
       "      <th>6131</th>\n",
       "      <td>1801.0</td>\n",
       "      <td>N</td>\n",
       "      <td>Y</td>\n",
       "      <td>NaN</td>\n",
       "      <td>NaN</td>\n",
       "    </tr>\n",
       "  </tbody>\n",
       "</table>\n",
       "</div>"
      ],
      "text/plain": [
       "        Year  Sex Fatal (Y/N)  Age   Time\n",
       "563   2014.0   M            N   42  15h30\n",
       "1587  2005.0   M            N  NaN    NaN\n",
       "1624  2004.0  lli           N   38  13h30\n",
       "4938  1934.0    N           N  NaN    NaN\n",
       "5437  1908.0    .           Y  NaN    NaN\n",
       "6131  1801.0    N           Y  NaN    NaN"
      ]
     },
     "execution_count": 50,
     "metadata": {},
     "output_type": "execute_result"
    }
   ],
   "source": [
    "df_evolution[(df_evolution[\"Sex\"]==\"M \") | (df_evolution[\"Sex\"]==\"N\") | (df_evolution[\"Sex\"]==\"lli\") | \n",
    "             (df_evolution[\"Sex\"]==\".\")]"
   ]
  },
  {
   "cell_type": "code",
   "execution_count": 51,
   "id": "47de3937",
   "metadata": {},
   "outputs": [
    {
     "name": "stderr",
     "output_type": "stream",
     "text": [
      "C:\\Users\\gdcma\\AppData\\Local\\Temp\\ipykernel_18452\\1603916124.py:1: FutureWarning: Setting an item of incompatible dtype is deprecated and will raise in a future error of pandas. Value 'M' has dtype incompatible with float64, please explicitly cast to a compatible dtype first.\n",
      "  df_evolution[df_evolution[\"Sex\"]==\"M \"] = \"M\"\n"
     ]
    }
   ],
   "source": [
    "df_evolution[df_evolution[\"Sex\"]==\"M \"] = \"M\"\n",
    "df_evolution[(df_evolution[\"Sex\"]==\"N\") | (df_evolution[\"Sex\"]==\"lli\") | (df_evolution[\"Sex\"]==\".\")] = None"
   ]
  },
  {
   "cell_type": "code",
   "execution_count": 52,
   "id": "f4f93cf5",
   "metadata": {},
   "outputs": [
    {
     "data": {
      "text/plain": [
       "Sex\n",
       "M    3783\n",
       "F     594\n",
       "Name: count, dtype: int64"
      ]
     },
     "execution_count": 52,
     "metadata": {},
     "output_type": "execute_result"
    }
   ],
   "source": [
    "df_evolution[\"Sex\"].value_counts()"
   ]
  },
  {
   "cell_type": "code",
   "execution_count": 53,
   "id": "c662e94e",
   "metadata": {},
   "outputs": [
    {
     "data": {
      "text/plain": [
       "377"
      ]
     },
     "execution_count": 53,
     "metadata": {},
     "output_type": "execute_result"
    }
   ],
   "source": [
    "df_evolution[\"Sex\"].isna().sum() # 377 subjects with unknown sex of a total of 4754. More than half the amount of \"F\".\n",
    "                                     # Not imputable.\n",
    "                                 # The first questions need the variable Sex, but as the number of missings is so big, I'll \n",
    "                                 # keep the missing values to show the total population attacks, and then by sex."
   ]
  },
  {
   "cell_type": "markdown",
   "id": "f8860693",
   "metadata": {},
   "source": [
    "### Cleaning of \"Fatal (Y/N)\" (460 NaN)"
   ]
  },
  {
   "cell_type": "code",
   "execution_count": 57,
   "id": "4c4f5e59",
   "metadata": {},
   "outputs": [],
   "source": [
    "df_evolution.rename({\"Fatal (Y/N)\":\"Fatal\"}, axis = 1, inplace = True)"
   ]
  },
  {
   "cell_type": "code",
   "execution_count": 59,
   "id": "6fe8e4d6",
   "metadata": {},
   "outputs": [
    {
     "data": {
      "text/plain": [
       "count     4293\n",
       "unique       8\n",
       "top          N\n",
       "freq      3249\n",
       "Name: Fatal, dtype: object"
      ]
     },
     "execution_count": 59,
     "metadata": {},
     "output_type": "execute_result"
    }
   ],
   "source": [
    "df_evolution[\"Fatal\"].describe() # 8 different categories"
   ]
  },
  {
   "cell_type": "code",
   "execution_count": 60,
   "id": "8dea67d5",
   "metadata": {},
   "outputs": [
    {
     "data": {
      "text/plain": [
       "Fatal\n",
       "N          3249\n",
       "Y           970\n",
       "UNKNOWN      61\n",
       " N            7\n",
       "M             3\n",
       "2017          1\n",
       "N             1\n",
       "y             1\n",
       "Name: count, dtype: int64"
      ]
     },
     "execution_count": 60,
     "metadata": {},
     "output_type": "execute_result"
    }
   ],
   "source": [
    "df_evolution[\"Fatal\"].value_counts()"
   ]
  },
  {
   "cell_type": "code",
   "execution_count": 67,
   "id": "e8d307eb",
   "metadata": {
    "scrolled": true
   },
   "outputs": [
    {
     "data": {
      "text/html": [
       "<div>\n",
       "<style scoped>\n",
       "    .dataframe tbody tr th:only-of-type {\n",
       "        vertical-align: middle;\n",
       "    }\n",
       "\n",
       "    .dataframe tbody tr th {\n",
       "        vertical-align: top;\n",
       "    }\n",
       "\n",
       "    .dataframe thead th {\n",
       "        text-align: right;\n",
       "    }\n",
       "</style>\n",
       "<table border=\"1\" class=\"dataframe\">\n",
       "  <thead>\n",
       "    <tr style=\"text-align: right;\">\n",
       "      <th></th>\n",
       "      <th>Year</th>\n",
       "      <th>Sex</th>\n",
       "      <th>Fatal</th>\n",
       "      <th>Age</th>\n",
       "      <th>Time</th>\n",
       "    </tr>\n",
       "  </thead>\n",
       "  <tbody>\n",
       "    <tr>\n",
       "      <th>285</th>\n",
       "      <td>2016.0</td>\n",
       "      <td>M</td>\n",
       "      <td>M</td>\n",
       "      <td>22</td>\n",
       "      <td>Morning</td>\n",
       "    </tr>\n",
       "    <tr>\n",
       "      <th>563</th>\n",
       "      <td>M</td>\n",
       "      <td>M</td>\n",
       "      <td>M</td>\n",
       "      <td>M</td>\n",
       "      <td>M</td>\n",
       "    </tr>\n",
       "    <tr>\n",
       "      <th>786</th>\n",
       "      <td>2012.0</td>\n",
       "      <td>M</td>\n",
       "      <td>2017</td>\n",
       "      <td>57</td>\n",
       "      <td>Morning</td>\n",
       "    </tr>\n",
       "    <tr>\n",
       "      <th>1587</th>\n",
       "      <td>M</td>\n",
       "      <td>M</td>\n",
       "      <td>M</td>\n",
       "      <td>M</td>\n",
       "      <td>M</td>\n",
       "    </tr>\n",
       "    <tr>\n",
       "      <th>3942</th>\n",
       "      <td>1960.0</td>\n",
       "      <td>F</td>\n",
       "      <td>N</td>\n",
       "      <td>27</td>\n",
       "      <td>NaN</td>\n",
       "    </tr>\n",
       "    <tr>\n",
       "      <th>3944</th>\n",
       "      <td>1960.0</td>\n",
       "      <td>M</td>\n",
       "      <td>N</td>\n",
       "      <td>33</td>\n",
       "      <td>09h00</td>\n",
       "    </tr>\n",
       "    <tr>\n",
       "      <th>3946</th>\n",
       "      <td>1960.0</td>\n",
       "      <td>M</td>\n",
       "      <td>N</td>\n",
       "      <td>41</td>\n",
       "      <td>14h45</td>\n",
       "    </tr>\n",
       "    <tr>\n",
       "      <th>3948</th>\n",
       "      <td>1960.0</td>\n",
       "      <td>M</td>\n",
       "      <td>N</td>\n",
       "      <td>17</td>\n",
       "      <td>15h00</td>\n",
       "    </tr>\n",
       "    <tr>\n",
       "      <th>3949</th>\n",
       "      <td>1960.0</td>\n",
       "      <td>M</td>\n",
       "      <td>N</td>\n",
       "      <td>24</td>\n",
       "      <td>NaN</td>\n",
       "    </tr>\n",
       "    <tr>\n",
       "      <th>3951</th>\n",
       "      <td>1960.0</td>\n",
       "      <td>M</td>\n",
       "      <td>N</td>\n",
       "      <td>NaN</td>\n",
       "      <td>NaN</td>\n",
       "    </tr>\n",
       "    <tr>\n",
       "      <th>3956</th>\n",
       "      <td>1960.0</td>\n",
       "      <td>M</td>\n",
       "      <td>N</td>\n",
       "      <td>26</td>\n",
       "      <td>NaN</td>\n",
       "    </tr>\n",
       "    <tr>\n",
       "      <th>5427</th>\n",
       "      <td>1909.0</td>\n",
       "      <td>NaN</td>\n",
       "      <td>N</td>\n",
       "      <td>NaN</td>\n",
       "      <td>NaN</td>\n",
       "    </tr>\n",
       "    <tr>\n",
       "      <th>6117</th>\n",
       "      <td>1815.0</td>\n",
       "      <td>M</td>\n",
       "      <td>y</td>\n",
       "      <td>NaN</td>\n",
       "      <td>NaN</td>\n",
       "    </tr>\n",
       "  </tbody>\n",
       "</table>\n",
       "</div>"
      ],
      "text/plain": [
       "        Year  Sex Fatal  Age     Time\n",
       "285   2016.0    M     M   22  Morning\n",
       "563        M    M     M    M        M\n",
       "786   2012.0    M  2017   57  Morning\n",
       "1587       M    M     M    M        M\n",
       "3942  1960.0    F     N   27      NaN\n",
       "3944  1960.0    M     N   33    09h00\n",
       "3946  1960.0    M     N   41    14h45\n",
       "3948  1960.0    M     N   17    15h00\n",
       "3949  1960.0    M     N   24      NaN\n",
       "3951  1960.0    M     N  NaN      NaN\n",
       "3956  1960.0    M     N   26      NaN\n",
       "5427  1909.0  NaN    N   NaN      NaN\n",
       "6117  1815.0    M     y  NaN      NaN"
      ]
     },
     "execution_count": 67,
     "metadata": {},
     "output_type": "execute_result"
    }
   ],
   "source": [
    "df_evolution[(df_evolution[\"Fatal\"] == \" N\") | (df_evolution[\"Fatal\"] == \"M\") | (df_evolution[\"Fatal\"] == \"2017\") | \n",
    "             (df_evolution[\"Fatal\"] == \"N \") | (df_evolution[\"Fatal\"] == \"y\")]"
   ]
  },
  {
   "cell_type": "code",
   "execution_count": 70,
   "id": "d67adb1a",
   "metadata": {},
   "outputs": [],
   "source": [
    "df_evolution[(df_evolution[\"Fatal\"] == \" N\") | (df_evolution[\"Fatal\"] == \"N \") | (df_evolution[\"Fatal\"] == \"M\")] = \"N\"\n",
    "df_evolution[df_evolution[\"Fatal\"] == \"y\"] = \"Y\"\n",
    "df_evolution[(df_evolution[\"Fatal\"] == \"2017\") | (df_evolution[\"Fatal\"] == \"UNKNOWN\")] = None"
   ]
  },
  {
   "cell_type": "code",
   "execution_count": 71,
   "id": "d37d3b3f",
   "metadata": {},
   "outputs": [
    {
     "data": {
      "text/plain": [
       "Fatal\n",
       "N    3260\n",
       "Y     971\n",
       "Name: count, dtype: int64"
      ]
     },
     "execution_count": 71,
     "metadata": {},
     "output_type": "execute_result"
    }
   ],
   "source": [
    "df_evolution[\"Fatal\"].value_counts()"
   ]
  },
  {
   "cell_type": "code",
   "execution_count": 72,
   "id": "9f150a79",
   "metadata": {},
   "outputs": [
    {
     "data": {
      "text/plain": [
       "523"
      ]
     },
     "execution_count": 72,
     "metadata": {},
     "output_type": "execute_result"
    }
   ],
   "source": [
    "df_evolution[\"Fatal\"].isna().sum() # 523 subjects with unknown sex of a total of 4754. More than half the amount of fatal attacks\n",
    "                                        # Not imputable.\n",
    "                                   # I'll keep the missing values"
   ]
  },
  {
   "cell_type": "markdown",
   "id": "74b049ee",
   "metadata": {},
   "source": [
    "### Cleaning of \"Age\" (1397 NaN)"
   ]
  },
  {
   "cell_type": "markdown",
   "id": "5168195f",
   "metadata": {},
   "source": [
    "Time           1885"
   ]
  },
  {
   "cell_type": "code",
   "execution_count": 76,
   "id": "e0a6ed28",
   "metadata": {},
   "outputs": [
    {
     "data": {
      "text/plain": [
       "dtype('O')"
      ]
     },
     "execution_count": 76,
     "metadata": {},
     "output_type": "execute_result"
    }
   ],
   "source": [
    "df_evolution[\"Age\"].dtype"
   ]
  },
  {
   "cell_type": "code",
   "execution_count": null,
   "id": "31547ca8",
   "metadata": {},
   "outputs": [],
   "source": []
  },
  {
   "cell_type": "code",
   "execution_count": null,
   "id": "76c74b8d",
   "metadata": {},
   "outputs": [],
   "source": []
  },
  {
   "cell_type": "code",
   "execution_count": null,
   "id": "7702df88",
   "metadata": {},
   "outputs": [],
   "source": []
  },
  {
   "cell_type": "code",
   "execution_count": null,
   "id": "3c294872",
   "metadata": {},
   "outputs": [],
   "source": []
  },
  {
   "cell_type": "code",
   "execution_count": null,
   "id": "fcae8dc7",
   "metadata": {},
   "outputs": [],
   "source": []
  },
  {
   "cell_type": "code",
   "execution_count": null,
   "id": "e62367b8",
   "metadata": {},
   "outputs": [],
   "source": []
  },
  {
   "cell_type": "code",
   "execution_count": null,
   "id": "e133b19a",
   "metadata": {},
   "outputs": [],
   "source": []
  },
  {
   "cell_type": "code",
   "execution_count": null,
   "id": "ebb3b541",
   "metadata": {},
   "outputs": [],
   "source": []
  }
 ],
 "metadata": {
  "kernelspec": {
   "display_name": "ironhack",
   "language": "python",
   "name": "ironhack"
  },
  "language_info": {
   "codemirror_mode": {
    "name": "ipython",
    "version": 3
   },
   "file_extension": ".py",
   "mimetype": "text/x-python",
   "name": "python",
   "nbconvert_exporter": "python",
   "pygments_lexer": "ipython3",
   "version": "3.11.5"
  }
 },
 "nbformat": 4,
 "nbformat_minor": 5
}
