{
 "cells": [
  {
   "cell_type": "markdown",
   "id": "6ce84033",
   "metadata": {},
   "source": [
    "# Research questions:\n",
    "---\n",
    "Shark related attacks according to sex.\n",
    "- Shark related attacks according to sex, throughout history\n",
    "\n",
    "Shark related deaths according to sex.\n",
    "- Shark related deaths according to sex, throughout history\n",
    "\n",
    "Young sailors:\n",
    "- Shark related child deaths according to sex throughout history\n",
    "---\n",
    "**Bonus question:**\n",
    "- What is a shark's favourite meal?\n",
    "---"
   ]
  },
  {
   "cell_type": "markdown",
   "id": "6ae4da5c",
   "metadata": {},
   "source": [
    "## Libraries"
   ]
  },
  {
   "cell_type": "code",
   "execution_count": 120,
   "id": "69d0e784",
   "metadata": {},
   "outputs": [],
   "source": [
    "import pandas as pd"
   ]
  },
  {
   "cell_type": "markdown",
   "id": "a61757a0",
   "metadata": {},
   "source": [
    "## Subset with variables of interest"
   ]
  },
  {
   "cell_type": "code",
   "execution_count": 121,
   "id": "5558964a",
   "metadata": {},
   "outputs": [],
   "source": [
    "attacks = pd.read_csv(\"../../attacks.csv\", encoding = \"unicode_escape\")\n",
    "df = attacks[[\"Year\", \"Sex \", \"Fatal (Y/N)\", \"Age\", \"Time\"]]"
   ]
  },
  {
   "cell_type": "code",
   "execution_count": 3,
   "id": "66444610",
   "metadata": {
    "scrolled": true
   },
   "outputs": [
    {
     "data": {
      "text/plain": [
       "20940"
      ]
     },
     "execution_count": 3,
     "metadata": {},
     "output_type": "execute_result"
    }
   ],
   "source": [
    "df.duplicated().sum()"
   ]
  },
  {
   "cell_type": "code",
   "execution_count": 4,
   "id": "887170b8",
   "metadata": {},
   "outputs": [
    {
     "name": "stderr",
     "output_type": "stream",
     "text": [
      "C:\\Users\\gdcma\\AppData\\Local\\Temp\\ipykernel_10652\\3424306917.py:1: SettingWithCopyWarning: \n",
      "A value is trying to be set on a copy of a slice from a DataFrame\n",
      "\n",
      "See the caveats in the documentation: https://pandas.pydata.org/pandas-docs/stable/user_guide/indexing.html#returning-a-view-versus-a-copy\n",
      "  df.drop_duplicates(inplace = True)\n"
     ]
    }
   ],
   "source": [
    "df.drop_duplicates(inplace = True)"
   ]
  },
  {
   "cell_type": "code",
   "execution_count": 5,
   "id": "920af60f",
   "metadata": {},
   "outputs": [
    {
     "data": {
      "text/plain": [
       "(4783, 5)"
      ]
     },
     "execution_count": 5,
     "metadata": {},
     "output_type": "execute_result"
    }
   ],
   "source": [
    "df.shape # 4783 unique subjects"
   ]
  },
  {
   "cell_type": "code",
   "execution_count": 6,
   "id": "e6b4281d",
   "metadata": {
    "scrolled": false
   },
   "outputs": [
    {
     "data": {
      "text/plain": [
       "Year              3\n",
       "Sex             377\n",
       "Fatal (Y/N)     460\n",
       "Age            1397\n",
       "Time           1885\n",
       "dtype: int64"
      ]
     },
     "execution_count": 6,
     "metadata": {},
     "output_type": "execute_result"
    }
   ],
   "source": [
    "df.isna().sum()"
   ]
  },
  {
   "cell_type": "markdown",
   "id": "bdcba756",
   "metadata": {},
   "source": [
    "### Cleaning of \"Year\" (only 3 NaN)"
   ]
  },
  {
   "cell_type": "code",
   "execution_count": 7,
   "id": "f84d8e04",
   "metadata": {},
   "outputs": [
    {
     "data": {
      "text/plain": [
       "count    4780.000000\n",
       "mean     1961.906276\n",
       "std       151.480634\n",
       "min         0.000000\n",
       "25%      1955.750000\n",
       "50%      1988.000000\n",
       "75%      2007.000000\n",
       "max      2018.000000\n",
       "Name: Year, dtype: float64"
      ]
     },
     "execution_count": 7,
     "metadata": {},
     "output_type": "execute_result"
    }
   ],
   "source": [
    "df[\"Year\"].describe()"
   ]
  },
  {
   "cell_type": "code",
   "execution_count": 8,
   "id": "18cf6669",
   "metadata": {},
   "outputs": [
    {
     "data": {
      "text/plain": [
       "Index([6177, 6181, 6184, 6185, 6189, 6193, 6198, 6200, 6202, 6226, 6228, 6232,\n",
       "       6238, 6239, 6241, 6242, 6243, 6254, 6259, 6265, 6276, 6277, 6301],\n",
       "      dtype='int64')"
      ]
     },
     "execution_count": 8,
     "metadata": {},
     "output_type": "execute_result"
    }
   ],
   "source": [
    "df[\"Year\"][df[\"Year\"] == df[\"Year\"].min()].index # 23 subjects with Year 0 (plus 3 na)"
   ]
  },
  {
   "cell_type": "code",
   "execution_count": 9,
   "id": "af8b04f2",
   "metadata": {
    "scrolled": true
   },
   "outputs": [],
   "source": [
    "#df[df[\"Year\"] == 0] = float('nan') - > Problematic later. Better to use loc method. float('nan') better than None, to homogeneise\n",
    "df.loc[df[\"Year\"][df[\"Year\"] == 0].index, \"Year\"] = float('nan')"
   ]
  },
  {
   "cell_type": "code",
   "execution_count": 10,
   "id": "c197bff2",
   "metadata": {},
   "outputs": [
    {
     "data": {
      "text/plain": [
       "count    4757.000000\n",
       "mean     1971.392054\n",
       "std        65.979031\n",
       "min         5.000000\n",
       "25%      1956.000000\n",
       "50%      1988.000000\n",
       "75%      2007.000000\n",
       "max      2018.000000\n",
       "Name: Year, dtype: float64"
      ]
     },
     "execution_count": 10,
     "metadata": {},
     "output_type": "execute_result"
    }
   ],
   "source": [
    "df[\"Year\"].describe()"
   ]
  },
  {
   "cell_type": "code",
   "execution_count": 11,
   "id": "9cdf5f8d",
   "metadata": {},
   "outputs": [
    {
     "data": {
      "text/html": [
       "<div>\n",
       "<style scoped>\n",
       "    .dataframe tbody tr th:only-of-type {\n",
       "        vertical-align: middle;\n",
       "    }\n",
       "\n",
       "    .dataframe tbody tr th {\n",
       "        vertical-align: top;\n",
       "    }\n",
       "\n",
       "    .dataframe thead th {\n",
       "        text-align: right;\n",
       "    }\n",
       "</style>\n",
       "<table border=\"1\" class=\"dataframe\">\n",
       "  <thead>\n",
       "    <tr style=\"text-align: right;\">\n",
       "      <th></th>\n",
       "      <th>Year</th>\n",
       "      <th>Sex</th>\n",
       "      <th>Fatal (Y/N)</th>\n",
       "      <th>Age</th>\n",
       "      <th>Time</th>\n",
       "    </tr>\n",
       "  </thead>\n",
       "  <tbody>\n",
       "    <tr>\n",
       "      <th>6176</th>\n",
       "      <td>5.0</td>\n",
       "      <td>M</td>\n",
       "      <td>N</td>\n",
       "      <td>NaN</td>\n",
       "      <td>NaN</td>\n",
       "    </tr>\n",
       "    <tr>\n",
       "      <th>6175</th>\n",
       "      <td>77.0</td>\n",
       "      <td>M</td>\n",
       "      <td>Y</td>\n",
       "      <td>NaN</td>\n",
       "      <td>NaN</td>\n",
       "    </tr>\n",
       "    <tr>\n",
       "      <th>6174</th>\n",
       "      <td>500.0</td>\n",
       "      <td>M</td>\n",
       "      <td>N</td>\n",
       "      <td>NaN</td>\n",
       "      <td>NaN</td>\n",
       "    </tr>\n",
       "    <tr>\n",
       "      <th>6173</th>\n",
       "      <td>1543.0</td>\n",
       "      <td>M</td>\n",
       "      <td>Y</td>\n",
       "      <td>NaN</td>\n",
       "      <td>NaN</td>\n",
       "    </tr>\n",
       "    <tr>\n",
       "      <th>6172</th>\n",
       "      <td>1554.0</td>\n",
       "      <td>M</td>\n",
       "      <td>UNKNOWN</td>\n",
       "      <td>NaN</td>\n",
       "      <td>NaN</td>\n",
       "    </tr>\n",
       "  </tbody>\n",
       "</table>\n",
       "</div>"
      ],
      "text/plain": [
       "        Year Sex  Fatal (Y/N)  Age Time\n",
       "6176     5.0    M           N  NaN  NaN\n",
       "6175    77.0    M           Y  NaN  NaN\n",
       "6174   500.0    M           N  NaN  NaN\n",
       "6173  1543.0    M           Y  NaN  NaN\n",
       "6172  1554.0    M     UNKNOWN  NaN  NaN"
      ]
     },
     "execution_count": 11,
     "metadata": {},
     "output_type": "execute_result"
    }
   ],
   "source": [
    "df.sort_values(by = \"Year\").head()"
   ]
  },
  {
   "cell_type": "code",
   "execution_count": 12,
   "id": "a5c5c8bc",
   "metadata": {},
   "outputs": [],
   "source": [
    "df.loc[df[\"Year\"][df[\"Year\"] < 1000].index, \"Year\"] = float('nan')"
   ]
  },
  {
   "cell_type": "code",
   "execution_count": 13,
   "id": "f406c61a",
   "metadata": {},
   "outputs": [
    {
     "data": {
      "text/plain": [
       "(4783, 5)"
      ]
     },
     "execution_count": 13,
     "metadata": {},
     "output_type": "execute_result"
    }
   ],
   "source": [
    "df.shape # 4783 unique subjects"
   ]
  },
  {
   "cell_type": "markdown",
   "id": "80da3d03",
   "metadata": {},
   "source": [
    "### Cleaning of \"Sex\" (377 NaN)"
   ]
  },
  {
   "cell_type": "code",
   "execution_count": 14,
   "id": "69d3ca92",
   "metadata": {},
   "outputs": [
    {
     "name": "stderr",
     "output_type": "stream",
     "text": [
      "C:\\Users\\gdcma\\AppData\\Local\\Temp\\ipykernel_10652\\3981233909.py:1: SettingWithCopyWarning: \n",
      "A value is trying to be set on a copy of a slice from a DataFrame\n",
      "\n",
      "See the caveats in the documentation: https://pandas.pydata.org/pandas-docs/stable/user_guide/indexing.html#returning-a-view-versus-a-copy\n",
      "  df.rename({\"Sex \":\"Sex\"}, axis = 1, inplace = True)\n"
     ]
    }
   ],
   "source": [
    "df.rename({\"Sex \":\"Sex\"}, axis = 1, inplace = True)"
   ]
  },
  {
   "cell_type": "code",
   "execution_count": 15,
   "id": "2c3ddac4",
   "metadata": {},
   "outputs": [
    {
     "data": {
      "text/plain": [
       "count     4406\n",
       "unique       6\n",
       "top          M\n",
       "freq      3801\n",
       "Name: Sex, dtype: object"
      ]
     },
     "execution_count": 15,
     "metadata": {},
     "output_type": "execute_result"
    }
   ],
   "source": [
    "df[\"Sex\"].describe() # 6 different categories"
   ]
  },
  {
   "cell_type": "code",
   "execution_count": 16,
   "id": "9c3cc5ac",
   "metadata": {
    "scrolled": true
   },
   "outputs": [
    {
     "data": {
      "text/plain": [
       "Sex\n",
       "M      3801\n",
       "F       599\n",
       "M         2\n",
       "N         2\n",
       "lli       1\n",
       ".         1\n",
       "Name: count, dtype: int64"
      ]
     },
     "execution_count": 16,
     "metadata": {},
     "output_type": "execute_result"
    }
   ],
   "source": [
    "df[\"Sex\"].value_counts()"
   ]
  },
  {
   "cell_type": "code",
   "execution_count": 17,
   "id": "bbcdab13",
   "metadata": {},
   "outputs": [
    {
     "data": {
      "text/html": [
       "<div>\n",
       "<style scoped>\n",
       "    .dataframe tbody tr th:only-of-type {\n",
       "        vertical-align: middle;\n",
       "    }\n",
       "\n",
       "    .dataframe tbody tr th {\n",
       "        vertical-align: top;\n",
       "    }\n",
       "\n",
       "    .dataframe thead th {\n",
       "        text-align: right;\n",
       "    }\n",
       "</style>\n",
       "<table border=\"1\" class=\"dataframe\">\n",
       "  <thead>\n",
       "    <tr style=\"text-align: right;\">\n",
       "      <th></th>\n",
       "      <th>Year</th>\n",
       "      <th>Sex</th>\n",
       "      <th>Fatal (Y/N)</th>\n",
       "      <th>Age</th>\n",
       "      <th>Time</th>\n",
       "    </tr>\n",
       "  </thead>\n",
       "  <tbody>\n",
       "    <tr>\n",
       "      <th>563</th>\n",
       "      <td>2014.0</td>\n",
       "      <td>M</td>\n",
       "      <td>N</td>\n",
       "      <td>42</td>\n",
       "      <td>15h30</td>\n",
       "    </tr>\n",
       "    <tr>\n",
       "      <th>1587</th>\n",
       "      <td>2005.0</td>\n",
       "      <td>M</td>\n",
       "      <td>N</td>\n",
       "      <td>NaN</td>\n",
       "      <td>NaN</td>\n",
       "    </tr>\n",
       "    <tr>\n",
       "      <th>1624</th>\n",
       "      <td>2004.0</td>\n",
       "      <td>lli</td>\n",
       "      <td>N</td>\n",
       "      <td>38</td>\n",
       "      <td>13h30</td>\n",
       "    </tr>\n",
       "    <tr>\n",
       "      <th>4938</th>\n",
       "      <td>1934.0</td>\n",
       "      <td>N</td>\n",
       "      <td>N</td>\n",
       "      <td>NaN</td>\n",
       "      <td>NaN</td>\n",
       "    </tr>\n",
       "    <tr>\n",
       "      <th>5437</th>\n",
       "      <td>1908.0</td>\n",
       "      <td>.</td>\n",
       "      <td>Y</td>\n",
       "      <td>NaN</td>\n",
       "      <td>NaN</td>\n",
       "    </tr>\n",
       "    <tr>\n",
       "      <th>6131</th>\n",
       "      <td>1801.0</td>\n",
       "      <td>N</td>\n",
       "      <td>Y</td>\n",
       "      <td>NaN</td>\n",
       "      <td>NaN</td>\n",
       "    </tr>\n",
       "  </tbody>\n",
       "</table>\n",
       "</div>"
      ],
      "text/plain": [
       "        Year  Sex Fatal (Y/N)  Age   Time\n",
       "563   2014.0   M            N   42  15h30\n",
       "1587  2005.0   M            N  NaN    NaN\n",
       "1624  2004.0  lli           N   38  13h30\n",
       "4938  1934.0    N           N  NaN    NaN\n",
       "5437  1908.0    .           Y  NaN    NaN\n",
       "6131  1801.0    N           Y  NaN    NaN"
      ]
     },
     "execution_count": 17,
     "metadata": {},
     "output_type": "execute_result"
    }
   ],
   "source": [
    "df[(df[\"Sex\"] == \"M \") | (df[\"Sex\"] == \"N\") | (df[\"Sex\"] == \"lli\") | (df[\"Sex\"] == \".\")]"
   ]
  },
  {
   "cell_type": "code",
   "execution_count": 18,
   "id": "47de3937",
   "metadata": {},
   "outputs": [],
   "source": [
    "df.loc[df[\"Sex\"][df[\"Sex\"] == \"M \"].index, \"Sex\"] = \"M\"\n",
    "df.loc[df[\"Sex\"][(df[\"Sex\"] == \"N\") | (df[\"Sex\"] == \"lli\") | (df[\"Sex\"] == \".\")].index, \"Sex\"] = float('nan')"
   ]
  },
  {
   "cell_type": "code",
   "execution_count": 19,
   "id": "f4f93cf5",
   "metadata": {},
   "outputs": [
    {
     "data": {
      "text/plain": [
       "Sex\n",
       "M    3803\n",
       "F     599\n",
       "Name: count, dtype: int64"
      ]
     },
     "execution_count": 19,
     "metadata": {},
     "output_type": "execute_result"
    }
   ],
   "source": [
    "df[\"Sex\"].value_counts()"
   ]
  },
  {
   "cell_type": "code",
   "execution_count": 20,
   "id": "c662e94e",
   "metadata": {},
   "outputs": [
    {
     "data": {
      "text/plain": [
       "381"
      ]
     },
     "execution_count": 20,
     "metadata": {},
     "output_type": "execute_result"
    }
   ],
   "source": [
    "df[\"Sex\"].isna().sum() # 381 subjects with unknown sex of a total of 4783. More than half the amount of \"F\".\n",
    "                           # Not imputable."
   ]
  },
  {
   "cell_type": "markdown",
   "id": "f8860693",
   "metadata": {},
   "source": [
    "### Cleaning of \"Fatal (Y/N)\" (460 NaN)"
   ]
  },
  {
   "cell_type": "code",
   "execution_count": 21,
   "id": "4c4f5e59",
   "metadata": {},
   "outputs": [
    {
     "name": "stderr",
     "output_type": "stream",
     "text": [
      "C:\\Users\\gdcma\\AppData\\Local\\Temp\\ipykernel_10652\\2859628926.py:1: SettingWithCopyWarning: \n",
      "A value is trying to be set on a copy of a slice from a DataFrame\n",
      "\n",
      "See the caveats in the documentation: https://pandas.pydata.org/pandas-docs/stable/user_guide/indexing.html#returning-a-view-versus-a-copy\n",
      "  df.rename({\"Fatal (Y/N)\":\"Fatal\"}, axis = 1, inplace = True)\n"
     ]
    }
   ],
   "source": [
    "df.rename({\"Fatal (Y/N)\":\"Fatal\"}, axis = 1, inplace = True)"
   ]
  },
  {
   "cell_type": "code",
   "execution_count": 22,
   "id": "6fe8e4d6",
   "metadata": {},
   "outputs": [
    {
     "data": {
      "text/plain": [
       "count     4323\n",
       "unique       8\n",
       "top          N\n",
       "freq      3267\n",
       "Name: Fatal, dtype: object"
      ]
     },
     "execution_count": 22,
     "metadata": {},
     "output_type": "execute_result"
    }
   ],
   "source": [
    "df[\"Fatal\"].describe() # 8 different categories"
   ]
  },
  {
   "cell_type": "code",
   "execution_count": 23,
   "id": "8dea67d5",
   "metadata": {},
   "outputs": [
    {
     "data": {
      "text/plain": [
       "Fatal\n",
       "N          3267\n",
       "Y           983\n",
       "UNKNOWN      62\n",
       " N            7\n",
       "M             1\n",
       "2017          1\n",
       "N             1\n",
       "y             1\n",
       "Name: count, dtype: int64"
      ]
     },
     "execution_count": 23,
     "metadata": {},
     "output_type": "execute_result"
    }
   ],
   "source": [
    "df[\"Fatal\"].value_counts()"
   ]
  },
  {
   "cell_type": "code",
   "execution_count": 24,
   "id": "e8d307eb",
   "metadata": {
    "scrolled": true
   },
   "outputs": [
    {
     "data": {
      "text/html": [
       "<div>\n",
       "<style scoped>\n",
       "    .dataframe tbody tr th:only-of-type {\n",
       "        vertical-align: middle;\n",
       "    }\n",
       "\n",
       "    .dataframe tbody tr th {\n",
       "        vertical-align: top;\n",
       "    }\n",
       "\n",
       "    .dataframe thead th {\n",
       "        text-align: right;\n",
       "    }\n",
       "</style>\n",
       "<table border=\"1\" class=\"dataframe\">\n",
       "  <thead>\n",
       "    <tr style=\"text-align: right;\">\n",
       "      <th></th>\n",
       "      <th>Year</th>\n",
       "      <th>Sex</th>\n",
       "      <th>Fatal</th>\n",
       "      <th>Age</th>\n",
       "      <th>Time</th>\n",
       "    </tr>\n",
       "  </thead>\n",
       "  <tbody>\n",
       "    <tr>\n",
       "      <th>285</th>\n",
       "      <td>2016.0</td>\n",
       "      <td>M</td>\n",
       "      <td>M</td>\n",
       "      <td>22</td>\n",
       "      <td>Morning</td>\n",
       "    </tr>\n",
       "    <tr>\n",
       "      <th>786</th>\n",
       "      <td>2012.0</td>\n",
       "      <td>M</td>\n",
       "      <td>2017</td>\n",
       "      <td>57</td>\n",
       "      <td>Morning</td>\n",
       "    </tr>\n",
       "    <tr>\n",
       "      <th>3942</th>\n",
       "      <td>1960.0</td>\n",
       "      <td>F</td>\n",
       "      <td>N</td>\n",
       "      <td>27</td>\n",
       "      <td>NaN</td>\n",
       "    </tr>\n",
       "    <tr>\n",
       "      <th>3944</th>\n",
       "      <td>1960.0</td>\n",
       "      <td>M</td>\n",
       "      <td>N</td>\n",
       "      <td>33</td>\n",
       "      <td>09h00</td>\n",
       "    </tr>\n",
       "    <tr>\n",
       "      <th>3946</th>\n",
       "      <td>1960.0</td>\n",
       "      <td>M</td>\n",
       "      <td>N</td>\n",
       "      <td>41</td>\n",
       "      <td>14h45</td>\n",
       "    </tr>\n",
       "    <tr>\n",
       "      <th>3948</th>\n",
       "      <td>1960.0</td>\n",
       "      <td>M</td>\n",
       "      <td>N</td>\n",
       "      <td>17</td>\n",
       "      <td>15h00</td>\n",
       "    </tr>\n",
       "    <tr>\n",
       "      <th>3949</th>\n",
       "      <td>1960.0</td>\n",
       "      <td>M</td>\n",
       "      <td>N</td>\n",
       "      <td>24</td>\n",
       "      <td>NaN</td>\n",
       "    </tr>\n",
       "    <tr>\n",
       "      <th>3951</th>\n",
       "      <td>1960.0</td>\n",
       "      <td>M</td>\n",
       "      <td>N</td>\n",
       "      <td>NaN</td>\n",
       "      <td>NaN</td>\n",
       "    </tr>\n",
       "    <tr>\n",
       "      <th>3956</th>\n",
       "      <td>1960.0</td>\n",
       "      <td>M</td>\n",
       "      <td>N</td>\n",
       "      <td>26</td>\n",
       "      <td>NaN</td>\n",
       "    </tr>\n",
       "    <tr>\n",
       "      <th>5427</th>\n",
       "      <td>1909.0</td>\n",
       "      <td>NaN</td>\n",
       "      <td>N</td>\n",
       "      <td>NaN</td>\n",
       "      <td>NaN</td>\n",
       "    </tr>\n",
       "    <tr>\n",
       "      <th>6117</th>\n",
       "      <td>1815.0</td>\n",
       "      <td>M</td>\n",
       "      <td>y</td>\n",
       "      <td>NaN</td>\n",
       "      <td>NaN</td>\n",
       "    </tr>\n",
       "  </tbody>\n",
       "</table>\n",
       "</div>"
      ],
      "text/plain": [
       "        Year  Sex Fatal  Age     Time\n",
       "285   2016.0    M     M   22  Morning\n",
       "786   2012.0    M  2017   57  Morning\n",
       "3942  1960.0    F     N   27      NaN\n",
       "3944  1960.0    M     N   33    09h00\n",
       "3946  1960.0    M     N   41    14h45\n",
       "3948  1960.0    M     N   17    15h00\n",
       "3949  1960.0    M     N   24      NaN\n",
       "3951  1960.0    M     N  NaN      NaN\n",
       "3956  1960.0    M     N   26      NaN\n",
       "5427  1909.0  NaN    N   NaN      NaN\n",
       "6117  1815.0    M     y  NaN      NaN"
      ]
     },
     "execution_count": 24,
     "metadata": {},
     "output_type": "execute_result"
    }
   ],
   "source": [
    "df[(df[\"Fatal\"] == \" N\") | (df[\"Fatal\"] == \"M\") | (df[\"Fatal\"] == \"2017\") | (df[\"Fatal\"] == \"N \") | (df[\"Fatal\"] == \"y\")]"
   ]
  },
  {
   "cell_type": "code",
   "execution_count": 25,
   "id": "d67adb1a",
   "metadata": {},
   "outputs": [],
   "source": [
    "df.loc[df[\"Fatal\"][(df[\"Fatal\"] == \" N\") | (df[\"Fatal\"] == \"N \") | (df[\"Fatal\"] == \"M\")].index, \"Fatal\"] = \"N\"\n",
    "df.loc[df[\"Fatal\"][df[\"Fatal\"] == \"y\"].index, \"Fatal\"] = \"Y\"\n",
    "df.loc[df[\"Fatal\"][(df[\"Fatal\"] == \"2017\") | (df[\"Fatal\"] == \"UNKNOWN\")].index, \"Fatal\"] = float('nan')"
   ]
  },
  {
   "cell_type": "code",
   "execution_count": 26,
   "id": "d37d3b3f",
   "metadata": {},
   "outputs": [
    {
     "data": {
      "text/plain": [
       "Fatal\n",
       "N    3276\n",
       "Y     984\n",
       "Name: count, dtype: int64"
      ]
     },
     "execution_count": 26,
     "metadata": {},
     "output_type": "execute_result"
    }
   ],
   "source": [
    "df[\"Fatal\"].value_counts()"
   ]
  },
  {
   "cell_type": "code",
   "execution_count": 27,
   "id": "9f150a79",
   "metadata": {},
   "outputs": [
    {
     "data": {
      "text/plain": [
       "523"
      ]
     },
     "execution_count": 27,
     "metadata": {},
     "output_type": "execute_result"
    }
   ],
   "source": [
    "df[\"Fatal\"].isna().sum() # 523 subjects with unknown death of a total of 4783. More than half the amount of fatal attacks\n",
    "                                        # Not imputable."
   ]
  },
  {
   "cell_type": "markdown",
   "id": "74b049ee",
   "metadata": {},
   "source": [
    "### Cleaning of \"Age\" (1397 NaN)"
   ]
  },
  {
   "cell_type": "code",
   "execution_count": 28,
   "id": "e0a6ed28",
   "metadata": {},
   "outputs": [
    {
     "name": "stdout",
     "output_type": "stream",
     "text": [
      "<class 'pandas.core.series.Series'>\n",
      "Index: 4783 entries, 0 to 6302\n",
      "Series name: Age\n",
      "Non-Null Count  Dtype \n",
      "--------------  ----- \n",
      "3386 non-null   object\n",
      "dtypes: object(1)\n",
      "memory usage: 203.8+ KB\n"
     ]
    }
   ],
   "source": [
    "# df[\"Age\"] = pd.to_numeric(df[\"Age\"])\n",
    "df.Age.info()"
   ]
  },
  {
   "cell_type": "markdown",
   "id": "7560d93f",
   "metadata": {},
   "source": [
    "ISSUES:\n",
    "- Years ending with an 's' with or without apostrophe (40's, 20s) - > They are trasnformed as half the period they refer to (45 or 25): `(\\d{1,2})'?s`\n",
    "- `\"Teen\", \"teen\", \"Teens\"` - > Transform to 15 years\n",
    "- `\"N\", \" \", \"\\xa0 \", \"X\", \"MAKE LINE GREEN\", \"F\", \"  \", \"A.M.\", \"Y\"` - > Transform to NaN\n",
    "- `\"18 months\"` - > Transform to 1\n",
    "- `\"6½\" - > Transform to 6\n",
    "- `\"20?\", \"18 to 22\"` - > Transform to 20\n",
    "- `\"16 to 18\"` - > Transform to 17\n",
    "- `\"Elderly\"` - > Transform to 70\n",
    "- `\"Ca. 33\"` - > Transform to 33\n",
    "- `\">50\"` - > Transform to 55\n",
    "- `\"adult\", \"(adult)\"` - > Transform to 35\n",
    "- `\"9 months\", \"2 to 3 months\"` - > Transform to 0\n",
    "- `\"25 to 35\"` - > Transform to 30\n",
    "- `\"\"middle-age\"\"` - > Transform to 50\n",
    "- `\"\"young\"\", \"young\"` - > Transform to 25\n",
    "- `\"2½\"` - > Transform to 2\n",
    "- One age or the other - > Transform to the upper mean\n",
    "    - `\"18 or 20\"` - > Transform to 19\n",
    "    - `\"12 or 13\"` - > Transform to 13\n",
    "    - `\"8 or 10\"` -> Transform to 9\n",
    "    - `\"33 or 37\"` - > Transform to 35\n",
    "    - `\"30 or 36\"` - > Transform to 33\n",
    "    - `\"21 or 26\"` - > Transform to 24\n",
    "    - `\"25 or 28\"` - > Transform to 27\n",
    "    - `\"13 or 18\"` - > Transform to 16\n",
    "    - `\"7 or 8\"` - > Transform to 8\n",
    "    - `\"9 or 10\"` - > Transform to 10\n",
    "    - `\"10 or 12\"` - > Transform to 11\n",
    "    - `\"31 or 33\"` - > Transform to 32\n",
    "    - `\"13 or 14\"` - > Transform to 14\n",
    "- One age and the other - > Duplicate row as they are two different subjects in the same incident (some incidents involve very different ages)\n",
    "    - `\"28 & 26\"`\n",
    "    - `\"46 & 34\"`\n",
    "    - `\"28, 23 & 30\"`\n",
    "    - `\"36 & 26\"`\n",
    "    - `\"21 & ?\"`\n",
    "    - `\"23 & 20\"`\n",
    "    - `\"7      &    31\"`\n",
    "    - `\"32 & 30\"`\n",
    "    - `\"9 & 12\"`\n",
    "    - `\"? & 19\"`\n",
    "    - `\"23 & 26\"`\n",
    "    - `\"33 & 37\"`\n",
    "    - `\"37, 67, 35, 27,  ? & 27\"`\n",
    "    - `\"21, 34,24 & 35\"`\n",
    "    - `\"30 & 32\"`\n",
    "    - `\"50 & 30\"`\n",
    "    - `\"17 & 35\"`\n",
    "    - `\"34 & 19\"`\n",
    "    - `\"33 & 26\"`\n",
    "    - `\"17 & 16\"`\n",
    "    - `\"Both 11\"`\n",
    "    - `\"36 & 23\"`\n",
    "    - `\"?    &   14\"`"
   ]
  },
  {
   "cell_type": "markdown",
   "id": "e393df59",
   "metadata": {},
   "source": [
    "#### Years ending with an 's' with or without apostrophe"
   ]
  },
  {
   "cell_type": "code",
   "execution_count": 29,
   "id": "31547ca8",
   "metadata": {},
   "outputs": [
    {
     "name": "stderr",
     "output_type": "stream",
     "text": [
      "C:\\Users\\gdcma\\AppData\\Local\\Temp\\ipykernel_10652\\3714912794.py:1: SettingWithCopyWarning: \n",
      "A value is trying to be set on a copy of a slice from a DataFrame.\n",
      "Try using .loc[row_indexer,col_indexer] = value instead\n",
      "\n",
      "See the caveats in the documentation: https://pandas.pydata.org/pandas-docs/stable/user_guide/indexing.html#returning-a-view-versus-a-copy\n",
      "  df[\"col1\"] = df[\"Age\"].str.extract(\"(\\d{1,2})'?s\")\n"
     ]
    }
   ],
   "source": [
    "df[\"col1\"] = df[\"Age\"].str.extract(\"(\\d{1,2})'?s\")"
   ]
  },
  {
   "cell_type": "code",
   "execution_count": 30,
   "id": "7702df88",
   "metadata": {},
   "outputs": [
    {
     "name": "stderr",
     "output_type": "stream",
     "text": [
      "C:\\Users\\gdcma\\AppData\\Local\\Temp\\ipykernel_10652\\2478760014.py:1: SettingWithCopyWarning: \n",
      "A value is trying to be set on a copy of a slice from a DataFrame.\n",
      "Try using .loc[row_indexer,col_indexer] = value instead\n",
      "\n",
      "See the caveats in the documentation: https://pandas.pydata.org/pandas-docs/stable/user_guide/indexing.html#returning-a-view-versus-a-copy\n",
      "  df[\"col1\"] = pd.to_numeric(df[\"col1\"]) + 5\n"
     ]
    }
   ],
   "source": [
    "df[\"col1\"] = pd.to_numeric(df[\"col1\"]) + 5"
   ]
  },
  {
   "cell_type": "code",
   "execution_count": 31,
   "id": "3c294872",
   "metadata": {},
   "outputs": [
    {
     "name": "stderr",
     "output_type": "stream",
     "text": [
      "C:\\Users\\gdcma\\AppData\\Local\\Temp\\ipykernel_10652\\4221263905.py:1: SettingWithCopyWarning: \n",
      "A value is trying to be set on a copy of a slice from a DataFrame.\n",
      "Try using .loc[row_indexer,col_indexer] = value instead\n",
      "\n",
      "See the caveats in the documentation: https://pandas.pydata.org/pandas-docs/stable/user_guide/indexing.html#returning-a-view-versus-a-copy\n",
      "  df[\"col1\"] = df[\"col1\"].astype(\"object\")\n"
     ]
    }
   ],
   "source": [
    "df[\"col1\"] = df[\"col1\"].astype(\"object\")"
   ]
  },
  {
   "cell_type": "code",
   "execution_count": 32,
   "id": "e62367b8",
   "metadata": {
    "scrolled": true
   },
   "outputs": [
    {
     "data": {
      "text/plain": [
       "Index([  48,  150,  194,  219,  468,  502,  509,  522,  743,  881, 1481, 1483,\n",
       "       1526, 1625, 1955, 2496, 2634, 2635, 2895, 2966, 3082, 3289, 5061],\n",
       "      dtype='int64')"
      ]
     },
     "execution_count": 32,
     "metadata": {},
     "output_type": "execute_result"
    }
   ],
   "source": [
    "df[\"col1\"][df[\"col1\"].notna()].index"
   ]
  },
  {
   "cell_type": "code",
   "execution_count": 33,
   "id": "e133b19a",
   "metadata": {},
   "outputs": [],
   "source": [
    "# To assign values of col1 in column Age only if col1 is not na:\n",
    "    # df.loc(indexes where col1 is not na, in column Age) = df.loc(indexes qhere col1 is not na, in column col1)\n",
    "df.loc[df[\"col1\"][df[\"col1\"].notna()].index, \"Age\"] = df.loc[df[\"col1\"][df[\"col1\"].notna()].index, \"col1\"]"
   ]
  },
  {
   "cell_type": "code",
   "execution_count": 34,
   "id": "508b4e6a",
   "metadata": {},
   "outputs": [
    {
     "name": "stderr",
     "output_type": "stream",
     "text": [
      "C:\\Users\\gdcma\\AppData\\Local\\Temp\\ipykernel_10652\\1224089297.py:1: SettingWithCopyWarning: \n",
      "A value is trying to be set on a copy of a slice from a DataFrame\n",
      "\n",
      "See the caveats in the documentation: https://pandas.pydata.org/pandas-docs/stable/user_guide/indexing.html#returning-a-view-versus-a-copy\n",
      "  df.drop([\"col1\"], axis = 1, inplace = True)\n"
     ]
    }
   ],
   "source": [
    "df.drop([\"col1\"], axis = 1, inplace = True)"
   ]
  },
  {
   "cell_type": "markdown",
   "id": "e38d49e6",
   "metadata": {},
   "source": [
    "#### \"Teen\", \"teen\", \"Teens\""
   ]
  },
  {
   "cell_type": "code",
   "execution_count": 35,
   "id": "e817c116",
   "metadata": {},
   "outputs": [],
   "source": [
    "df.loc[df[\"Age\"][(df[\"Age\"] == \"Teen\") | (df[\"Age\"] == \"teen\") | (df[\"Age\"] == \"Teens\")].index, \"Age\"] = \"15\""
   ]
  },
  {
   "cell_type": "markdown",
   "id": "9a6e8b6a",
   "metadata": {},
   "source": [
    "#### \"N\", \" \", \"\\xa0 \", \"MAKE LINE GREEN\", \"F\", \"  \", \"A.M.\", \"Y\""
   ]
  },
  {
   "cell_type": "code",
   "execution_count": 36,
   "id": "a48e8529",
   "metadata": {},
   "outputs": [
    {
     "data": {
      "text/html": [
       "<div>\n",
       "<style scoped>\n",
       "    .dataframe tbody tr th:only-of-type {\n",
       "        vertical-align: middle;\n",
       "    }\n",
       "\n",
       "    .dataframe tbody tr th {\n",
       "        vertical-align: top;\n",
       "    }\n",
       "\n",
       "    .dataframe thead th {\n",
       "        text-align: right;\n",
       "    }\n",
       "</style>\n",
       "<table border=\"1\" class=\"dataframe\">\n",
       "  <thead>\n",
       "    <tr style=\"text-align: right;\">\n",
       "      <th></th>\n",
       "      <th>Year</th>\n",
       "      <th>Sex</th>\n",
       "      <th>Fatal</th>\n",
       "      <th>Age</th>\n",
       "      <th>Time</th>\n",
       "    </tr>\n",
       "  </thead>\n",
       "  <tbody>\n",
       "    <tr>\n",
       "      <th>1824</th>\n",
       "      <td>2002.0</td>\n",
       "      <td>M</td>\n",
       "      <td>N</td>\n",
       "      <td></td>\n",
       "      <td>Afternoon</td>\n",
       "    </tr>\n",
       "    <tr>\n",
       "      <th>1825</th>\n",
       "      <td>2002.0</td>\n",
       "      <td>M</td>\n",
       "      <td>N</td>\n",
       "      <td></td>\n",
       "      <td>15h00</td>\n",
       "    </tr>\n",
       "    <tr>\n",
       "      <th>3108</th>\n",
       "      <td>1978.0</td>\n",
       "      <td>M</td>\n",
       "      <td>N</td>\n",
       "      <td></td>\n",
       "      <td>NaN</td>\n",
       "    </tr>\n",
       "    <tr>\n",
       "      <th>4052</th>\n",
       "      <td>1959.0</td>\n",
       "      <td>M</td>\n",
       "      <td>Y</td>\n",
       "      <td>X</td>\n",
       "      <td>NaN</td>\n",
       "    </tr>\n",
       "    <tr>\n",
       "      <th>4390</th>\n",
       "      <td>1953.0</td>\n",
       "      <td>NaN</td>\n",
       "      <td>N</td>\n",
       "      <td>MAKE LINE GREEN</td>\n",
       "      <td>Afternoon</td>\n",
       "    </tr>\n",
       "    <tr>\n",
       "      <th>4676</th>\n",
       "      <td>1943.0</td>\n",
       "      <td>M</td>\n",
       "      <td>Y</td>\n",
       "      <td>F</td>\n",
       "      <td>After 04h00</td>\n",
       "    </tr>\n",
       "    <tr>\n",
       "      <th>5084</th>\n",
       "      <td>1929.0</td>\n",
       "      <td>M</td>\n",
       "      <td>Y</td>\n",
       "      <td></td>\n",
       "      <td>17h30</td>\n",
       "    </tr>\n",
       "    <tr>\n",
       "      <th>5170</th>\n",
       "      <td>1925.0</td>\n",
       "      <td>M</td>\n",
       "      <td>Y</td>\n",
       "      <td>A.M.</td>\n",
       "      <td>NaN</td>\n",
       "    </tr>\n",
       "  </tbody>\n",
       "</table>\n",
       "</div>"
      ],
      "text/plain": [
       "        Year  Sex Fatal              Age         Time\n",
       "1824  2002.0    M     N                     Afternoon\n",
       "1825  2002.0    M     N                         15h00\n",
       "3108  1978.0    M     N                           NaN\n",
       "4052  1959.0    M     Y                X          NaN\n",
       "4390  1953.0  NaN     N  MAKE LINE GREEN    Afternoon\n",
       "4676  1943.0    M     Y                F  After 04h00\n",
       "5084  1929.0    M     Y                         17h30\n",
       "5170  1925.0    M     Y             A.M.          NaN"
      ]
     },
     "execution_count": 36,
     "metadata": {},
     "output_type": "execute_result"
    }
   ],
   "source": [
    "df.loc[df[\"Age\"][(df[\"Age\"] == \"N\") | (df[\"Age\"] == \" \") | (df[\"Age\"] == \"\\xa0 \") | (df[\"Age\"] == \"X\") |\n",
    "                (df[\"Age\"] == \"MAKE LINE GREEN\") | (df[\"Age\"] == \"F\") | (df[\"Age\"] == \"  \") | (df[\"Age\"] == \"A.M.\") |\n",
    "                (df[\"Age\"] == \"Y\")].index]"
   ]
  },
  {
   "cell_type": "code",
   "execution_count": 37,
   "id": "84df51f3",
   "metadata": {},
   "outputs": [],
   "source": [
    "df.loc[df[\"Age\"][(df[\"Age\"] == \"N\") | (df[\"Age\"] == \" \") | (df[\"Age\"] == \"\\xa0 \") | (df[\"Age\"] == \"X\") |\n",
    "                (df[\"Age\"] == \"MAKE LINE GREEN\") | (df[\"Age\"] == \"F\") | (df[\"Age\"] == \"  \") | (df[\"Age\"] == \"A.M.\") |\n",
    "                (df[\"Age\"] == \"Y\")].index, \"Age\"] = float('nan')"
   ]
  },
  {
   "cell_type": "markdown",
   "id": "c26a41c4",
   "metadata": {},
   "source": [
    "#### \"18 months\""
   ]
  },
  {
   "cell_type": "code",
   "execution_count": 38,
   "id": "6ae694c3",
   "metadata": {},
   "outputs": [],
   "source": [
    "df.loc[df[\"Age\"][df[\"Age\"] == \"18 months\"].index, \"Age\"] = \"1\""
   ]
  },
  {
   "cell_type": "markdown",
   "id": "e917c14f",
   "metadata": {},
   "source": [
    "#### \"6½\""
   ]
  },
  {
   "cell_type": "code",
   "execution_count": 39,
   "id": "4a70aec2",
   "metadata": {},
   "outputs": [],
   "source": [
    "df.loc[df[\"Age\"][df[\"Age\"] == \"6½\"].index, \"Age\"] = \"6\""
   ]
  },
  {
   "cell_type": "markdown",
   "id": "39aca30a",
   "metadata": {},
   "source": [
    "#### \"20?\""
   ]
  },
  {
   "cell_type": "code",
   "execution_count": 40,
   "id": "d0668816",
   "metadata": {},
   "outputs": [],
   "source": [
    "df.loc[df[\"Age\"][(df[\"Age\"] == \"20?\") | (df[\"Age\"] == \"18 to 22\")].index, \"Age\"] = \"20\""
   ]
  },
  {
   "cell_type": "markdown",
   "id": "dbbfa047",
   "metadata": {},
   "source": [
    "#### \"16 to 18\""
   ]
  },
  {
   "cell_type": "code",
   "execution_count": 41,
   "id": "0e53c11a",
   "metadata": {},
   "outputs": [],
   "source": [
    "df.loc[df[\"Age\"][df[\"Age\"] == \"16 to 18\"].index, \"Age\"] = \"17\""
   ]
  },
  {
   "cell_type": "markdown",
   "id": "d33eedb9",
   "metadata": {},
   "source": [
    "#### \"Elderly\""
   ]
  },
  {
   "cell_type": "code",
   "execution_count": 42,
   "id": "48711d65",
   "metadata": {},
   "outputs": [],
   "source": [
    "df.loc[df[\"Age\"][df[\"Age\"] == \"Elderly\"].index, \"Age\"] = \"70\""
   ]
  },
  {
   "cell_type": "markdown",
   "id": "8cbb6dde",
   "metadata": {},
   "source": [
    "#### \"Ca. 33\""
   ]
  },
  {
   "cell_type": "code",
   "execution_count": 43,
   "id": "a5236bef",
   "metadata": {},
   "outputs": [],
   "source": [
    "df.loc[df[\"Age\"][df[\"Age\"] == \"Ca. 33\"].index, \"Age\"] = \"33\""
   ]
  },
  {
   "cell_type": "markdown",
   "id": "75f12dd8",
   "metadata": {},
   "source": [
    "#### \">50\" "
   ]
  },
  {
   "cell_type": "code",
   "execution_count": 44,
   "id": "50e45427",
   "metadata": {},
   "outputs": [],
   "source": [
    "df.loc[df[\"Age\"][df[\"Age\"] == \">50\"].index, \"Age\"] = \"55\""
   ]
  },
  {
   "cell_type": "markdown",
   "id": "6657500c",
   "metadata": {},
   "source": [
    "#### \"adult\", \"(adult)\""
   ]
  },
  {
   "cell_type": "code",
   "execution_count": 45,
   "id": "af60d6f2",
   "metadata": {},
   "outputs": [],
   "source": [
    "df.loc[df[\"Age\"][(df[\"Age\"] == \"adult\") | (df[\"Age\"] == \"(adult)\")].index, \"Age\"] = \"35\""
   ]
  },
  {
   "cell_type": "markdown",
   "id": "c1948b2e",
   "metadata": {},
   "source": [
    "#### \"9 months\", \"2 to 3 months\""
   ]
  },
  {
   "cell_type": "code",
   "execution_count": 46,
   "id": "3f3f36d5",
   "metadata": {},
   "outputs": [],
   "source": [
    "df.loc[df[\"Age\"][(df[\"Age\"] == \"9 months\") | (df[\"Age\"] == \"2 to 3 months\")].index, \"Age\"] = \"0\""
   ]
  },
  {
   "cell_type": "markdown",
   "id": "ba52410a",
   "metadata": {},
   "source": [
    "#### \"25 to 35\""
   ]
  },
  {
   "cell_type": "code",
   "execution_count": 47,
   "id": "ec0ca908",
   "metadata": {},
   "outputs": [],
   "source": [
    "df.loc[df[\"Age\"][df[\"Age\"] == \"25 to 35\"].index, \"Age\"] = \"30\""
   ]
  },
  {
   "cell_type": "markdown",
   "id": "45ad140a",
   "metadata": {},
   "source": [
    "#### \"\"middle-age\"\""
   ]
  },
  {
   "cell_type": "code",
   "execution_count": 48,
   "id": "12ebe6a1",
   "metadata": {},
   "outputs": [],
   "source": [
    "df.loc[df[\"Age\"][df[\"Age\"] == '\"middle-age\"'].index, \"Age\"] = \"50\""
   ]
  },
  {
   "cell_type": "markdown",
   "id": "da9c6e6e",
   "metadata": {},
   "source": [
    "#### \"\"young\"\", \"young\""
   ]
  },
  {
   "cell_type": "code",
   "execution_count": 49,
   "id": "e6fd7a8f",
   "metadata": {},
   "outputs": [],
   "source": [
    "df.loc[df[\"Age\"][(df[\"Age\"] == '\"young\"') | (df[\"Age\"] == \"young\")].index, \"Age\"] = \"25\""
   ]
  },
  {
   "cell_type": "markdown",
   "id": "26d1a945",
   "metadata": {},
   "source": [
    "#### \"2½\""
   ]
  },
  {
   "cell_type": "code",
   "execution_count": 50,
   "id": "c53d75ca",
   "metadata": {},
   "outputs": [],
   "source": [
    "df.loc[df[\"Age\"][df[\"Age\"] == \"2½\"].index, \"Age\"] = \"2\""
   ]
  },
  {
   "cell_type": "markdown",
   "id": "becfe470",
   "metadata": {},
   "source": [
    "#### One age or the other"
   ]
  },
  {
   "cell_type": "code",
   "execution_count": 51,
   "id": "b57af23b",
   "metadata": {},
   "outputs": [],
   "source": [
    "df.loc[df[\"Age\"][df[\"Age\"] == \"18 or 20\"].index, \"Age\"] = \"19\"\n",
    "df.loc[df[\"Age\"][df[\"Age\"] == \"12 or 13\"].index, \"Age\"] = \"13\"\n",
    "df.loc[df[\"Age\"][df[\"Age\"] == \"8 or 10\"].index, \"Age\"] = \"9\"\n",
    "df.loc[df[\"Age\"][df[\"Age\"] == \"30 or 36\"].index, \"Age\"] = \"33\"\n",
    "df.loc[df[\"Age\"][df[\"Age\"] == \"33 or 37\"].index, \"Age\"] = \"35\"\n",
    "df.loc[df[\"Age\"][df[\"Age\"] == \"21 or 26\"].index, \"Age\"] = \"24\"\n",
    "df.loc[df[\"Age\"][df[\"Age\"] == \"25 or 28\"].index, \"Age\"] = \"27\"\n",
    "df.loc[df[\"Age\"][df[\"Age\"] == \"13 or 18\"].index, \"Age\"] = \"26\"\n",
    "df.loc[df[\"Age\"][df[\"Age\"] == \"7 or 8\"].index, \"Age\"] = \"8\"\n",
    "df.loc[df[\"Age\"][df[\"Age\"] == \"9 or 10\"].index, \"Age\"] = \"10\"\n",
    "df.loc[df[\"Age\"][df[\"Age\"] == \"10 or 12\"].index, \"Age\"] = \"11\"\n",
    "df.loc[df[\"Age\"][df[\"Age\"] == \"31 or 33\"].index, \"Age\"] = \"32\"\n",
    "df.loc[df[\"Age\"][df[\"Age\"] == \"13 or 14\"].index, \"Age\"] = \"14\""
   ]
  },
  {
   "cell_type": "markdown",
   "id": "0419183a",
   "metadata": {},
   "source": [
    "#### One age and the other"
   ]
  },
  {
   "cell_type": "code",
   "execution_count": 52,
   "id": "982a7fbf",
   "metadata": {},
   "outputs": [
    {
     "data": {
      "text/plain": [
       "Index([   0,    1,    2,    3,    6,    7,    8,    9,   10,   11,\n",
       "       ...\n",
       "       6241, 6242, 6243, 6254, 6259, 6265, 6276, 6277, 6301, 6302],\n",
       "      dtype='int64', length=4783)"
      ]
     },
     "execution_count": 52,
     "metadata": {},
     "output_type": "execute_result"
    }
   ],
   "source": [
    "df.Age.index"
   ]
  },
  {
   "cell_type": "code",
   "execution_count": 53,
   "id": "82c53c28",
   "metadata": {},
   "outputs": [
    {
     "data": {
      "text/html": [
       "<div>\n",
       "<style scoped>\n",
       "    .dataframe tbody tr th:only-of-type {\n",
       "        vertical-align: middle;\n",
       "    }\n",
       "\n",
       "    .dataframe tbody tr th {\n",
       "        vertical-align: top;\n",
       "    }\n",
       "\n",
       "    .dataframe thead th {\n",
       "        text-align: right;\n",
       "    }\n",
       "</style>\n",
       "<table border=\"1\" class=\"dataframe\">\n",
       "  <thead>\n",
       "    <tr style=\"text-align: right;\">\n",
       "      <th></th>\n",
       "      <th>Year</th>\n",
       "      <th>Sex</th>\n",
       "      <th>Fatal</th>\n",
       "      <th>Age</th>\n",
       "      <th>Time</th>\n",
       "    </tr>\n",
       "  </thead>\n",
       "  <tbody>\n",
       "    <tr>\n",
       "      <th>698</th>\n",
       "      <td>2013.0</td>\n",
       "      <td>M</td>\n",
       "      <td>N</td>\n",
       "      <td>28 &amp; 26</td>\n",
       "      <td>NaN</td>\n",
       "    </tr>\n",
       "  </tbody>\n",
       "</table>\n",
       "</div>"
      ],
      "text/plain": [
       "       Year Sex Fatal      Age Time\n",
       "698  2013.0   M     N  28 & 26  NaN"
      ]
     },
     "execution_count": 53,
     "metadata": {},
     "output_type": "execute_result"
    }
   ],
   "source": [
    "df.loc[df[\"Age\"] == \"28 & 26\"] # 698"
   ]
  },
  {
   "cell_type": "code",
   "execution_count": 54,
   "id": "600ecd06",
   "metadata": {},
   "outputs": [
    {
     "name": "stdout",
     "output_type": "stream",
     "text": [
      "Year     2013.0\n",
      "Sex           M\n",
      "Fatal         N\n",
      "Age          28\n",
      "Time        NaN\n",
      "Name: 698, dtype: object Year     2013.0\n",
      "Sex           M\n",
      "Fatal         N\n",
      "Age          26\n",
      "Time        NaN\n",
      "Name: 10000, dtype: object\n"
     ]
    },
    {
     "name": "stderr",
     "output_type": "stream",
     "text": [
      "C:\\Users\\gdcma\\AppData\\Local\\Temp\\ipykernel_10652\\4174646847.py:1: SettingWithCopyWarning: \n",
      "A value is trying to be set on a copy of a slice from a DataFrame\n",
      "\n",
      "See the caveats in the documentation: https://pandas.pydata.org/pandas-docs/stable/user_guide/indexing.html#returning-a-view-versus-a-copy\n",
      "  df.loc[10000] = df.loc[698].copy()\n"
     ]
    }
   ],
   "source": [
    "df.loc[10000] = df.loc[698].copy()\n",
    "df.loc[698, \"Age\"] = \"28\"\n",
    "df.loc[10000, \"Age\"] = \"26\"\n",
    "print(df.loc[698], df.loc[10000])"
   ]
  },
  {
   "cell_type": "code",
   "execution_count": 55,
   "id": "bcb8d681",
   "metadata": {},
   "outputs": [
    {
     "data": {
      "text/html": [
       "<div>\n",
       "<style scoped>\n",
       "    .dataframe tbody tr th:only-of-type {\n",
       "        vertical-align: middle;\n",
       "    }\n",
       "\n",
       "    .dataframe tbody tr th {\n",
       "        vertical-align: top;\n",
       "    }\n",
       "\n",
       "    .dataframe thead th {\n",
       "        text-align: right;\n",
       "    }\n",
       "</style>\n",
       "<table border=\"1\" class=\"dataframe\">\n",
       "  <thead>\n",
       "    <tr style=\"text-align: right;\">\n",
       "      <th></th>\n",
       "      <th>Year</th>\n",
       "      <th>Sex</th>\n",
       "      <th>Fatal</th>\n",
       "      <th>Age</th>\n",
       "      <th>Time</th>\n",
       "    </tr>\n",
       "  </thead>\n",
       "  <tbody>\n",
       "    <tr>\n",
       "      <th>1506</th>\n",
       "      <td>2006.0</td>\n",
       "      <td>M</td>\n",
       "      <td>N</td>\n",
       "      <td>46 &amp; 34</td>\n",
       "      <td>NaN</td>\n",
       "    </tr>\n",
       "  </tbody>\n",
       "</table>\n",
       "</div>"
      ],
      "text/plain": [
       "        Year Sex Fatal      Age Time\n",
       "1506  2006.0   M     N  46 & 34  NaN"
      ]
     },
     "execution_count": 55,
     "metadata": {},
     "output_type": "execute_result"
    }
   ],
   "source": [
    "df.loc[df[\"Age\"] == \"46 & 34\"] # 1506"
   ]
  },
  {
   "cell_type": "code",
   "execution_count": 56,
   "id": "579879e3",
   "metadata": {},
   "outputs": [
    {
     "name": "stderr",
     "output_type": "stream",
     "text": [
      "C:\\Users\\gdcma\\AppData\\Local\\Temp\\ipykernel_10652\\3506723869.py:1: SettingWithCopyWarning: \n",
      "A value is trying to be set on a copy of a slice from a DataFrame\n",
      "\n",
      "See the caveats in the documentation: https://pandas.pydata.org/pandas-docs/stable/user_guide/indexing.html#returning-a-view-versus-a-copy\n",
      "  df.loc[10001] = df.loc[1506].copy()\n"
     ]
    }
   ],
   "source": [
    "df.loc[10001] = df.loc[1506].copy()\n",
    "df.loc[1506, \"Age\"] = \"46\"\n",
    "df.loc[10001, \"Age\"] = \"34\""
   ]
  },
  {
   "cell_type": "code",
   "execution_count": 57,
   "id": "96cce163",
   "metadata": {},
   "outputs": [
    {
     "data": {
      "text/html": [
       "<div>\n",
       "<style scoped>\n",
       "    .dataframe tbody tr th:only-of-type {\n",
       "        vertical-align: middle;\n",
       "    }\n",
       "\n",
       "    .dataframe tbody tr th {\n",
       "        vertical-align: top;\n",
       "    }\n",
       "\n",
       "    .dataframe thead th {\n",
       "        text-align: right;\n",
       "    }\n",
       "</style>\n",
       "<table border=\"1\" class=\"dataframe\">\n",
       "  <thead>\n",
       "    <tr style=\"text-align: right;\">\n",
       "      <th></th>\n",
       "      <th>Year</th>\n",
       "      <th>Sex</th>\n",
       "      <th>Fatal</th>\n",
       "      <th>Age</th>\n",
       "      <th>Time</th>\n",
       "    </tr>\n",
       "  </thead>\n",
       "  <tbody>\n",
       "    <tr>\n",
       "      <th>1508</th>\n",
       "      <td>2006.0</td>\n",
       "      <td>F</td>\n",
       "      <td>N</td>\n",
       "      <td>28, 23 &amp; 30</td>\n",
       "      <td>NaN</td>\n",
       "    </tr>\n",
       "  </tbody>\n",
       "</table>\n",
       "</div>"
      ],
      "text/plain": [
       "        Year Sex Fatal          Age Time\n",
       "1508  2006.0   F     N  28, 23 & 30  NaN"
      ]
     },
     "execution_count": 57,
     "metadata": {},
     "output_type": "execute_result"
    }
   ],
   "source": [
    "df.loc[df[\"Age\"] == \"28, 23 & 30\"] # 1508"
   ]
  },
  {
   "cell_type": "code",
   "execution_count": 58,
   "id": "c3347aec",
   "metadata": {},
   "outputs": [
    {
     "name": "stderr",
     "output_type": "stream",
     "text": [
      "C:\\Users\\gdcma\\AppData\\Local\\Temp\\ipykernel_10652\\2009246980.py:1: SettingWithCopyWarning: \n",
      "A value is trying to be set on a copy of a slice from a DataFrame\n",
      "\n",
      "See the caveats in the documentation: https://pandas.pydata.org/pandas-docs/stable/user_guide/indexing.html#returning-a-view-versus-a-copy\n",
      "  df.loc[10002] = df.loc[1508].copy()\n",
      "C:\\Users\\gdcma\\AppData\\Local\\Temp\\ipykernel_10652\\2009246980.py:2: SettingWithCopyWarning: \n",
      "A value is trying to be set on a copy of a slice from a DataFrame\n",
      "\n",
      "See the caveats in the documentation: https://pandas.pydata.org/pandas-docs/stable/user_guide/indexing.html#returning-a-view-versus-a-copy\n",
      "  df.loc[10003] = df.loc[1508].copy()\n"
     ]
    }
   ],
   "source": [
    "df.loc[10002] = df.loc[1508].copy()\n",
    "df.loc[10003] = df.loc[1508].copy()\n",
    "df.loc[1508, \"Age\"] = \"28\"\n",
    "df.loc[10002, \"Age\"] = \"23\"\n",
    "df.loc[10003, \"Age\"] = \"30\""
   ]
  },
  {
   "cell_type": "code",
   "execution_count": 59,
   "id": "876d064b",
   "metadata": {},
   "outputs": [
    {
     "data": {
      "text/html": [
       "<div>\n",
       "<style scoped>\n",
       "    .dataframe tbody tr th:only-of-type {\n",
       "        vertical-align: middle;\n",
       "    }\n",
       "\n",
       "    .dataframe tbody tr th {\n",
       "        vertical-align: top;\n",
       "    }\n",
       "\n",
       "    .dataframe thead th {\n",
       "        text-align: right;\n",
       "    }\n",
       "</style>\n",
       "<table border=\"1\" class=\"dataframe\">\n",
       "  <thead>\n",
       "    <tr style=\"text-align: right;\">\n",
       "      <th></th>\n",
       "      <th>Year</th>\n",
       "      <th>Sex</th>\n",
       "      <th>Fatal</th>\n",
       "      <th>Age</th>\n",
       "      <th>Time</th>\n",
       "    </tr>\n",
       "  </thead>\n",
       "  <tbody>\n",
       "    <tr>\n",
       "      <th>1743</th>\n",
       "      <td>2003.0</td>\n",
       "      <td>NaN</td>\n",
       "      <td>N</td>\n",
       "      <td>36 &amp; 26</td>\n",
       "      <td>09h40</td>\n",
       "    </tr>\n",
       "  </tbody>\n",
       "</table>\n",
       "</div>"
      ],
      "text/plain": [
       "        Year  Sex Fatal      Age   Time\n",
       "1743  2003.0  NaN     N  36 & 26  09h40"
      ]
     },
     "execution_count": 59,
     "metadata": {},
     "output_type": "execute_result"
    }
   ],
   "source": [
    "df.loc[df[\"Age\"] == \"36 & 26\"] # 1743"
   ]
  },
  {
   "cell_type": "code",
   "execution_count": 60,
   "id": "b54f2a5a",
   "metadata": {},
   "outputs": [
    {
     "name": "stderr",
     "output_type": "stream",
     "text": [
      "C:\\Users\\gdcma\\AppData\\Local\\Temp\\ipykernel_10652\\4269953202.py:1: SettingWithCopyWarning: \n",
      "A value is trying to be set on a copy of a slice from a DataFrame\n",
      "\n",
      "See the caveats in the documentation: https://pandas.pydata.org/pandas-docs/stable/user_guide/indexing.html#returning-a-view-versus-a-copy\n",
      "  df.loc[10004] = df.loc[1743].copy()\n"
     ]
    }
   ],
   "source": [
    "df.loc[10004] = df.loc[1743].copy()\n",
    "df.loc[1743, \"Age\"] = \"36\"\n",
    "df.loc[10004, \"Age\"] = \"26\""
   ]
  },
  {
   "cell_type": "code",
   "execution_count": 61,
   "id": "59919770",
   "metadata": {},
   "outputs": [
    {
     "data": {
      "text/html": [
       "<div>\n",
       "<style scoped>\n",
       "    .dataframe tbody tr th:only-of-type {\n",
       "        vertical-align: middle;\n",
       "    }\n",
       "\n",
       "    .dataframe tbody tr th {\n",
       "        vertical-align: top;\n",
       "    }\n",
       "\n",
       "    .dataframe thead th {\n",
       "        text-align: right;\n",
       "    }\n",
       "</style>\n",
       "<table border=\"1\" class=\"dataframe\">\n",
       "  <thead>\n",
       "    <tr style=\"text-align: right;\">\n",
       "      <th></th>\n",
       "      <th>Year</th>\n",
       "      <th>Sex</th>\n",
       "      <th>Fatal</th>\n",
       "      <th>Age</th>\n",
       "      <th>Time</th>\n",
       "    </tr>\n",
       "  </thead>\n",
       "  <tbody>\n",
       "    <tr>\n",
       "      <th>1925</th>\n",
       "      <td>2001.0</td>\n",
       "      <td>M</td>\n",
       "      <td>N</td>\n",
       "      <td>21 &amp; ?</td>\n",
       "      <td>NaN</td>\n",
       "    </tr>\n",
       "  </tbody>\n",
       "</table>\n",
       "</div>"
      ],
      "text/plain": [
       "        Year Sex Fatal     Age Time\n",
       "1925  2001.0   M     N  21 & ?  NaN"
      ]
     },
     "execution_count": 61,
     "metadata": {},
     "output_type": "execute_result"
    }
   ],
   "source": [
    "df.loc[df[\"Age\"] == \"21 & ?\"] # 1925"
   ]
  },
  {
   "cell_type": "code",
   "execution_count": 62,
   "id": "e675be71",
   "metadata": {},
   "outputs": [
    {
     "name": "stderr",
     "output_type": "stream",
     "text": [
      "C:\\Users\\gdcma\\AppData\\Local\\Temp\\ipykernel_10652\\2603323010.py:1: SettingWithCopyWarning: \n",
      "A value is trying to be set on a copy of a slice from a DataFrame\n",
      "\n",
      "See the caveats in the documentation: https://pandas.pydata.org/pandas-docs/stable/user_guide/indexing.html#returning-a-view-versus-a-copy\n",
      "  df.loc[10005] = df.loc[1925].copy()\n"
     ]
    }
   ],
   "source": [
    "df.loc[10005] = df.loc[1925].copy()\n",
    "df.loc[1925, \"Age\"] = \"21\"\n",
    "df.loc[10005, \"Age\"] = float('nan')"
   ]
  },
  {
   "cell_type": "code",
   "execution_count": 63,
   "id": "25adf35a",
   "metadata": {},
   "outputs": [
    {
     "data": {
      "text/html": [
       "<div>\n",
       "<style scoped>\n",
       "    .dataframe tbody tr th:only-of-type {\n",
       "        vertical-align: middle;\n",
       "    }\n",
       "\n",
       "    .dataframe tbody tr th {\n",
       "        vertical-align: top;\n",
       "    }\n",
       "\n",
       "    .dataframe thead th {\n",
       "        text-align: right;\n",
       "    }\n",
       "</style>\n",
       "<table border=\"1\" class=\"dataframe\">\n",
       "  <thead>\n",
       "    <tr style=\"text-align: right;\">\n",
       "      <th></th>\n",
       "      <th>Year</th>\n",
       "      <th>Sex</th>\n",
       "      <th>Fatal</th>\n",
       "      <th>Age</th>\n",
       "      <th>Time</th>\n",
       "    </tr>\n",
       "  </thead>\n",
       "  <tbody>\n",
       "    <tr>\n",
       "      <th>2026</th>\n",
       "      <td>2000.0</td>\n",
       "      <td>M</td>\n",
       "      <td>NaN</td>\n",
       "      <td>23 &amp; 20</td>\n",
       "      <td>NaN</td>\n",
       "    </tr>\n",
       "  </tbody>\n",
       "</table>\n",
       "</div>"
      ],
      "text/plain": [
       "        Year Sex Fatal      Age Time\n",
       "2026  2000.0   M   NaN  23 & 20  NaN"
      ]
     },
     "execution_count": 63,
     "metadata": {},
     "output_type": "execute_result"
    }
   ],
   "source": [
    "df.loc[df[\"Age\"] == \"23 & 20\"] # 2026"
   ]
  },
  {
   "cell_type": "code",
   "execution_count": 64,
   "id": "c5dd18b6",
   "metadata": {},
   "outputs": [
    {
     "name": "stderr",
     "output_type": "stream",
     "text": [
      "C:\\Users\\gdcma\\AppData\\Local\\Temp\\ipykernel_10652\\4247525452.py:1: SettingWithCopyWarning: \n",
      "A value is trying to be set on a copy of a slice from a DataFrame\n",
      "\n",
      "See the caveats in the documentation: https://pandas.pydata.org/pandas-docs/stable/user_guide/indexing.html#returning-a-view-versus-a-copy\n",
      "  df.loc[10006] = df.loc[2026].copy()\n"
     ]
    }
   ],
   "source": [
    "df.loc[10006] = df.loc[2026].copy()\n",
    "df.loc[2026, \"Age\"] = \"23\"\n",
    "df.loc[10006, \"Age\"] = \"20\""
   ]
  },
  {
   "cell_type": "code",
   "execution_count": 65,
   "id": "ed3e31fe",
   "metadata": {
    "scrolled": true
   },
   "outputs": [
    {
     "data": {
      "text/html": [
       "<div>\n",
       "<style scoped>\n",
       "    .dataframe tbody tr th:only-of-type {\n",
       "        vertical-align: middle;\n",
       "    }\n",
       "\n",
       "    .dataframe tbody tr th {\n",
       "        vertical-align: top;\n",
       "    }\n",
       "\n",
       "    .dataframe thead th {\n",
       "        text-align: right;\n",
       "    }\n",
       "</style>\n",
       "<table border=\"1\" class=\"dataframe\">\n",
       "  <thead>\n",
       "    <tr style=\"text-align: right;\">\n",
       "      <th></th>\n",
       "      <th>Year</th>\n",
       "      <th>Sex</th>\n",
       "      <th>Fatal</th>\n",
       "      <th>Age</th>\n",
       "      <th>Time</th>\n",
       "    </tr>\n",
       "  </thead>\n",
       "  <tbody>\n",
       "    <tr>\n",
       "      <th>2422</th>\n",
       "      <td>1994.0</td>\n",
       "      <td>M</td>\n",
       "      <td>Y</td>\n",
       "      <td>7      &amp;    31</td>\n",
       "      <td>NaN</td>\n",
       "    </tr>\n",
       "  </tbody>\n",
       "</table>\n",
       "</div>"
      ],
      "text/plain": [
       "        Year Sex Fatal             Age Time\n",
       "2422  1994.0   M     Y  7      &    31  NaN"
      ]
     },
     "execution_count": 65,
     "metadata": {},
     "output_type": "execute_result"
    }
   ],
   "source": [
    "df.loc[df[\"Age\"] == \"7      &    31\"] #2422"
   ]
  },
  {
   "cell_type": "code",
   "execution_count": 66,
   "id": "637b32ff",
   "metadata": {
    "scrolled": true
   },
   "outputs": [
    {
     "name": "stderr",
     "output_type": "stream",
     "text": [
      "C:\\Users\\gdcma\\AppData\\Local\\Temp\\ipykernel_10652\\1444265082.py:1: SettingWithCopyWarning: \n",
      "A value is trying to be set on a copy of a slice from a DataFrame\n",
      "\n",
      "See the caveats in the documentation: https://pandas.pydata.org/pandas-docs/stable/user_guide/indexing.html#returning-a-view-versus-a-copy\n",
      "  df.loc[10007] = df.loc[2422].copy()\n"
     ]
    }
   ],
   "source": [
    "df.loc[10007] = df.loc[2422].copy()\n",
    "df.loc[2422, \"Age\"] = \"7\"\n",
    "df.loc[10007, \"Age\"] = \"31\""
   ]
  },
  {
   "cell_type": "code",
   "execution_count": 67,
   "id": "07fe90da",
   "metadata": {},
   "outputs": [
    {
     "data": {
      "text/html": [
       "<div>\n",
       "<style scoped>\n",
       "    .dataframe tbody tr th:only-of-type {\n",
       "        vertical-align: middle;\n",
       "    }\n",
       "\n",
       "    .dataframe tbody tr th {\n",
       "        vertical-align: top;\n",
       "    }\n",
       "\n",
       "    .dataframe thead th {\n",
       "        text-align: right;\n",
       "    }\n",
       "</style>\n",
       "<table border=\"1\" class=\"dataframe\">\n",
       "  <thead>\n",
       "    <tr style=\"text-align: right;\">\n",
       "      <th></th>\n",
       "      <th>Year</th>\n",
       "      <th>Sex</th>\n",
       "      <th>Fatal</th>\n",
       "      <th>Age</th>\n",
       "      <th>Time</th>\n",
       "    </tr>\n",
       "  </thead>\n",
       "  <tbody>\n",
       "    <tr>\n",
       "      <th>2511</th>\n",
       "      <td>1993.0</td>\n",
       "      <td>M</td>\n",
       "      <td>N</td>\n",
       "      <td>32 &amp; 30</td>\n",
       "      <td>NaN</td>\n",
       "    </tr>\n",
       "  </tbody>\n",
       "</table>\n",
       "</div>"
      ],
      "text/plain": [
       "        Year Sex Fatal      Age Time\n",
       "2511  1993.0   M     N  32 & 30  NaN"
      ]
     },
     "execution_count": 67,
     "metadata": {},
     "output_type": "execute_result"
    }
   ],
   "source": [
    "df.loc[df[\"Age\"] == \"32 & 30\"] #2511"
   ]
  },
  {
   "cell_type": "code",
   "execution_count": 68,
   "id": "72ac8625",
   "metadata": {},
   "outputs": [
    {
     "name": "stderr",
     "output_type": "stream",
     "text": [
      "C:\\Users\\gdcma\\AppData\\Local\\Temp\\ipykernel_10652\\2876751489.py:1: SettingWithCopyWarning: \n",
      "A value is trying to be set on a copy of a slice from a DataFrame\n",
      "\n",
      "See the caveats in the documentation: https://pandas.pydata.org/pandas-docs/stable/user_guide/indexing.html#returning-a-view-versus-a-copy\n",
      "  df.loc[10008] = df.loc[2511].copy()\n"
     ]
    }
   ],
   "source": [
    "df.loc[10008] = df.loc[2511].copy()\n",
    "df.loc[2511, \"Age\"] = \"32\"\n",
    "df.loc[10008, \"Age\"] = \"30\""
   ]
  },
  {
   "cell_type": "code",
   "execution_count": 69,
   "id": "1624c4ed",
   "metadata": {},
   "outputs": [
    {
     "data": {
      "text/html": [
       "<div>\n",
       "<style scoped>\n",
       "    .dataframe tbody tr th:only-of-type {\n",
       "        vertical-align: middle;\n",
       "    }\n",
       "\n",
       "    .dataframe tbody tr th {\n",
       "        vertical-align: top;\n",
       "    }\n",
       "\n",
       "    .dataframe thead th {\n",
       "        text-align: right;\n",
       "    }\n",
       "</style>\n",
       "<table border=\"1\" class=\"dataframe\">\n",
       "  <thead>\n",
       "    <tr style=\"text-align: right;\">\n",
       "      <th></th>\n",
       "      <th>Year</th>\n",
       "      <th>Sex</th>\n",
       "      <th>Fatal</th>\n",
       "      <th>Age</th>\n",
       "      <th>Time</th>\n",
       "    </tr>\n",
       "  </thead>\n",
       "  <tbody>\n",
       "    <tr>\n",
       "      <th>3459</th>\n",
       "      <td>1968.0</td>\n",
       "      <td>NaN</td>\n",
       "      <td>N</td>\n",
       "      <td>9 &amp; 12</td>\n",
       "      <td>16h00</td>\n",
       "    </tr>\n",
       "  </tbody>\n",
       "</table>\n",
       "</div>"
      ],
      "text/plain": [
       "        Year  Sex Fatal     Age   Time\n",
       "3459  1968.0  NaN     N  9 & 12  16h00"
      ]
     },
     "execution_count": 69,
     "metadata": {},
     "output_type": "execute_result"
    }
   ],
   "source": [
    "df.loc[df[\"Age\"] == \"9 & 12\"] #3459"
   ]
  },
  {
   "cell_type": "code",
   "execution_count": 70,
   "id": "27af5aff",
   "metadata": {},
   "outputs": [
    {
     "name": "stderr",
     "output_type": "stream",
     "text": [
      "C:\\Users\\gdcma\\AppData\\Local\\Temp\\ipykernel_10652\\4259570762.py:1: SettingWithCopyWarning: \n",
      "A value is trying to be set on a copy of a slice from a DataFrame\n",
      "\n",
      "See the caveats in the documentation: https://pandas.pydata.org/pandas-docs/stable/user_guide/indexing.html#returning-a-view-versus-a-copy\n",
      "  df.loc[10009] = df.loc[3459].copy()\n"
     ]
    }
   ],
   "source": [
    "df.loc[10009] = df.loc[3459].copy()\n",
    "df.loc[3459, \"Age\"] = \"9\"\n",
    "df.loc[10009, \"Age\"] = \"12\""
   ]
  },
  {
   "cell_type": "code",
   "execution_count": 71,
   "id": "fd266660",
   "metadata": {},
   "outputs": [
    {
     "data": {
      "text/html": [
       "<div>\n",
       "<style scoped>\n",
       "    .dataframe tbody tr th:only-of-type {\n",
       "        vertical-align: middle;\n",
       "    }\n",
       "\n",
       "    .dataframe tbody tr th {\n",
       "        vertical-align: top;\n",
       "    }\n",
       "\n",
       "    .dataframe thead th {\n",
       "        text-align: right;\n",
       "    }\n",
       "</style>\n",
       "<table border=\"1\" class=\"dataframe\">\n",
       "  <thead>\n",
       "    <tr style=\"text-align: right;\">\n",
       "      <th></th>\n",
       "      <th>Year</th>\n",
       "      <th>Sex</th>\n",
       "      <th>Fatal</th>\n",
       "      <th>Age</th>\n",
       "      <th>Time</th>\n",
       "    </tr>\n",
       "  </thead>\n",
       "  <tbody>\n",
       "    <tr>\n",
       "      <th>3517</th>\n",
       "      <td>1967.0</td>\n",
       "      <td>M</td>\n",
       "      <td>NaN</td>\n",
       "      <td>? &amp; 19</td>\n",
       "      <td>Night</td>\n",
       "    </tr>\n",
       "  </tbody>\n",
       "</table>\n",
       "</div>"
      ],
      "text/plain": [
       "        Year Sex Fatal     Age   Time\n",
       "3517  1967.0   M   NaN  ? & 19  Night"
      ]
     },
     "execution_count": 71,
     "metadata": {},
     "output_type": "execute_result"
    }
   ],
   "source": [
    "df.loc[df[\"Age\"] == \"? & 19\"] #3517"
   ]
  },
  {
   "cell_type": "code",
   "execution_count": 72,
   "id": "0fabc19f",
   "metadata": {},
   "outputs": [
    {
     "name": "stderr",
     "output_type": "stream",
     "text": [
      "C:\\Users\\gdcma\\AppData\\Local\\Temp\\ipykernel_10652\\3889685468.py:1: SettingWithCopyWarning: \n",
      "A value is trying to be set on a copy of a slice from a DataFrame\n",
      "\n",
      "See the caveats in the documentation: https://pandas.pydata.org/pandas-docs/stable/user_guide/indexing.html#returning-a-view-versus-a-copy\n",
      "  df.loc[10010] = df.loc[3517].copy()\n"
     ]
    }
   ],
   "source": [
    "df.loc[10010] = df.loc[3517].copy()\n",
    "df.loc[3517, \"Age\"] = float('nan')\n",
    "df.loc[10010, \"Age\"] = \"19\""
   ]
  },
  {
   "cell_type": "code",
   "execution_count": 73,
   "id": "e6df17af",
   "metadata": {},
   "outputs": [
    {
     "data": {
      "text/html": [
       "<div>\n",
       "<style scoped>\n",
       "    .dataframe tbody tr th:only-of-type {\n",
       "        vertical-align: middle;\n",
       "    }\n",
       "\n",
       "    .dataframe tbody tr th {\n",
       "        vertical-align: top;\n",
       "    }\n",
       "\n",
       "    .dataframe thead th {\n",
       "        text-align: right;\n",
       "    }\n",
       "</style>\n",
       "<table border=\"1\" class=\"dataframe\">\n",
       "  <thead>\n",
       "    <tr style=\"text-align: right;\">\n",
       "      <th></th>\n",
       "      <th>Year</th>\n",
       "      <th>Sex</th>\n",
       "      <th>Fatal</th>\n",
       "      <th>Age</th>\n",
       "      <th>Time</th>\n",
       "    </tr>\n",
       "  </thead>\n",
       "  <tbody>\n",
       "    <tr>\n",
       "      <th>3742</th>\n",
       "      <td>1963.0</td>\n",
       "      <td>M</td>\n",
       "      <td>Y</td>\n",
       "      <td>23 &amp; 26</td>\n",
       "      <td>NaN</td>\n",
       "    </tr>\n",
       "  </tbody>\n",
       "</table>\n",
       "</div>"
      ],
      "text/plain": [
       "        Year Sex Fatal      Age Time\n",
       "3742  1963.0   M     Y  23 & 26  NaN"
      ]
     },
     "execution_count": 73,
     "metadata": {},
     "output_type": "execute_result"
    }
   ],
   "source": [
    "df.loc[df[\"Age\"] == \"23 & 26\"] #3742"
   ]
  },
  {
   "cell_type": "code",
   "execution_count": 74,
   "id": "3ce84267",
   "metadata": {},
   "outputs": [
    {
     "name": "stderr",
     "output_type": "stream",
     "text": [
      "C:\\Users\\gdcma\\AppData\\Local\\Temp\\ipykernel_10652\\4027889599.py:1: SettingWithCopyWarning: \n",
      "A value is trying to be set on a copy of a slice from a DataFrame\n",
      "\n",
      "See the caveats in the documentation: https://pandas.pydata.org/pandas-docs/stable/user_guide/indexing.html#returning-a-view-versus-a-copy\n",
      "  df.loc[10011] = df.loc[3742].copy()\n"
     ]
    }
   ],
   "source": [
    "df.loc[10011] = df.loc[3742].copy()\n",
    "df.loc[3742, \"Age\"] = \"23\"\n",
    "df.loc[10011, \"Age\"] = \"26\""
   ]
  },
  {
   "cell_type": "code",
   "execution_count": 75,
   "id": "84ab36e1",
   "metadata": {},
   "outputs": [
    {
     "data": {
      "text/html": [
       "<div>\n",
       "<style scoped>\n",
       "    .dataframe tbody tr th:only-of-type {\n",
       "        vertical-align: middle;\n",
       "    }\n",
       "\n",
       "    .dataframe tbody tr th {\n",
       "        vertical-align: top;\n",
       "    }\n",
       "\n",
       "    .dataframe thead th {\n",
       "        text-align: right;\n",
       "    }\n",
       "</style>\n",
       "<table border=\"1\" class=\"dataframe\">\n",
       "  <thead>\n",
       "    <tr style=\"text-align: right;\">\n",
       "      <th></th>\n",
       "      <th>Year</th>\n",
       "      <th>Sex</th>\n",
       "      <th>Fatal</th>\n",
       "      <th>Age</th>\n",
       "      <th>Time</th>\n",
       "    </tr>\n",
       "  </thead>\n",
       "  <tbody>\n",
       "    <tr>\n",
       "      <th>3880</th>\n",
       "      <td>1961.0</td>\n",
       "      <td>M</td>\n",
       "      <td>N</td>\n",
       "      <td>33 &amp; 37</td>\n",
       "      <td>NaN</td>\n",
       "    </tr>\n",
       "  </tbody>\n",
       "</table>\n",
       "</div>"
      ],
      "text/plain": [
       "        Year Sex Fatal      Age Time\n",
       "3880  1961.0   M     N  33 & 37  NaN"
      ]
     },
     "execution_count": 75,
     "metadata": {},
     "output_type": "execute_result"
    }
   ],
   "source": [
    "df.loc[df[\"Age\"] == \"33 & 37\"] #3880"
   ]
  },
  {
   "cell_type": "code",
   "execution_count": 76,
   "id": "62ec9ea2",
   "metadata": {},
   "outputs": [
    {
     "name": "stderr",
     "output_type": "stream",
     "text": [
      "C:\\Users\\gdcma\\AppData\\Local\\Temp\\ipykernel_10652\\3565762742.py:1: SettingWithCopyWarning: \n",
      "A value is trying to be set on a copy of a slice from a DataFrame\n",
      "\n",
      "See the caveats in the documentation: https://pandas.pydata.org/pandas-docs/stable/user_guide/indexing.html#returning-a-view-versus-a-copy\n",
      "  df.loc[10012] = df.loc[3880].copy()\n"
     ]
    }
   ],
   "source": [
    "df.loc[10012] = df.loc[3880].copy()\n",
    "df.loc[3880, \"Age\"] = \"33\"\n",
    "df.loc[10012, \"Age\"] = \"37\""
   ]
  },
  {
   "cell_type": "code",
   "execution_count": 77,
   "id": "b7d50343",
   "metadata": {},
   "outputs": [
    {
     "data": {
      "text/html": [
       "<div>\n",
       "<style scoped>\n",
       "    .dataframe tbody tr th:only-of-type {\n",
       "        vertical-align: middle;\n",
       "    }\n",
       "\n",
       "    .dataframe tbody tr th {\n",
       "        vertical-align: top;\n",
       "    }\n",
       "\n",
       "    .dataframe thead th {\n",
       "        text-align: right;\n",
       "    }\n",
       "</style>\n",
       "<table border=\"1\" class=\"dataframe\">\n",
       "  <thead>\n",
       "    <tr style=\"text-align: right;\">\n",
       "      <th></th>\n",
       "      <th>Year</th>\n",
       "      <th>Sex</th>\n",
       "      <th>Fatal</th>\n",
       "      <th>Age</th>\n",
       "      <th>Time</th>\n",
       "    </tr>\n",
       "  </thead>\n",
       "  <tbody>\n",
       "    <tr>\n",
       "      <th>3986</th>\n",
       "      <td>1960.0</td>\n",
       "      <td>M</td>\n",
       "      <td>NaN</td>\n",
       "      <td>37, 67, 35, 27,  ? &amp; 27</td>\n",
       "      <td>NaN</td>\n",
       "    </tr>\n",
       "  </tbody>\n",
       "</table>\n",
       "</div>"
      ],
      "text/plain": [
       "        Year Sex Fatal                      Age Time\n",
       "3986  1960.0   M   NaN  37, 67, 35, 27,  ? & 27  NaN"
      ]
     },
     "execution_count": 77,
     "metadata": {},
     "output_type": "execute_result"
    }
   ],
   "source": [
    "df.loc[df[\"Age\"] == \"37, 67, 35, 27,  ? & 27\"] #3986"
   ]
  },
  {
   "cell_type": "code",
   "execution_count": 78,
   "id": "4743df92",
   "metadata": {},
   "outputs": [
    {
     "name": "stderr",
     "output_type": "stream",
     "text": [
      "C:\\Users\\gdcma\\AppData\\Local\\Temp\\ipykernel_10652\\615805200.py:1: SettingWithCopyWarning: \n",
      "A value is trying to be set on a copy of a slice from a DataFrame\n",
      "\n",
      "See the caveats in the documentation: https://pandas.pydata.org/pandas-docs/stable/user_guide/indexing.html#returning-a-view-versus-a-copy\n",
      "  df.loc[10013] = df.loc[3986].copy()\n",
      "C:\\Users\\gdcma\\AppData\\Local\\Temp\\ipykernel_10652\\615805200.py:2: SettingWithCopyWarning: \n",
      "A value is trying to be set on a copy of a slice from a DataFrame\n",
      "\n",
      "See the caveats in the documentation: https://pandas.pydata.org/pandas-docs/stable/user_guide/indexing.html#returning-a-view-versus-a-copy\n",
      "  df.loc[10014] = df.loc[3986].copy()\n",
      "C:\\Users\\gdcma\\AppData\\Local\\Temp\\ipykernel_10652\\615805200.py:3: SettingWithCopyWarning: \n",
      "A value is trying to be set on a copy of a slice from a DataFrame\n",
      "\n",
      "See the caveats in the documentation: https://pandas.pydata.org/pandas-docs/stable/user_guide/indexing.html#returning-a-view-versus-a-copy\n",
      "  df.loc[10015] = df.loc[3986].copy()\n",
      "C:\\Users\\gdcma\\AppData\\Local\\Temp\\ipykernel_10652\\615805200.py:4: SettingWithCopyWarning: \n",
      "A value is trying to be set on a copy of a slice from a DataFrame\n",
      "\n",
      "See the caveats in the documentation: https://pandas.pydata.org/pandas-docs/stable/user_guide/indexing.html#returning-a-view-versus-a-copy\n",
      "  df.loc[10016] = df.loc[3986].copy()\n",
      "C:\\Users\\gdcma\\AppData\\Local\\Temp\\ipykernel_10652\\615805200.py:5: SettingWithCopyWarning: \n",
      "A value is trying to be set on a copy of a slice from a DataFrame\n",
      "\n",
      "See the caveats in the documentation: https://pandas.pydata.org/pandas-docs/stable/user_guide/indexing.html#returning-a-view-versus-a-copy\n",
      "  df.loc[10017] = df.loc[3986].copy()\n"
     ]
    }
   ],
   "source": [
    "df.loc[10013] = df.loc[3986].copy()\n",
    "df.loc[10014] = df.loc[3986].copy()\n",
    "df.loc[10015] = df.loc[3986].copy()\n",
    "df.loc[10016] = df.loc[3986].copy()\n",
    "df.loc[10017] = df.loc[3986].copy()\n",
    "df.loc[3986, \"Age\"] = \"37\"\n",
    "df.loc[10013, \"Age\"] = \"67\"\n",
    "df.loc[10014, \"Age\"] = \"35\"\n",
    "df.loc[10015, \"Age\"] = \"27\"\n",
    "df.loc[10016, \"Age\"] = float('nan')\n",
    "df.loc[10017, \"Age\"] = \"27\""
   ]
  },
  {
   "cell_type": "code",
   "execution_count": 79,
   "id": "31c30871",
   "metadata": {},
   "outputs": [
    {
     "data": {
      "text/html": [
       "<div>\n",
       "<style scoped>\n",
       "    .dataframe tbody tr th:only-of-type {\n",
       "        vertical-align: middle;\n",
       "    }\n",
       "\n",
       "    .dataframe tbody tr th {\n",
       "        vertical-align: top;\n",
       "    }\n",
       "\n",
       "    .dataframe thead th {\n",
       "        text-align: right;\n",
       "    }\n",
       "</style>\n",
       "<table border=\"1\" class=\"dataframe\">\n",
       "  <thead>\n",
       "    <tr style=\"text-align: right;\">\n",
       "      <th></th>\n",
       "      <th>Year</th>\n",
       "      <th>Sex</th>\n",
       "      <th>Fatal</th>\n",
       "      <th>Age</th>\n",
       "      <th>Time</th>\n",
       "    </tr>\n",
       "  </thead>\n",
       "  <tbody>\n",
       "    <tr>\n",
       "      <th>3998</th>\n",
       "      <td>1960.0</td>\n",
       "      <td>M</td>\n",
       "      <td>NaN</td>\n",
       "      <td>21, 34,24 &amp; 35</td>\n",
       "      <td>09h00 - 09h30</td>\n",
       "    </tr>\n",
       "  </tbody>\n",
       "</table>\n",
       "</div>"
      ],
      "text/plain": [
       "        Year Sex Fatal             Age           Time\n",
       "3998  1960.0   M   NaN  21, 34,24 & 35  09h00 - 09h30"
      ]
     },
     "execution_count": 79,
     "metadata": {},
     "output_type": "execute_result"
    }
   ],
   "source": [
    "df.loc[df[\"Age\"] == \"21, 34,24 & 35\"] #3998"
   ]
  },
  {
   "cell_type": "code",
   "execution_count": 80,
   "id": "0cfba516",
   "metadata": {},
   "outputs": [
    {
     "name": "stderr",
     "output_type": "stream",
     "text": [
      "C:\\Users\\gdcma\\AppData\\Local\\Temp\\ipykernel_10652\\2767332017.py:1: SettingWithCopyWarning: \n",
      "A value is trying to be set on a copy of a slice from a DataFrame\n",
      "\n",
      "See the caveats in the documentation: https://pandas.pydata.org/pandas-docs/stable/user_guide/indexing.html#returning-a-view-versus-a-copy\n",
      "  df.loc[10018] = df.loc[3998].copy()\n",
      "C:\\Users\\gdcma\\AppData\\Local\\Temp\\ipykernel_10652\\2767332017.py:2: SettingWithCopyWarning: \n",
      "A value is trying to be set on a copy of a slice from a DataFrame\n",
      "\n",
      "See the caveats in the documentation: https://pandas.pydata.org/pandas-docs/stable/user_guide/indexing.html#returning-a-view-versus-a-copy\n",
      "  df.loc[10019] = df.loc[3998].copy()\n",
      "C:\\Users\\gdcma\\AppData\\Local\\Temp\\ipykernel_10652\\2767332017.py:3: SettingWithCopyWarning: \n",
      "A value is trying to be set on a copy of a slice from a DataFrame\n",
      "\n",
      "See the caveats in the documentation: https://pandas.pydata.org/pandas-docs/stable/user_guide/indexing.html#returning-a-view-versus-a-copy\n",
      "  df.loc[10020] = df.loc[3998].copy()\n"
     ]
    }
   ],
   "source": [
    "df.loc[10018] = df.loc[3998].copy()\n",
    "df.loc[10019] = df.loc[3998].copy()\n",
    "df.loc[10020] = df.loc[3998].copy()\n",
    "df.loc[3998, \"Age\"] = \"21\"\n",
    "df.loc[10018, \"Age\"] = \"34\"\n",
    "df.loc[10019, \"Age\"] = \"24\"\n",
    "df.loc[10020, \"Age\"] = \"35\""
   ]
  },
  {
   "cell_type": "code",
   "execution_count": 81,
   "id": "eb3517c3",
   "metadata": {},
   "outputs": [
    {
     "data": {
      "text/html": [
       "<div>\n",
       "<style scoped>\n",
       "    .dataframe tbody tr th:only-of-type {\n",
       "        vertical-align: middle;\n",
       "    }\n",
       "\n",
       "    .dataframe tbody tr th {\n",
       "        vertical-align: top;\n",
       "    }\n",
       "\n",
       "    .dataframe thead th {\n",
       "        text-align: right;\n",
       "    }\n",
       "</style>\n",
       "<table border=\"1\" class=\"dataframe\">\n",
       "  <thead>\n",
       "    <tr style=\"text-align: right;\">\n",
       "      <th></th>\n",
       "      <th>Year</th>\n",
       "      <th>Sex</th>\n",
       "      <th>Fatal</th>\n",
       "      <th>Age</th>\n",
       "      <th>Time</th>\n",
       "    </tr>\n",
       "  </thead>\n",
       "  <tbody>\n",
       "    <tr>\n",
       "      <th>4009</th>\n",
       "      <td>1960.0</td>\n",
       "      <td>M</td>\n",
       "      <td>N</td>\n",
       "      <td>30 &amp; 32</td>\n",
       "      <td>Night</td>\n",
       "    </tr>\n",
       "  </tbody>\n",
       "</table>\n",
       "</div>"
      ],
      "text/plain": [
       "        Year Sex Fatal      Age   Time\n",
       "4009  1960.0   M     N  30 & 32  Night"
      ]
     },
     "execution_count": 81,
     "metadata": {},
     "output_type": "execute_result"
    }
   ],
   "source": [
    "df.loc[df[\"Age\"] == \"30 & 32\"] #4009"
   ]
  },
  {
   "cell_type": "code",
   "execution_count": 82,
   "id": "4c14b719",
   "metadata": {},
   "outputs": [
    {
     "name": "stderr",
     "output_type": "stream",
     "text": [
      "C:\\Users\\gdcma\\AppData\\Local\\Temp\\ipykernel_10652\\2867235818.py:1: SettingWithCopyWarning: \n",
      "A value is trying to be set on a copy of a slice from a DataFrame\n",
      "\n",
      "See the caveats in the documentation: https://pandas.pydata.org/pandas-docs/stable/user_guide/indexing.html#returning-a-view-versus-a-copy\n",
      "  df.loc[10021] = df.loc[4009].copy()\n"
     ]
    }
   ],
   "source": [
    "df.loc[10021] = df.loc[4009].copy()\n",
    "df.loc[4009, \"Age\"] = \"30\"\n",
    "df.loc[10021, \"Age\"] = \"32\""
   ]
  },
  {
   "cell_type": "code",
   "execution_count": 83,
   "id": "8ac1e2e2",
   "metadata": {},
   "outputs": [
    {
     "data": {
      "text/html": [
       "<div>\n",
       "<style scoped>\n",
       "    .dataframe tbody tr th:only-of-type {\n",
       "        vertical-align: middle;\n",
       "    }\n",
       "\n",
       "    .dataframe tbody tr th {\n",
       "        vertical-align: top;\n",
       "    }\n",
       "\n",
       "    .dataframe thead th {\n",
       "        text-align: right;\n",
       "    }\n",
       "</style>\n",
       "<table border=\"1\" class=\"dataframe\">\n",
       "  <thead>\n",
       "    <tr style=\"text-align: right;\">\n",
       "      <th></th>\n",
       "      <th>Year</th>\n",
       "      <th>Sex</th>\n",
       "      <th>Fatal</th>\n",
       "      <th>Age</th>\n",
       "      <th>Time</th>\n",
       "    </tr>\n",
       "  </thead>\n",
       "  <tbody>\n",
       "    <tr>\n",
       "      <th>4035</th>\n",
       "      <td>1959.0</td>\n",
       "      <td>NaN</td>\n",
       "      <td>N</td>\n",
       "      <td>50 &amp; 30</td>\n",
       "      <td>Late night</td>\n",
       "    </tr>\n",
       "  </tbody>\n",
       "</table>\n",
       "</div>"
      ],
      "text/plain": [
       "        Year  Sex Fatal      Age        Time\n",
       "4035  1959.0  NaN     N  50 & 30  Late night"
      ]
     },
     "execution_count": 83,
     "metadata": {},
     "output_type": "execute_result"
    }
   ],
   "source": [
    "df.loc[df[\"Age\"] == \"50 & 30\"] #4035"
   ]
  },
  {
   "cell_type": "code",
   "execution_count": 84,
   "id": "1f9cc28f",
   "metadata": {},
   "outputs": [
    {
     "name": "stderr",
     "output_type": "stream",
     "text": [
      "C:\\Users\\gdcma\\AppData\\Local\\Temp\\ipykernel_10652\\3437864320.py:1: SettingWithCopyWarning: \n",
      "A value is trying to be set on a copy of a slice from a DataFrame\n",
      "\n",
      "See the caveats in the documentation: https://pandas.pydata.org/pandas-docs/stable/user_guide/indexing.html#returning-a-view-versus-a-copy\n",
      "  df.loc[10022] = df.loc[4035].copy()\n"
     ]
    }
   ],
   "source": [
    "df.loc[10022] = df.loc[4035].copy()\n",
    "df.loc[4035, \"Age\"] = \"50\"\n",
    "df.loc[10022, \"Age\"] = \"30\""
   ]
  },
  {
   "cell_type": "code",
   "execution_count": 85,
   "id": "9efb471d",
   "metadata": {},
   "outputs": [
    {
     "data": {
      "text/html": [
       "<div>\n",
       "<style scoped>\n",
       "    .dataframe tbody tr th:only-of-type {\n",
       "        vertical-align: middle;\n",
       "    }\n",
       "\n",
       "    .dataframe tbody tr th {\n",
       "        vertical-align: top;\n",
       "    }\n",
       "\n",
       "    .dataframe thead th {\n",
       "        text-align: right;\n",
       "    }\n",
       "</style>\n",
       "<table border=\"1\" class=\"dataframe\">\n",
       "  <thead>\n",
       "    <tr style=\"text-align: right;\">\n",
       "      <th></th>\n",
       "      <th>Year</th>\n",
       "      <th>Sex</th>\n",
       "      <th>Fatal</th>\n",
       "      <th>Age</th>\n",
       "      <th>Time</th>\n",
       "    </tr>\n",
       "  </thead>\n",
       "  <tbody>\n",
       "    <tr>\n",
       "      <th>4039</th>\n",
       "      <td>1959.0</td>\n",
       "      <td>M</td>\n",
       "      <td>N</td>\n",
       "      <td>17 &amp; 35</td>\n",
       "      <td>NaN</td>\n",
       "    </tr>\n",
       "  </tbody>\n",
       "</table>\n",
       "</div>"
      ],
      "text/plain": [
       "        Year Sex Fatal      Age Time\n",
       "4039  1959.0   M     N  17 & 35  NaN"
      ]
     },
     "execution_count": 85,
     "metadata": {},
     "output_type": "execute_result"
    }
   ],
   "source": [
    "df.loc[df[\"Age\"] == \"17 & 35\"] #4039"
   ]
  },
  {
   "cell_type": "code",
   "execution_count": 86,
   "id": "686f1bff",
   "metadata": {},
   "outputs": [
    {
     "name": "stderr",
     "output_type": "stream",
     "text": [
      "C:\\Users\\gdcma\\AppData\\Local\\Temp\\ipykernel_10652\\226706480.py:1: SettingWithCopyWarning: \n",
      "A value is trying to be set on a copy of a slice from a DataFrame\n",
      "\n",
      "See the caveats in the documentation: https://pandas.pydata.org/pandas-docs/stable/user_guide/indexing.html#returning-a-view-versus-a-copy\n",
      "  df.loc[10023] = df.loc[4039].copy()\n"
     ]
    }
   ],
   "source": [
    "df.loc[10023] = df.loc[4039].copy()\n",
    "df.loc[4039, \"Age\"] = \"17\"\n",
    "df.loc[10023, \"Age\"] = \"35\""
   ]
  },
  {
   "cell_type": "code",
   "execution_count": 87,
   "id": "c779785b",
   "metadata": {},
   "outputs": [
    {
     "data": {
      "text/html": [
       "<div>\n",
       "<style scoped>\n",
       "    .dataframe tbody tr th:only-of-type {\n",
       "        vertical-align: middle;\n",
       "    }\n",
       "\n",
       "    .dataframe tbody tr th {\n",
       "        vertical-align: top;\n",
       "    }\n",
       "\n",
       "    .dataframe thead th {\n",
       "        text-align: right;\n",
       "    }\n",
       "</style>\n",
       "<table border=\"1\" class=\"dataframe\">\n",
       "  <thead>\n",
       "    <tr style=\"text-align: right;\">\n",
       "      <th></th>\n",
       "      <th>Year</th>\n",
       "      <th>Sex</th>\n",
       "      <th>Fatal</th>\n",
       "      <th>Age</th>\n",
       "      <th>Time</th>\n",
       "    </tr>\n",
       "  </thead>\n",
       "  <tbody>\n",
       "    <tr>\n",
       "      <th>4078</th>\n",
       "      <td>1959.0</td>\n",
       "      <td>M</td>\n",
       "      <td>NaN</td>\n",
       "      <td>34 &amp; 19</td>\n",
       "      <td>NaN</td>\n",
       "    </tr>\n",
       "  </tbody>\n",
       "</table>\n",
       "</div>"
      ],
      "text/plain": [
       "        Year Sex Fatal      Age Time\n",
       "4078  1959.0   M   NaN  34 & 19  NaN"
      ]
     },
     "execution_count": 87,
     "metadata": {},
     "output_type": "execute_result"
    }
   ],
   "source": [
    "df.loc[df[\"Age\"] == \"34 & 19\"] #4078"
   ]
  },
  {
   "cell_type": "code",
   "execution_count": 88,
   "id": "86a1a3b3",
   "metadata": {},
   "outputs": [
    {
     "name": "stderr",
     "output_type": "stream",
     "text": [
      "C:\\Users\\gdcma\\AppData\\Local\\Temp\\ipykernel_10652\\2678868005.py:1: SettingWithCopyWarning: \n",
      "A value is trying to be set on a copy of a slice from a DataFrame\n",
      "\n",
      "See the caveats in the documentation: https://pandas.pydata.org/pandas-docs/stable/user_guide/indexing.html#returning-a-view-versus-a-copy\n",
      "  df.loc[10024] = df.loc[4078].copy()\n"
     ]
    }
   ],
   "source": [
    "df.loc[10024] = df.loc[4078].copy()\n",
    "df.loc[4078, \"Age\"] = \"34\"\n",
    "df.loc[10024, \"Age\"] = \"19\""
   ]
  },
  {
   "cell_type": "code",
   "execution_count": 89,
   "id": "b63165be",
   "metadata": {},
   "outputs": [
    {
     "data": {
      "text/html": [
       "<div>\n",
       "<style scoped>\n",
       "    .dataframe tbody tr th:only-of-type {\n",
       "        vertical-align: middle;\n",
       "    }\n",
       "\n",
       "    .dataframe tbody tr th {\n",
       "        vertical-align: top;\n",
       "    }\n",
       "\n",
       "    .dataframe thead th {\n",
       "        text-align: right;\n",
       "    }\n",
       "</style>\n",
       "<table border=\"1\" class=\"dataframe\">\n",
       "  <thead>\n",
       "    <tr style=\"text-align: right;\">\n",
       "      <th></th>\n",
       "      <th>Year</th>\n",
       "      <th>Sex</th>\n",
       "      <th>Fatal</th>\n",
       "      <th>Age</th>\n",
       "      <th>Time</th>\n",
       "    </tr>\n",
       "  </thead>\n",
       "  <tbody>\n",
       "    <tr>\n",
       "      <th>4118</th>\n",
       "      <td>1959.0</td>\n",
       "      <td>M</td>\n",
       "      <td>Y</td>\n",
       "      <td>33 &amp; 26</td>\n",
       "      <td>08h00</td>\n",
       "    </tr>\n",
       "  </tbody>\n",
       "</table>\n",
       "</div>"
      ],
      "text/plain": [
       "        Year Sex Fatal      Age   Time\n",
       "4118  1959.0   M     Y  33 & 26  08h00"
      ]
     },
     "execution_count": 89,
     "metadata": {},
     "output_type": "execute_result"
    }
   ],
   "source": [
    "df.loc[df[\"Age\"] == \"33 & 26\"] #4118"
   ]
  },
  {
   "cell_type": "code",
   "execution_count": 90,
   "id": "9f748d8f",
   "metadata": {},
   "outputs": [
    {
     "name": "stderr",
     "output_type": "stream",
     "text": [
      "C:\\Users\\gdcma\\AppData\\Local\\Temp\\ipykernel_10652\\3538495303.py:1: SettingWithCopyWarning: \n",
      "A value is trying to be set on a copy of a slice from a DataFrame\n",
      "\n",
      "See the caveats in the documentation: https://pandas.pydata.org/pandas-docs/stable/user_guide/indexing.html#returning-a-view-versus-a-copy\n",
      "  df.loc[10025] = df.loc[4118].copy()\n"
     ]
    }
   ],
   "source": [
    "df.loc[10025] = df.loc[4118].copy()\n",
    "df.loc[4118, \"Age\"] = \"33\"\n",
    "df.loc[10025, \"Age\"] = \"26\""
   ]
  },
  {
   "cell_type": "code",
   "execution_count": 91,
   "id": "7ace51e8",
   "metadata": {},
   "outputs": [
    {
     "data": {
      "text/html": [
       "<div>\n",
       "<style scoped>\n",
       "    .dataframe tbody tr th:only-of-type {\n",
       "        vertical-align: middle;\n",
       "    }\n",
       "\n",
       "    .dataframe tbody tr th {\n",
       "        vertical-align: top;\n",
       "    }\n",
       "\n",
       "    .dataframe thead th {\n",
       "        text-align: right;\n",
       "    }\n",
       "</style>\n",
       "<table border=\"1\" class=\"dataframe\">\n",
       "  <thead>\n",
       "    <tr style=\"text-align: right;\">\n",
       "      <th></th>\n",
       "      <th>Year</th>\n",
       "      <th>Sex</th>\n",
       "      <th>Fatal</th>\n",
       "      <th>Age</th>\n",
       "      <th>Time</th>\n",
       "    </tr>\n",
       "  </thead>\n",
       "  <tbody>\n",
       "    <tr>\n",
       "      <th>4587</th>\n",
       "      <td>1947.0</td>\n",
       "      <td>NaN</td>\n",
       "      <td>N</td>\n",
       "      <td>17 &amp; 16</td>\n",
       "      <td>NaN</td>\n",
       "    </tr>\n",
       "  </tbody>\n",
       "</table>\n",
       "</div>"
      ],
      "text/plain": [
       "        Year  Sex Fatal      Age Time\n",
       "4587  1947.0  NaN     N  17 & 16  NaN"
      ]
     },
     "execution_count": 91,
     "metadata": {},
     "output_type": "execute_result"
    }
   ],
   "source": [
    "df.loc[df[\"Age\"] == \"17 & 16\"] #4587"
   ]
  },
  {
   "cell_type": "code",
   "execution_count": 92,
   "id": "76504bd6",
   "metadata": {},
   "outputs": [
    {
     "name": "stderr",
     "output_type": "stream",
     "text": [
      "C:\\Users\\gdcma\\AppData\\Local\\Temp\\ipykernel_10652\\896244062.py:1: SettingWithCopyWarning: \n",
      "A value is trying to be set on a copy of a slice from a DataFrame\n",
      "\n",
      "See the caveats in the documentation: https://pandas.pydata.org/pandas-docs/stable/user_guide/indexing.html#returning-a-view-versus-a-copy\n",
      "  df.loc[10026] = df.loc[4587].copy()\n"
     ]
    }
   ],
   "source": [
    "df.loc[10026] = df.loc[4587].copy()\n",
    "df.loc[4587, \"Age\"] = \"17\"\n",
    "df.loc[10026, \"Age\"] = \"16\""
   ]
  },
  {
   "cell_type": "code",
   "execution_count": 93,
   "id": "fe9d28b9",
   "metadata": {},
   "outputs": [
    {
     "data": {
      "text/html": [
       "<div>\n",
       "<style scoped>\n",
       "    .dataframe tbody tr th:only-of-type {\n",
       "        vertical-align: middle;\n",
       "    }\n",
       "\n",
       "    .dataframe tbody tr th {\n",
       "        vertical-align: top;\n",
       "    }\n",
       "\n",
       "    .dataframe thead th {\n",
       "        text-align: right;\n",
       "    }\n",
       "</style>\n",
       "<table border=\"1\" class=\"dataframe\">\n",
       "  <thead>\n",
       "    <tr style=\"text-align: right;\">\n",
       "      <th></th>\n",
       "      <th>Year</th>\n",
       "      <th>Sex</th>\n",
       "      <th>Fatal</th>\n",
       "      <th>Age</th>\n",
       "      <th>Time</th>\n",
       "    </tr>\n",
       "  </thead>\n",
       "  <tbody>\n",
       "    <tr>\n",
       "      <th>4801</th>\n",
       "      <td>1939.0</td>\n",
       "      <td>M</td>\n",
       "      <td>N</td>\n",
       "      <td>Both 11</td>\n",
       "      <td>NaN</td>\n",
       "    </tr>\n",
       "  </tbody>\n",
       "</table>\n",
       "</div>"
      ],
      "text/plain": [
       "        Year Sex Fatal      Age Time\n",
       "4801  1939.0   M     N  Both 11  NaN"
      ]
     },
     "execution_count": 93,
     "metadata": {},
     "output_type": "execute_result"
    }
   ],
   "source": [
    "df.loc[df[\"Age\"] == \"Both 11\"] #4801"
   ]
  },
  {
   "cell_type": "code",
   "execution_count": 94,
   "id": "0a334be4",
   "metadata": {},
   "outputs": [
    {
     "name": "stderr",
     "output_type": "stream",
     "text": [
      "C:\\Users\\gdcma\\AppData\\Local\\Temp\\ipykernel_10652\\4132104373.py:1: SettingWithCopyWarning: \n",
      "A value is trying to be set on a copy of a slice from a DataFrame\n",
      "\n",
      "See the caveats in the documentation: https://pandas.pydata.org/pandas-docs/stable/user_guide/indexing.html#returning-a-view-versus-a-copy\n",
      "  df.loc[10027] = df.loc[4801].copy()\n"
     ]
    }
   ],
   "source": [
    "df.loc[10027] = df.loc[4801].copy()\n",
    "df.loc[4801, \"Age\"] = \"11\"\n",
    "df.loc[10027, \"Age\"] = \"11\""
   ]
  },
  {
   "cell_type": "code",
   "execution_count": 95,
   "id": "a6419caf",
   "metadata": {},
   "outputs": [
    {
     "data": {
      "text/html": [
       "<div>\n",
       "<style scoped>\n",
       "    .dataframe tbody tr th:only-of-type {\n",
       "        vertical-align: middle;\n",
       "    }\n",
       "\n",
       "    .dataframe tbody tr th {\n",
       "        vertical-align: top;\n",
       "    }\n",
       "\n",
       "    .dataframe thead th {\n",
       "        text-align: right;\n",
       "    }\n",
       "</style>\n",
       "<table border=\"1\" class=\"dataframe\">\n",
       "  <thead>\n",
       "    <tr style=\"text-align: right;\">\n",
       "      <th></th>\n",
       "      <th>Year</th>\n",
       "      <th>Sex</th>\n",
       "      <th>Fatal</th>\n",
       "      <th>Age</th>\n",
       "      <th>Time</th>\n",
       "    </tr>\n",
       "  </thead>\n",
       "  <tbody>\n",
       "    <tr>\n",
       "      <th>4999</th>\n",
       "      <td>1932.0</td>\n",
       "      <td>M</td>\n",
       "      <td>Y</td>\n",
       "      <td>36 &amp; 23</td>\n",
       "      <td>NaN</td>\n",
       "    </tr>\n",
       "  </tbody>\n",
       "</table>\n",
       "</div>"
      ],
      "text/plain": [
       "        Year Sex Fatal      Age Time\n",
       "4999  1932.0   M     Y  36 & 23  NaN"
      ]
     },
     "execution_count": 95,
     "metadata": {},
     "output_type": "execute_result"
    }
   ],
   "source": [
    "df.loc[df[\"Age\"] == \"36 & 23\"] #4999"
   ]
  },
  {
   "cell_type": "code",
   "execution_count": 96,
   "id": "91a4dbbd",
   "metadata": {},
   "outputs": [
    {
     "name": "stderr",
     "output_type": "stream",
     "text": [
      "C:\\Users\\gdcma\\AppData\\Local\\Temp\\ipykernel_10652\\3979064771.py:1: SettingWithCopyWarning: \n",
      "A value is trying to be set on a copy of a slice from a DataFrame\n",
      "\n",
      "See the caveats in the documentation: https://pandas.pydata.org/pandas-docs/stable/user_guide/indexing.html#returning-a-view-versus-a-copy\n",
      "  df.loc[10028] = df.loc[4999].copy()\n"
     ]
    }
   ],
   "source": [
    "df.loc[10028] = df.loc[4999].copy()\n",
    "df.loc[4999, \"Age\"] = \"36\"\n",
    "df.loc[10028, \"Age\"] = \"23\""
   ]
  },
  {
   "cell_type": "code",
   "execution_count": 97,
   "id": "e7253f56",
   "metadata": {},
   "outputs": [
    {
     "data": {
      "text/html": [
       "<div>\n",
       "<style scoped>\n",
       "    .dataframe tbody tr th:only-of-type {\n",
       "        vertical-align: middle;\n",
       "    }\n",
       "\n",
       "    .dataframe tbody tr th {\n",
       "        vertical-align: top;\n",
       "    }\n",
       "\n",
       "    .dataframe thead th {\n",
       "        text-align: right;\n",
       "    }\n",
       "</style>\n",
       "<table border=\"1\" class=\"dataframe\">\n",
       "  <thead>\n",
       "    <tr style=\"text-align: right;\">\n",
       "      <th></th>\n",
       "      <th>Year</th>\n",
       "      <th>Sex</th>\n",
       "      <th>Fatal</th>\n",
       "      <th>Age</th>\n",
       "      <th>Time</th>\n",
       "    </tr>\n",
       "  </thead>\n",
       "  <tbody>\n",
       "    <tr>\n",
       "      <th>5181</th>\n",
       "      <td>1924.0</td>\n",
       "      <td>M</td>\n",
       "      <td>N</td>\n",
       "      <td>?    &amp;   14</td>\n",
       "      <td>NaN</td>\n",
       "    </tr>\n",
       "  </tbody>\n",
       "</table>\n",
       "</div>"
      ],
      "text/plain": [
       "        Year Sex Fatal          Age Time\n",
       "5181  1924.0   M     N  ?    &   14  NaN"
      ]
     },
     "execution_count": 97,
     "metadata": {},
     "output_type": "execute_result"
    }
   ],
   "source": [
    "df.loc[df[\"Age\"] == \"?    &   14\"] #5181"
   ]
  },
  {
   "cell_type": "code",
   "execution_count": 98,
   "id": "af68b835",
   "metadata": {},
   "outputs": [
    {
     "name": "stderr",
     "output_type": "stream",
     "text": [
      "C:\\Users\\gdcma\\AppData\\Local\\Temp\\ipykernel_10652\\2192727088.py:1: SettingWithCopyWarning: \n",
      "A value is trying to be set on a copy of a slice from a DataFrame\n",
      "\n",
      "See the caveats in the documentation: https://pandas.pydata.org/pandas-docs/stable/user_guide/indexing.html#returning-a-view-versus-a-copy\n",
      "  df.loc[10029] = df.loc[5181].copy()\n"
     ]
    }
   ],
   "source": [
    "df.loc[10029] = df.loc[5181].copy()\n",
    "df.loc[5181, \"Age\"] = float('nan')\n",
    "df.loc[10029, \"Age\"] = \"14\""
   ]
  },
  {
   "cell_type": "code",
   "execution_count": 99,
   "id": "8073b407",
   "metadata": {},
   "outputs": [
    {
     "name": "stderr",
     "output_type": "stream",
     "text": [
      "C:\\Users\\gdcma\\AppData\\Local\\Temp\\ipykernel_10652\\299129096.py:1: SettingWithCopyWarning: \n",
      "A value is trying to be set on a copy of a slice from a DataFrame.\n",
      "Try using .loc[row_indexer,col_indexer] = value instead\n",
      "\n",
      "See the caveats in the documentation: https://pandas.pydata.org/pandas-docs/stable/user_guide/indexing.html#returning-a-view-versus-a-copy\n",
      "  df[\"Age\"] = pd.to_numeric(df[\"Age\"])\n"
     ]
    }
   ],
   "source": [
    "df[\"Age\"] = pd.to_numeric(df[\"Age\"])"
   ]
  },
  {
   "cell_type": "code",
   "execution_count": 100,
   "id": "fa69f92e",
   "metadata": {},
   "outputs": [
    {
     "data": {
      "text/plain": [
       "count    3404.000000\n",
       "mean       27.424794\n",
       "std        13.979307\n",
       "min         0.000000\n",
       "25%        17.000000\n",
       "50%        24.000000\n",
       "75%        35.000000\n",
       "max        87.000000\n",
       "Name: Age, dtype: float64"
      ]
     },
     "execution_count": 100,
     "metadata": {},
     "output_type": "execute_result"
    }
   ],
   "source": [
    "df[\"Age\"].describe()"
   ]
  },
  {
   "cell_type": "code",
   "execution_count": 101,
   "id": "85d8bb60",
   "metadata": {},
   "outputs": [
    {
     "data": {
      "text/plain": [
       "1409"
      ]
     },
     "execution_count": 101,
     "metadata": {},
     "output_type": "execute_result"
    }
   ],
   "source": [
    "df[\"Age\"].isna().sum() # 1409 out of 4783 observations"
   ]
  },
  {
   "cell_type": "markdown",
   "id": "0ba50565",
   "metadata": {},
   "source": [
    "### Cleaning of \"Time\" (1885 NaN)"
   ]
  },
  {
   "cell_type": "markdown",
   "id": "2a7dfa27",
   "metadata": {},
   "source": [
    "New categories:\n",
    "- Morning: 6-12\n",
    "- Afternoon: 12-18\n",
    "- Evening: 18-0\n",
    "- Night: 0-6"
   ]
  },
  {
   "cell_type": "code",
   "execution_count": 102,
   "id": "1471b955",
   "metadata": {},
   "outputs": [
    {
     "data": {
      "text/plain": [
       "count          2907\n",
       "unique          366\n",
       "top       Afternoon\n",
       "freq            180\n",
       "Name: Time, dtype: object"
      ]
     },
     "execution_count": 102,
     "metadata": {},
     "output_type": "execute_result"
    }
   ],
   "source": [
    "df[\"Time\"].describe() # 368 different categories"
   ]
  },
  {
   "cell_type": "code",
   "execution_count": 103,
   "id": "bb7167c6",
   "metadata": {
    "scrolled": true
   },
   "outputs": [
    {
     "name": "stderr",
     "output_type": "stream",
     "text": [
      "C:\\Users\\gdcma\\AppData\\Local\\Temp\\ipykernel_10652\\3960003284.py:1: SettingWithCopyWarning: \n",
      "A value is trying to be set on a copy of a slice from a DataFrame.\n",
      "Try using .loc[row_indexer,col_indexer] = value instead\n",
      "\n",
      "See the caveats in the documentation: https://pandas.pydata.org/pandas-docs/stable/user_guide/indexing.html#returning-a-view-versus-a-copy\n",
      "  df[\"col1\"] = df[\"Time\"].str.extract(\"(\\d{1,2})\")\n",
      "C:\\Users\\gdcma\\AppData\\Local\\Temp\\ipykernel_10652\\3960003284.py:2: SettingWithCopyWarning: \n",
      "A value is trying to be set on a copy of a slice from a DataFrame.\n",
      "Try using .loc[row_indexer,col_indexer] = value instead\n",
      "\n",
      "See the caveats in the documentation: https://pandas.pydata.org/pandas-docs/stable/user_guide/indexing.html#returning-a-view-versus-a-copy\n",
      "  df[\"col1\"] = pd.to_numeric(df[\"col1\"])\n"
     ]
    }
   ],
   "source": [
    "df[\"col1\"] = df[\"Time\"].str.extract(\"(\\d{1,2})\")\n",
    "df[\"col1\"] = pd.to_numeric(df[\"col1\"])"
   ]
  },
  {
   "cell_type": "markdown",
   "id": "cb439830",
   "metadata": {},
   "source": [
    "#### Morning 6-12"
   ]
  },
  {
   "cell_type": "code",
   "execution_count": 104,
   "id": "773d8221",
   "metadata": {},
   "outputs": [
    {
     "name": "stderr",
     "output_type": "stream",
     "text": [
      "C:\\Users\\gdcma\\AppData\\Local\\Temp\\ipykernel_10652\\2506559794.py:2: SettingWithCopyWarning: \n",
      "A value is trying to be set on a copy of a slice from a DataFrame.\n",
      "Try using .loc[row_indexer,col_indexer] = value instead\n",
      "\n",
      "See the caveats in the documentation: https://pandas.pydata.org/pandas-docs/stable/user_guide/indexing.html#returning-a-view-versus-a-copy\n",
      "  df.loc[mask, \"col2\"] = \"Morning\"\n",
      "C:\\Users\\gdcma\\AppData\\Local\\Temp\\ipykernel_10652\\2506559794.py:2: FutureWarning: Setting an item of incompatible dtype is deprecated and will raise in a future error of pandas. Value 'Morning' has dtype incompatible with float64, please explicitly cast to a compatible dtype first.\n",
      "  df.loc[mask, \"col2\"] = \"Morning\"\n"
     ]
    }
   ],
   "source": [
    "mask = (df[\"col1\"] >= 6) & (df[\"col1\"] < 12)\n",
    "df.loc[mask, \"col2\"] = \"Morning\"\n",
    "mask = df[\"Time\"].str.contains(\"orning\", na=False, regex=False) #mask is a panda Series formed of True False and NaN\n",
    "df.loc[mask, \"col2\"] = \"Morning\" #mask is true, then..."
   ]
  },
  {
   "cell_type": "markdown",
   "id": "e41f3e85",
   "metadata": {},
   "source": [
    "#### Afternoon"
   ]
  },
  {
   "cell_type": "code",
   "execution_count": 105,
   "id": "bfda042b",
   "metadata": {},
   "outputs": [],
   "source": [
    "mask = (df[\"col1\"] >= 12) & (df[\"col1\"] < 18)\n",
    "df.loc[mask, \"col2\"] = \"Afternoon\"\n",
    "mask = df[\"Time\"].str.contains(\"fternoon\", na=False, regex=False)\n",
    "df.loc[mask, \"col2\"] = \"Afternoon\""
   ]
  },
  {
   "cell_type": "markdown",
   "id": "b1a25894",
   "metadata": {},
   "source": [
    "#### Evening"
   ]
  },
  {
   "cell_type": "code",
   "execution_count": 106,
   "id": "112813f5",
   "metadata": {},
   "outputs": [],
   "source": [
    "mask = (df[\"col1\"] >= 18)\n",
    "df.loc[mask, \"col2\"] = \"Evening\"\n",
    "mask = df[\"Time\"].str.contains(\"vening\", na=False, regex=False)\n",
    "df.loc[mask, \"col2\"] = \"Evening\""
   ]
  },
  {
   "cell_type": "markdown",
   "id": "3be1d9c4",
   "metadata": {},
   "source": [
    "#### Night"
   ]
  },
  {
   "cell_type": "code",
   "execution_count": 107,
   "id": "4dad9fd6",
   "metadata": {},
   "outputs": [],
   "source": [
    "mask = (df[\"col1\"] < 6)\n",
    "df.loc[mask, \"col2\"] = \"Night\"\n",
    "mask = df[\"Time\"].str.contains(\"ight\", na=False, regex=False)\n",
    "df.loc[mask, \"col2\"] = \"Night\""
   ]
  },
  {
   "cell_type": "code",
   "execution_count": 108,
   "id": "70aefa67",
   "metadata": {},
   "outputs": [
    {
     "name": "stdout",
     "output_type": "stream",
     "text": [
      "1996 1906\n"
     ]
    }
   ],
   "source": [
    "print(df[\"col2\"].isna().sum(), df[\"Time\"].isna().sum())"
   ]
  },
  {
   "cell_type": "code",
   "execution_count": 109,
   "id": "723a012f",
   "metadata": {},
   "outputs": [
    {
     "data": {
      "text/html": [
       "<div>\n",
       "<style scoped>\n",
       "    .dataframe tbody tr th:only-of-type {\n",
       "        vertical-align: middle;\n",
       "    }\n",
       "\n",
       "    .dataframe tbody tr th {\n",
       "        vertical-align: top;\n",
       "    }\n",
       "\n",
       "    .dataframe thead th {\n",
       "        text-align: right;\n",
       "    }\n",
       "</style>\n",
       "<table border=\"1\" class=\"dataframe\">\n",
       "  <thead>\n",
       "    <tr style=\"text-align: right;\">\n",
       "      <th></th>\n",
       "      <th>Year</th>\n",
       "      <th>Sex</th>\n",
       "      <th>Fatal</th>\n",
       "      <th>Age</th>\n",
       "      <th>Time</th>\n",
       "      <th>col1</th>\n",
       "      <th>col2</th>\n",
       "    </tr>\n",
       "  </thead>\n",
       "  <tbody>\n",
       "    <tr>\n",
       "      <th>3597</th>\n",
       "      <td>1966.0</td>\n",
       "      <td>F</td>\n",
       "      <td>NaN</td>\n",
       "      <td>15.0</td>\n",
       "      <td>\"After lunch\"</td>\n",
       "      <td>NaN</td>\n",
       "      <td>NaN</td>\n",
       "    </tr>\n",
       "    <tr>\n",
       "      <th>1730</th>\n",
       "      <td>2003.0</td>\n",
       "      <td>M</td>\n",
       "      <td>N</td>\n",
       "      <td>19.0</td>\n",
       "      <td>--</td>\n",
       "      <td>NaN</td>\n",
       "      <td>NaN</td>\n",
       "    </tr>\n",
       "    <tr>\n",
       "      <th>1220</th>\n",
       "      <td>2008.0</td>\n",
       "      <td>F</td>\n",
       "      <td>N</td>\n",
       "      <td>38.0</td>\n",
       "      <td>Dusk</td>\n",
       "      <td>NaN</td>\n",
       "      <td>NaN</td>\n",
       "    </tr>\n",
       "    <tr>\n",
       "      <th>3579</th>\n",
       "      <td>1966.0</td>\n",
       "      <td>M</td>\n",
       "      <td>Y</td>\n",
       "      <td>38.0</td>\n",
       "      <td>Dark</td>\n",
       "      <td>NaN</td>\n",
       "      <td>NaN</td>\n",
       "    </tr>\n",
       "    <tr>\n",
       "      <th>2034</th>\n",
       "      <td>2000.0</td>\n",
       "      <td>M</td>\n",
       "      <td>N</td>\n",
       "      <td>NaN</td>\n",
       "      <td>After Dusk</td>\n",
       "      <td>NaN</td>\n",
       "      <td>NaN</td>\n",
       "    </tr>\n",
       "  </tbody>\n",
       "</table>\n",
       "</div>"
      ],
      "text/plain": [
       "        Year Sex Fatal   Age           Time  col1 col2\n",
       "3597  1966.0   F   NaN  15.0  \"After lunch\"   NaN  NaN\n",
       "1730  2003.0   M     N  19.0             --   NaN  NaN\n",
       "1220  2008.0   F     N  38.0           Dusk   NaN  NaN\n",
       "3579  1966.0   M     Y  38.0           Dark   NaN  NaN\n",
       "2034  2000.0   M     N   NaN     After Dusk   NaN  NaN"
      ]
     },
     "execution_count": 109,
     "metadata": {},
     "output_type": "execute_result"
    }
   ],
   "source": [
    "df[df[\"col2\"].isna() & df[\"Time\"].notna()].sample(5)"
   ]
  },
  {
   "cell_type": "markdown",
   "id": "66ead87c",
   "metadata": {},
   "source": [
    "    Morning:\n",
    "    - \"A.M.\"\n",
    "    - \"AM\"\n",
    "    - \"Just before noon\"\n",
    "    - Dawn\n",
    "    - Daybreak\n",
    "\n",
    "    Afternoon:\n",
    "    - \"After noon\"\n",
    "    - \"Noon\"\n",
    "    - \"P.M.\"\n",
    "    - \"Midday\"\n",
    "    - '\"After lunch\"'\n",
    "    - Late afternon\n",
    "    - \"Lunchtime\"\n",
    "\n",
    "    Evening:\n",
    "    - \"Just before sundown\"\n",
    "    - \"shortly before dusk\"\n",
    "\n",
    "    Night:\n",
    "    - \"Dark\"\n",
    "    - '\"After dark\"'\n",
    "    - Just before dawn\n",
    "    - Sunset\n",
    "    - Dusk\n",
    "\n",
    "    NaN:\n",
    "    - \"--\"\n",
    "    - \"X\""
   ]
  },
  {
   "cell_type": "code",
   "execution_count": 110,
   "id": "ca48795b",
   "metadata": {},
   "outputs": [],
   "source": [
    "mask = (df[\"Time\"].str.contains(\"A.?M\", na = False)) | (df[\"Time\"].str.contains(\"b?efore noon\", na = False)) | (df[\"Time\"] == \"Dawn\") | (df[\"Time\"] == \"Daybreak\") | (df[\"Time\"] == \"Daytime\")\n",
    "df.loc[mask, \"col2\"] = \"Morning\""
   ]
  },
  {
   "cell_type": "code",
   "execution_count": 111,
   "id": "5f942342",
   "metadata": {},
   "outputs": [],
   "source": [
    "mask = (df[\"Time\"].str.contains(\"fter\\s?[nl]\", na = False)) | (df[\"Time\"].str.contains(\"Noon\", na = False, regex = False)) | (df[\"Time\"].str.contains(\"P.?M\", na=False)) | (df[\"Time\"].str.contains(\"Midday\", na = False, regex = False)) | (df[\"Time\"].str.contains(\"luncht?\", na=False)) | (df[\"Time\"].str.contains(\"Luncht?\", na=False))\n",
    "df.loc[mask, \"col2\"] = \"Afternoon\""
   ]
  },
  {
   "cell_type": "code",
   "execution_count": 112,
   "id": "4cd1020f",
   "metadata": {},
   "outputs": [],
   "source": [
    "mask = (df[\"Time\"].str.contains(\"sundown\")) | (df[\"Time\"].str.contains(\"before dusk\", na=False, regex=False))\n",
    "df.loc[mask, \"col2\"] = \"Evening\""
   ]
  },
  {
   "cell_type": "code",
   "execution_count": 113,
   "id": "53ecb19a",
   "metadata": {},
   "outputs": [],
   "source": [
    "mask = (df[\"Time\"].str.contains(\"dark\", na=False, regex=False)) | (df[\"Time\"] == \"Dark\") | (df[\"Time\"].str.contains(\"before dawn\", na=False, regex=False)) | (df[\"Time\"] == \"sunset\") | (df[\"Time\"] == \"Sunset\") | (df[\"Time\"].str.contains(\"dusk\", na=False, regex=False)) | (df[\"Time\"].str.contains(\"Dusk\", na = False, regex=False)) | (df[\"Time\"] == \"Before daybreak\")\n",
    "df.loc[mask, \"col2\"] = \"Night\""
   ]
  },
  {
   "cell_type": "code",
   "execution_count": 114,
   "id": "ec66d1fb",
   "metadata": {},
   "outputs": [],
   "source": [
    "mask = (df[\"Time\"] == \"--\") | (df[\"Time\"] == \"X\")\n",
    "df.loc[mask, \"col2\"] = float('nan')"
   ]
  },
  {
   "cell_type": "code",
   "execution_count": 115,
   "id": "7508aab8",
   "metadata": {},
   "outputs": [
    {
     "data": {
      "text/html": [
       "<div>\n",
       "<style scoped>\n",
       "    .dataframe tbody tr th:only-of-type {\n",
       "        vertical-align: middle;\n",
       "    }\n",
       "\n",
       "    .dataframe tbody tr th {\n",
       "        vertical-align: top;\n",
       "    }\n",
       "\n",
       "    .dataframe thead th {\n",
       "        text-align: right;\n",
       "    }\n",
       "</style>\n",
       "<table border=\"1\" class=\"dataframe\">\n",
       "  <thead>\n",
       "    <tr style=\"text-align: right;\">\n",
       "      <th></th>\n",
       "      <th>Year</th>\n",
       "      <th>Sex</th>\n",
       "      <th>Fatal</th>\n",
       "      <th>Age</th>\n",
       "      <th>Time</th>\n",
       "      <th>col1</th>\n",
       "      <th>col2</th>\n",
       "    </tr>\n",
       "  </thead>\n",
       "  <tbody>\n",
       "    <tr>\n",
       "      <th>1384</th>\n",
       "      <td>2007.0</td>\n",
       "      <td>NaN</td>\n",
       "      <td>Y</td>\n",
       "      <td>NaN</td>\n",
       "      <td></td>\n",
       "      <td>NaN</td>\n",
       "      <td>NaN</td>\n",
       "    </tr>\n",
       "    <tr>\n",
       "      <th>1730</th>\n",
       "      <td>2003.0</td>\n",
       "      <td>M</td>\n",
       "      <td>N</td>\n",
       "      <td>19.0</td>\n",
       "      <td>--</td>\n",
       "      <td>NaN</td>\n",
       "      <td>NaN</td>\n",
       "    </tr>\n",
       "    <tr>\n",
       "      <th>1731</th>\n",
       "      <td>2003.0</td>\n",
       "      <td>M</td>\n",
       "      <td>Y</td>\n",
       "      <td>NaN</td>\n",
       "      <td>--</td>\n",
       "      <td>NaN</td>\n",
       "      <td>NaN</td>\n",
       "    </tr>\n",
       "    <tr>\n",
       "      <th>1790</th>\n",
       "      <td>2003.0</td>\n",
       "      <td>M</td>\n",
       "      <td>N</td>\n",
       "      <td>28.0</td>\n",
       "      <td>--</td>\n",
       "      <td>NaN</td>\n",
       "      <td>NaN</td>\n",
       "    </tr>\n",
       "    <tr>\n",
       "      <th>1797</th>\n",
       "      <td>2003.0</td>\n",
       "      <td>M</td>\n",
       "      <td>N</td>\n",
       "      <td>24.0</td>\n",
       "      <td>--</td>\n",
       "      <td>NaN</td>\n",
       "      <td>NaN</td>\n",
       "    </tr>\n",
       "    <tr>\n",
       "      <th>1799</th>\n",
       "      <td>2003.0</td>\n",
       "      <td>M</td>\n",
       "      <td>NaN</td>\n",
       "      <td>14.0</td>\n",
       "      <td>--</td>\n",
       "      <td>NaN</td>\n",
       "      <td>NaN</td>\n",
       "    </tr>\n",
       "    <tr>\n",
       "      <th>1826</th>\n",
       "      <td>2002.0</td>\n",
       "      <td>M</td>\n",
       "      <td>N</td>\n",
       "      <td>24.0</td>\n",
       "      <td></td>\n",
       "      <td>NaN</td>\n",
       "      <td>NaN</td>\n",
       "    </tr>\n",
       "    <tr>\n",
       "      <th>1855</th>\n",
       "      <td>2002.0</td>\n",
       "      <td>M</td>\n",
       "      <td>N</td>\n",
       "      <td>50.0</td>\n",
       "      <td></td>\n",
       "      <td>NaN</td>\n",
       "      <td>NaN</td>\n",
       "    </tr>\n",
       "    <tr>\n",
       "      <th>2710</th>\n",
       "      <td>1988.0</td>\n",
       "      <td>M</td>\n",
       "      <td>N</td>\n",
       "      <td>30.0</td>\n",
       "      <td>X</td>\n",
       "      <td>NaN</td>\n",
       "      <td>NaN</td>\n",
       "    </tr>\n",
       "    <tr>\n",
       "      <th>5006</th>\n",
       "      <td>1931.0</td>\n",
       "      <td>M</td>\n",
       "      <td>Y</td>\n",
       "      <td>18.0</td>\n",
       "      <td>FATAL  (Wire netting installed at local beache...</td>\n",
       "      <td>NaN</td>\n",
       "      <td>NaN</td>\n",
       "    </tr>\n",
       "    <tr>\n",
       "      <th>5148</th>\n",
       "      <td>1926.0</td>\n",
       "      <td>M</td>\n",
       "      <td>N</td>\n",
       "      <td>15.0</td>\n",
       "      <td></td>\n",
       "      <td>NaN</td>\n",
       "      <td>NaN</td>\n",
       "    </tr>\n",
       "    <tr>\n",
       "      <th>5692</th>\n",
       "      <td>1891.0</td>\n",
       "      <td>M</td>\n",
       "      <td>NaN</td>\n",
       "      <td>NaN</td>\n",
       "      <td></td>\n",
       "      <td>NaN</td>\n",
       "      <td>NaN</td>\n",
       "    </tr>\n",
       "  </tbody>\n",
       "</table>\n",
       "</div>"
      ],
      "text/plain": [
       "        Year  Sex Fatal   Age  \\\n",
       "1384  2007.0  NaN     Y   NaN   \n",
       "1730  2003.0    M     N  19.0   \n",
       "1731  2003.0    M     Y   NaN   \n",
       "1790  2003.0    M     N  28.0   \n",
       "1797  2003.0    M     N  24.0   \n",
       "1799  2003.0    M   NaN  14.0   \n",
       "1826  2002.0    M     N  24.0   \n",
       "1855  2002.0    M     N  50.0   \n",
       "2710  1988.0    M     N  30.0   \n",
       "5006  1931.0    M     Y  18.0   \n",
       "5148  1926.0    M     N  15.0   \n",
       "5692  1891.0    M   NaN   NaN   \n",
       "\n",
       "                                                   Time  col1 col2  \n",
       "1384                                                      NaN  NaN  \n",
       "1730                                                 --   NaN  NaN  \n",
       "1731                                                 --   NaN  NaN  \n",
       "1790                                                 --   NaN  NaN  \n",
       "1797                                                 --   NaN  NaN  \n",
       "1799                                                 --   NaN  NaN  \n",
       "1826                                                      NaN  NaN  \n",
       "1855                                                      NaN  NaN  \n",
       "2710                                                  X   NaN  NaN  \n",
       "5006  FATAL  (Wire netting installed at local beache...   NaN  NaN  \n",
       "5148                                                      NaN  NaN  \n",
       "5692                                                      NaN  NaN  "
      ]
     },
     "execution_count": 115,
     "metadata": {},
     "output_type": "execute_result"
    }
   ],
   "source": [
    "df[df[\"col2\"].isna() & df[\"Time\"].notna()] #Depuration finished"
   ]
  },
  {
   "cell_type": "code",
   "execution_count": 116,
   "id": "b38dcd03",
   "metadata": {},
   "outputs": [
    {
     "name": "stderr",
     "output_type": "stream",
     "text": [
      "C:\\Users\\gdcma\\AppData\\Local\\Temp\\ipykernel_10652\\876707678.py:1: SettingWithCopyWarning: \n",
      "A value is trying to be set on a copy of a slice from a DataFrame\n",
      "\n",
      "See the caveats in the documentation: https://pandas.pydata.org/pandas-docs/stable/user_guide/indexing.html#returning-a-view-versus-a-copy\n",
      "  df.rename({\"col2\":\"Moment\"}, axis=1, inplace=True)\n",
      "C:\\Users\\gdcma\\AppData\\Local\\Temp\\ipykernel_10652\\876707678.py:2: SettingWithCopyWarning: \n",
      "A value is trying to be set on a copy of a slice from a DataFrame\n",
      "\n",
      "See the caveats in the documentation: https://pandas.pydata.org/pandas-docs/stable/user_guide/indexing.html#returning-a-view-versus-a-copy\n",
      "  df.drop([\"col1\"], axis = 1, inplace = True)\n",
      "C:\\Users\\gdcma\\AppData\\Local\\Temp\\ipykernel_10652\\876707678.py:3: SettingWithCopyWarning: \n",
      "A value is trying to be set on a copy of a slice from a DataFrame\n",
      "\n",
      "See the caveats in the documentation: https://pandas.pydata.org/pandas-docs/stable/user_guide/indexing.html#returning-a-view-versus-a-copy\n",
      "  df.drop([\"Time\"], axis = 1 , inplace = True)\n"
     ]
    }
   ],
   "source": [
    "df.rename({\"col2\":\"Moment\"}, axis=1, inplace=True)\n",
    "df.drop([\"col1\"], axis = 1, inplace = True)\n",
    "df.drop([\"Time\"], axis = 1 , inplace = True)"
   ]
  },
  {
   "cell_type": "code",
   "execution_count": 117,
   "id": "fc8cc345",
   "metadata": {
    "scrolled": false
   },
   "outputs": [
    {
     "data": {
      "text/plain": [
       "Moment\n",
       "Afternoon    1557\n",
       "Morning       923\n",
       "Evening       270\n",
       "Night         145\n",
       "Name: count, dtype: int64"
      ]
     },
     "execution_count": 117,
     "metadata": {},
     "output_type": "execute_result"
    }
   ],
   "source": [
    "df[\"Moment\"].value_counts()"
   ]
  },
  {
   "cell_type": "code",
   "execution_count": 119,
   "id": "733d27a9",
   "metadata": {},
   "outputs": [
    {
     "data": {
      "text/plain": [
       "1918"
      ]
     },
     "execution_count": 119,
     "metadata": {},
     "output_type": "execute_result"
    }
   ],
   "source": [
    "df[\"Moment\"].isna().sum()"
   ]
  },
  {
   "cell_type": "code",
   "execution_count": 118,
   "id": "78ca42ec",
   "metadata": {},
   "outputs": [],
   "source": [
    "df.to_csv(\"../data/df_projectI.csv\", index=False)"
   ]
  }
 ],
 "metadata": {
  "kernelspec": {
   "display_name": "ironhack",
   "language": "python",
   "name": "ironhack"
  },
  "language_info": {
   "codemirror_mode": {
    "name": "ipython",
    "version": 3
   },
   "file_extension": ".py",
   "mimetype": "text/x-python",
   "name": "python",
   "nbconvert_exporter": "python",
   "pygments_lexer": "ipython3",
   "version": "3.11.5"
  }
 },
 "nbformat": 4,
 "nbformat_minor": 5
}
