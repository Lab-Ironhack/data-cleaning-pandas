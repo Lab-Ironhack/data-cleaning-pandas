{
 "cells": [
  {
   "cell_type": "markdown",
   "id": "6ce84033",
   "metadata": {},
   "source": [
    "# Research questions:\n",
    "---\n",
    "Shark related attacks according to sex.\n",
    "- Shark related attacks according to sex, throughout history\n",
    "\n",
    "Shark related deaths according to sex.\n",
    "- Shark related deaths according to sex, throughout history\n",
    "\n",
    "PIRATE KIDS:\n",
    "- Shark related infant deaths according to sex throughout history\n",
    "---\n",
    "**Bonus question:**\n",
    "- Morning bird-shark: What is a shark's favourite meal?\n",
    "---"
   ]
  },
  {
   "cell_type": "markdown",
   "id": "6ae4da5c",
   "metadata": {},
   "source": [
    "## Libraries"
   ]
  },
  {
   "cell_type": "code",
   "execution_count": 1,
   "id": "69d0e784",
   "metadata": {},
   "outputs": [],
   "source": [
    "import pandas as pd\n",
    "import seaborn as sns"
   ]
  },
  {
   "cell_type": "markdown",
   "id": "a61757a0",
   "metadata": {},
   "source": [
    "## Subset with variables of interest"
   ]
  },
  {
   "cell_type": "code",
   "execution_count": 2,
   "id": "5558964a",
   "metadata": {},
   "outputs": [],
   "source": [
    "attacks = pd.read_csv(\"../data/attacks.csv\", encoding = \"unicode_escape\")\n",
    "df = attacks[[\"Year\", \"Sex \", \"Fatal (Y/N)\", \"Age\", \"Time\"]]"
   ]
  },
  {
   "cell_type": "code",
   "execution_count": 3,
   "id": "66444610",
   "metadata": {},
   "outputs": [
    {
     "data": {
      "text/plain": [
       "20940"
      ]
     },
     "execution_count": 3,
     "metadata": {},
     "output_type": "execute_result"
    }
   ],
   "source": [
    "df.duplicated().sum()"
   ]
  },
  {
   "cell_type": "code",
   "execution_count": 4,
   "id": "887170b8",
   "metadata": {},
   "outputs": [
    {
     "name": "stderr",
     "output_type": "stream",
     "text": [
      "C:\\Users\\gdcma\\AppData\\Local\\Temp\\ipykernel_8096\\3424306917.py:1: SettingWithCopyWarning: \n",
      "A value is trying to be set on a copy of a slice from a DataFrame\n",
      "\n",
      "See the caveats in the documentation: https://pandas.pydata.org/pandas-docs/stable/user_guide/indexing.html#returning-a-view-versus-a-copy\n",
      "  df.drop_duplicates(inplace = True)\n"
     ]
    }
   ],
   "source": [
    "df.drop_duplicates(inplace = True)"
   ]
  },
  {
   "cell_type": "code",
   "execution_count": 5,
   "id": "d34de38c",
   "metadata": {},
   "outputs": [
    {
     "data": {
      "text/plain": [
       "0"
      ]
     },
     "execution_count": 5,
     "metadata": {},
     "output_type": "execute_result"
    }
   ],
   "source": [
    "df.duplicated().sum()"
   ]
  },
  {
   "cell_type": "code",
   "execution_count": 6,
   "id": "920af60f",
   "metadata": {},
   "outputs": [
    {
     "data": {
      "text/plain": [
       "(4783, 5)"
      ]
     },
     "execution_count": 6,
     "metadata": {},
     "output_type": "execute_result"
    }
   ],
   "source": [
    "df.shape # 4783 unique subjects"
   ]
  },
  {
   "cell_type": "code",
   "execution_count": 7,
   "id": "e6b4281d",
   "metadata": {
    "scrolled": true
   },
   "outputs": [
    {
     "data": {
      "text/plain": [
       "Year              3\n",
       "Sex             377\n",
       "Fatal (Y/N)     460\n",
       "Age            1397\n",
       "Time           1885\n",
       "dtype: int64"
      ]
     },
     "execution_count": 7,
     "metadata": {},
     "output_type": "execute_result"
    }
   ],
   "source": [
    "df.isna().sum()"
   ]
  },
  {
   "cell_type": "markdown",
   "id": "bdcba756",
   "metadata": {},
   "source": [
    "### Cleaning of \"Year\" (only 3 NaN)"
   ]
  },
  {
   "cell_type": "code",
   "execution_count": 8,
   "id": "f84d8e04",
   "metadata": {},
   "outputs": [
    {
     "data": {
      "text/plain": [
       "count    4780.000000\n",
       "mean     1961.906276\n",
       "std       151.480634\n",
       "min         0.000000\n",
       "25%      1955.750000\n",
       "50%      1988.000000\n",
       "75%      2007.000000\n",
       "max      2018.000000\n",
       "Name: Year, dtype: float64"
      ]
     },
     "execution_count": 8,
     "metadata": {},
     "output_type": "execute_result"
    }
   ],
   "source": [
    "df[\"Year\"].describe()"
   ]
  },
  {
   "cell_type": "code",
   "execution_count": 9,
   "id": "18cf6669",
   "metadata": {},
   "outputs": [
    {
     "data": {
      "text/plain": [
       "Index([6177, 6181, 6184, 6185, 6189, 6193, 6198, 6200, 6202, 6226, 6228, 6232,\n",
       "       6238, 6239, 6241, 6242, 6243, 6254, 6259, 6265, 6276, 6277, 6301],\n",
       "      dtype='int64')"
      ]
     },
     "execution_count": 9,
     "metadata": {},
     "output_type": "execute_result"
    }
   ],
   "source": [
    "df[\"Year\"][df[\"Year\"] == df[\"Year\"].min()].index # 23 subjects with Year 0 (plus 3 na)"
   ]
  },
  {
   "cell_type": "code",
   "execution_count": 10,
   "id": "af8b04f2",
   "metadata": {},
   "outputs": [
    {
     "name": "stderr",
     "output_type": "stream",
     "text": [
      "C:\\Users\\gdcma\\AppData\\Local\\Temp\\ipykernel_8096\\3796636323.py:1: SettingWithCopyWarning: \n",
      "A value is trying to be set on a copy of a slice from a DataFrame.\n",
      "Try using .loc[row_indexer,col_indexer] = value instead\n",
      "\n",
      "See the caveats in the documentation: https://pandas.pydata.org/pandas-docs/stable/user_guide/indexing.html#returning-a-view-versus-a-copy\n",
      "  df[df[\"Year\"] == 0] = None\n"
     ]
    }
   ],
   "source": [
    "df[df[\"Year\"] == 0] = None"
   ]
  },
  {
   "cell_type": "code",
   "execution_count": 11,
   "id": "c197bff2",
   "metadata": {},
   "outputs": [
    {
     "data": {
      "text/plain": [
       "count    4757.000000\n",
       "mean     1971.392054\n",
       "std        65.979031\n",
       "min         5.000000\n",
       "25%      1956.000000\n",
       "50%      1988.000000\n",
       "75%      2007.000000\n",
       "max      2018.000000\n",
       "Name: Year, dtype: float64"
      ]
     },
     "execution_count": 11,
     "metadata": {},
     "output_type": "execute_result"
    }
   ],
   "source": [
    "df[\"Year\"].describe()"
   ]
  },
  {
   "cell_type": "code",
   "execution_count": 12,
   "id": "9cdf5f8d",
   "metadata": {},
   "outputs": [
    {
     "data": {
      "text/html": [
       "<div>\n",
       "<style scoped>\n",
       "    .dataframe tbody tr th:only-of-type {\n",
       "        vertical-align: middle;\n",
       "    }\n",
       "\n",
       "    .dataframe tbody tr th {\n",
       "        vertical-align: top;\n",
       "    }\n",
       "\n",
       "    .dataframe thead th {\n",
       "        text-align: right;\n",
       "    }\n",
       "</style>\n",
       "<table border=\"1\" class=\"dataframe\">\n",
       "  <thead>\n",
       "    <tr style=\"text-align: right;\">\n",
       "      <th></th>\n",
       "      <th>Year</th>\n",
       "      <th>Sex</th>\n",
       "      <th>Fatal (Y/N)</th>\n",
       "      <th>Age</th>\n",
       "      <th>Time</th>\n",
       "    </tr>\n",
       "  </thead>\n",
       "  <tbody>\n",
       "    <tr>\n",
       "      <th>6176</th>\n",
       "      <td>5.0</td>\n",
       "      <td>M</td>\n",
       "      <td>N</td>\n",
       "      <td>NaN</td>\n",
       "      <td>NaN</td>\n",
       "    </tr>\n",
       "    <tr>\n",
       "      <th>6175</th>\n",
       "      <td>77.0</td>\n",
       "      <td>M</td>\n",
       "      <td>Y</td>\n",
       "      <td>NaN</td>\n",
       "      <td>NaN</td>\n",
       "    </tr>\n",
       "    <tr>\n",
       "      <th>6174</th>\n",
       "      <td>500.0</td>\n",
       "      <td>M</td>\n",
       "      <td>N</td>\n",
       "      <td>NaN</td>\n",
       "      <td>NaN</td>\n",
       "    </tr>\n",
       "    <tr>\n",
       "      <th>6173</th>\n",
       "      <td>1543.0</td>\n",
       "      <td>M</td>\n",
       "      <td>Y</td>\n",
       "      <td>NaN</td>\n",
       "      <td>NaN</td>\n",
       "    </tr>\n",
       "    <tr>\n",
       "      <th>6172</th>\n",
       "      <td>1554.0</td>\n",
       "      <td>M</td>\n",
       "      <td>UNKNOWN</td>\n",
       "      <td>NaN</td>\n",
       "      <td>NaN</td>\n",
       "    </tr>\n",
       "  </tbody>\n",
       "</table>\n",
       "</div>"
      ],
      "text/plain": [
       "        Year Sex  Fatal (Y/N)  Age Time\n",
       "6176     5.0    M           N  NaN  NaN\n",
       "6175    77.0    M           Y  NaN  NaN\n",
       "6174   500.0    M           N  NaN  NaN\n",
       "6173  1543.0    M           Y  NaN  NaN\n",
       "6172  1554.0    M     UNKNOWN  NaN  NaN"
      ]
     },
     "execution_count": 12,
     "metadata": {},
     "output_type": "execute_result"
    }
   ],
   "source": [
    "df.sort_values(by = \"Year\").head()"
   ]
  },
  {
   "cell_type": "code",
   "execution_count": 13,
   "id": "a5c5c8bc",
   "metadata": {},
   "outputs": [
    {
     "name": "stderr",
     "output_type": "stream",
     "text": [
      "C:\\Users\\gdcma\\AppData\\Local\\Temp\\ipykernel_8096\\634795524.py:1: SettingWithCopyWarning: \n",
      "A value is trying to be set on a copy of a slice from a DataFrame.\n",
      "Try using .loc[row_indexer,col_indexer] = value instead\n",
      "\n",
      "See the caveats in the documentation: https://pandas.pydata.org/pandas-docs/stable/user_guide/indexing.html#returning-a-view-versus-a-copy\n",
      "  df[(df[\"Year\"] == 5) | (df[\"Year\"] == 77) | (df[\"Year\"] == 500)] = None\n"
     ]
    }
   ],
   "source": [
    "df[(df[\"Year\"] == 5) | (df[\"Year\"] == 77) | (df[\"Year\"] == 500)] = None"
   ]
  },
  {
   "cell_type": "code",
   "execution_count": 14,
   "id": "f406c61a",
   "metadata": {},
   "outputs": [
    {
     "data": {
      "text/plain": [
       "(4783, 5)"
      ]
     },
     "execution_count": 14,
     "metadata": {},
     "output_type": "execute_result"
    }
   ],
   "source": [
    "df.shape # 4783 unique subjects"
   ]
  },
  {
   "cell_type": "code",
   "execution_count": 15,
   "id": "d922cb88",
   "metadata": {},
   "outputs": [],
   "source": [
    "sns.set(rc={\"figure.figsize\": (5, 4)})\n",
    "sns.set_style(\"whitegrid\")"
   ]
  },
  {
   "cell_type": "code",
   "execution_count": 16,
   "id": "a4780257",
   "metadata": {},
   "outputs": [
    {
     "data": {
      "image/png": "[encoded data removed]",
      "text/plain": [
       "<Figure size 500x400 with 1 Axes>"
      ]
     },
     "metadata": {},
     "output_type": "display_data"
    }
   ],
   "source": [
    "sns.boxplot(y = \"Year\", data = df); # There is not much information about shark attacks previous to 1880"
   ]
  },
  {
   "cell_type": "markdown",
   "id": "80da3d03",
   "metadata": {},
   "source": [
    "### Cleaning of \"Sex\" (377 NaN)"
   ]
  },
  {
   "cell_type": "code",
   "execution_count": 17,
   "id": "69d3ca92",
   "metadata": {},
   "outputs": [
    {
     "name": "stderr",
     "output_type": "stream",
     "text": [
      "C:\\Users\\gdcma\\AppData\\Local\\Temp\\ipykernel_8096\\3981233909.py:1: SettingWithCopyWarning: \n",
      "A value is trying to be set on a copy of a slice from a DataFrame\n",
      "\n",
      "See the caveats in the documentation: https://pandas.pydata.org/pandas-docs/stable/user_guide/indexing.html#returning-a-view-versus-a-copy\n",
      "  df.rename({\"Sex \":\"Sex\"}, axis = 1, inplace = True)\n"
     ]
    }
   ],
   "source": [
    "df.rename({\"Sex \":\"Sex\"}, axis = 1, inplace = True)"
   ]
  },
  {
   "cell_type": "code",
   "execution_count": 18,
   "id": "2c3ddac4",
   "metadata": {},
   "outputs": [
    {
     "data": {
      "text/plain": [
       "count     4383\n",
       "unique       6\n",
       "top          M\n",
       "freq      3783\n",
       "Name: Sex, dtype: object"
      ]
     },
     "execution_count": 18,
     "metadata": {},
     "output_type": "execute_result"
    }
   ],
   "source": [
    "df[\"Sex\"].describe() # 6 different categories"
   ]
  },
  {
   "cell_type": "code",
   "execution_count": 19,
   "id": "9c3cc5ac",
   "metadata": {
    "scrolled": true
   },
   "outputs": [
    {
     "data": {
      "text/plain": [
       "Sex\n",
       "M      3783\n",
       "F       594\n",
       "M         2\n",
       "N         2\n",
       "lli       1\n",
       ".         1\n",
       "Name: count, dtype: int64"
      ]
     },
     "execution_count": 19,
     "metadata": {},
     "output_type": "execute_result"
    }
   ],
   "source": [
    "df[\"Sex\"].value_counts()"
   ]
  },
  {
   "cell_type": "code",
   "execution_count": 20,
   "id": "bbcdab13",
   "metadata": {},
   "outputs": [
    {
     "data": {
      "text/html": [
       "<div>\n",
       "<style scoped>\n",
       "    .dataframe tbody tr th:only-of-type {\n",
       "        vertical-align: middle;\n",
       "    }\n",
       "\n",
       "    .dataframe tbody tr th {\n",
       "        vertical-align: top;\n",
       "    }\n",
       "\n",
       "    .dataframe thead th {\n",
       "        text-align: right;\n",
       "    }\n",
       "</style>\n",
       "<table border=\"1\" class=\"dataframe\">\n",
       "  <thead>\n",
       "    <tr style=\"text-align: right;\">\n",
       "      <th></th>\n",
       "      <th>Year</th>\n",
       "      <th>Sex</th>\n",
       "      <th>Fatal (Y/N)</th>\n",
       "      <th>Age</th>\n",
       "      <th>Time</th>\n",
       "    </tr>\n",
       "  </thead>\n",
       "  <tbody>\n",
       "    <tr>\n",
       "      <th>563</th>\n",
       "      <td>2014.0</td>\n",
       "      <td>M</td>\n",
       "      <td>N</td>\n",
       "      <td>42</td>\n",
       "      <td>15h30</td>\n",
       "    </tr>\n",
       "    <tr>\n",
       "      <th>1587</th>\n",
       "      <td>2005.0</td>\n",
       "      <td>M</td>\n",
       "      <td>N</td>\n",
       "      <td>NaN</td>\n",
       "      <td>NaN</td>\n",
       "    </tr>\n",
       "    <tr>\n",
       "      <th>1624</th>\n",
       "      <td>2004.0</td>\n",
       "      <td>lli</td>\n",
       "      <td>N</td>\n",
       "      <td>38</td>\n",
       "      <td>13h30</td>\n",
       "    </tr>\n",
       "    <tr>\n",
       "      <th>4938</th>\n",
       "      <td>1934.0</td>\n",
       "      <td>N</td>\n",
       "      <td>N</td>\n",
       "      <td>NaN</td>\n",
       "      <td>NaN</td>\n",
       "    </tr>\n",
       "    <tr>\n",
       "      <th>5437</th>\n",
       "      <td>1908.0</td>\n",
       "      <td>.</td>\n",
       "      <td>Y</td>\n",
       "      <td>NaN</td>\n",
       "      <td>NaN</td>\n",
       "    </tr>\n",
       "    <tr>\n",
       "      <th>6131</th>\n",
       "      <td>1801.0</td>\n",
       "      <td>N</td>\n",
       "      <td>Y</td>\n",
       "      <td>NaN</td>\n",
       "      <td>NaN</td>\n",
       "    </tr>\n",
       "  </tbody>\n",
       "</table>\n",
       "</div>"
      ],
      "text/plain": [
       "        Year  Sex Fatal (Y/N)  Age   Time\n",
       "563   2014.0   M            N   42  15h30\n",
       "1587  2005.0   M            N  NaN    NaN\n",
       "1624  2004.0  lli           N   38  13h30\n",
       "4938  1934.0    N           N  NaN    NaN\n",
       "5437  1908.0    .           Y  NaN    NaN\n",
       "6131  1801.0    N           Y  NaN    NaN"
      ]
     },
     "execution_count": 20,
     "metadata": {},
     "output_type": "execute_result"
    }
   ],
   "source": [
    "df[(df[\"Sex\"] == \"M \") | (df[\"Sex\"] == \"N\") | (df[\"Sex\"] == \"lli\") | (df[\"Sex\"] == \".\")]"
   ]
  },
  {
   "cell_type": "code",
   "execution_count": 21,
   "id": "47de3937",
   "metadata": {},
   "outputs": [
    {
     "name": "stderr",
     "output_type": "stream",
     "text": [
      "C:\\Users\\gdcma\\AppData\\Local\\Temp\\ipykernel_8096\\2960946067.py:1: SettingWithCopyWarning: \n",
      "A value is trying to be set on a copy of a slice from a DataFrame.\n",
      "Try using .loc[row_indexer,col_indexer] = value instead\n",
      "\n",
      "See the caveats in the documentation: https://pandas.pydata.org/pandas-docs/stable/user_guide/indexing.html#returning-a-view-versus-a-copy\n",
      "  df[df[\"Sex\"] == \"M \"] = \"M\"\n",
      "C:\\Users\\gdcma\\AppData\\Local\\Temp\\ipykernel_8096\\2960946067.py:1: FutureWarning: Setting an item of incompatible dtype is deprecated and will raise in a future error of pandas. Value 'M' has dtype incompatible with float64, please explicitly cast to a compatible dtype first.\n",
      "  df[df[\"Sex\"] == \"M \"] = \"M\"\n",
      "C:\\Users\\gdcma\\AppData\\Local\\Temp\\ipykernel_8096\\2960946067.py:2: SettingWithCopyWarning: \n",
      "A value is trying to be set on a copy of a slice from a DataFrame.\n",
      "Try using .loc[row_indexer,col_indexer] = value instead\n",
      "\n",
      "See the caveats in the documentation: https://pandas.pydata.org/pandas-docs/stable/user_guide/indexing.html#returning-a-view-versus-a-copy\n",
      "  df[(df[\"Sex\"] == \"N\") | (df[\"Sex\"] == \"lli\") | (df[\"Sex\"] == \".\")] = None\n"
     ]
    }
   ],
   "source": [
    "df[df[\"Sex\"] == \"M \"] = \"M\"\n",
    "df[(df[\"Sex\"] == \"N\") | (df[\"Sex\"] == \"lli\") | (df[\"Sex\"] == \".\")] = None"
   ]
  },
  {
   "cell_type": "code",
   "execution_count": 22,
   "id": "f4f93cf5",
   "metadata": {},
   "outputs": [
    {
     "data": {
      "text/plain": [
       "Sex\n",
       "M    3785\n",
       "F     594\n",
       "Name: count, dtype: int64"
      ]
     },
     "execution_count": 22,
     "metadata": {},
     "output_type": "execute_result"
    }
   ],
   "source": [
    "df[\"Sex\"].value_counts()"
   ]
  },
  {
   "cell_type": "code",
   "execution_count": 23,
   "id": "c662e94e",
   "metadata": {},
   "outputs": [
    {
     "data": {
      "text/plain": [
       "404"
      ]
     },
     "execution_count": 23,
     "metadata": {},
     "output_type": "execute_result"
    }
   ],
   "source": [
    "df[\"Sex\"].isna().sum() # 404 subjects with unknown sex of a total of 4783. More than half the amount of \"F\".\n",
    "                           # Not imputable."
   ]
  },
  {
   "cell_type": "markdown",
   "id": "f8860693",
   "metadata": {},
   "source": [
    "### Cleaning of \"Fatal (Y/N)\" (460 NaN)"
   ]
  },
  {
   "cell_type": "code",
   "execution_count": 24,
   "id": "4c4f5e59",
   "metadata": {},
   "outputs": [
    {
     "name": "stderr",
     "output_type": "stream",
     "text": [
      "C:\\Users\\gdcma\\AppData\\Local\\Temp\\ipykernel_8096\\2859628926.py:1: SettingWithCopyWarning: \n",
      "A value is trying to be set on a copy of a slice from a DataFrame\n",
      "\n",
      "See the caveats in the documentation: https://pandas.pydata.org/pandas-docs/stable/user_guide/indexing.html#returning-a-view-versus-a-copy\n",
      "  df.rename({\"Fatal (Y/N)\":\"Fatal\"}, axis = 1, inplace = True)\n"
     ]
    }
   ],
   "source": [
    "df.rename({\"Fatal (Y/N)\":\"Fatal\"}, axis = 1, inplace = True)"
   ]
  },
  {
   "cell_type": "code",
   "execution_count": 25,
   "id": "6fe8e4d6",
   "metadata": {},
   "outputs": [
    {
     "data": {
      "text/plain": [
       "count     4294\n",
       "unique       8\n",
       "top          N\n",
       "freq      3249\n",
       "Name: Fatal, dtype: object"
      ]
     },
     "execution_count": 25,
     "metadata": {},
     "output_type": "execute_result"
    }
   ],
   "source": [
    "df[\"Fatal\"].describe() # 8 different categories"
   ]
  },
  {
   "cell_type": "code",
   "execution_count": 26,
   "id": "8dea67d5",
   "metadata": {},
   "outputs": [
    {
     "data": {
      "text/plain": [
       "Fatal\n",
       "N          3249\n",
       "Y           971\n",
       "UNKNOWN      61\n",
       " N            7\n",
       "M             3\n",
       "2017          1\n",
       "N             1\n",
       "y             1\n",
       "Name: count, dtype: int64"
      ]
     },
     "execution_count": 26,
     "metadata": {},
     "output_type": "execute_result"
    }
   ],
   "source": [
    "df[\"Fatal\"].value_counts()"
   ]
  },
  {
   "cell_type": "code",
   "execution_count": 27,
   "id": "e8d307eb",
   "metadata": {
    "scrolled": true
   },
   "outputs": [
    {
     "data": {
      "text/html": [
       "<div>\n",
       "<style scoped>\n",
       "    .dataframe tbody tr th:only-of-type {\n",
       "        vertical-align: middle;\n",
       "    }\n",
       "\n",
       "    .dataframe tbody tr th {\n",
       "        vertical-align: top;\n",
       "    }\n",
       "\n",
       "    .dataframe thead th {\n",
       "        text-align: right;\n",
       "    }\n",
       "</style>\n",
       "<table border=\"1\" class=\"dataframe\">\n",
       "  <thead>\n",
       "    <tr style=\"text-align: right;\">\n",
       "      <th></th>\n",
       "      <th>Year</th>\n",
       "      <th>Sex</th>\n",
       "      <th>Fatal</th>\n",
       "      <th>Age</th>\n",
       "      <th>Time</th>\n",
       "    </tr>\n",
       "  </thead>\n",
       "  <tbody>\n",
       "    <tr>\n",
       "      <th>285</th>\n",
       "      <td>2016.0</td>\n",
       "      <td>M</td>\n",
       "      <td>M</td>\n",
       "      <td>22</td>\n",
       "      <td>Morning</td>\n",
       "    </tr>\n",
       "    <tr>\n",
       "      <th>563</th>\n",
       "      <td>M</td>\n",
       "      <td>M</td>\n",
       "      <td>M</td>\n",
       "      <td>M</td>\n",
       "      <td>M</td>\n",
       "    </tr>\n",
       "    <tr>\n",
       "      <th>786</th>\n",
       "      <td>2012.0</td>\n",
       "      <td>M</td>\n",
       "      <td>2017</td>\n",
       "      <td>57</td>\n",
       "      <td>Morning</td>\n",
       "    </tr>\n",
       "    <tr>\n",
       "      <th>1587</th>\n",
       "      <td>M</td>\n",
       "      <td>M</td>\n",
       "      <td>M</td>\n",
       "      <td>M</td>\n",
       "      <td>M</td>\n",
       "    </tr>\n",
       "    <tr>\n",
       "      <th>3942</th>\n",
       "      <td>1960.0</td>\n",
       "      <td>F</td>\n",
       "      <td>N</td>\n",
       "      <td>27</td>\n",
       "      <td>NaN</td>\n",
       "    </tr>\n",
       "    <tr>\n",
       "      <th>3944</th>\n",
       "      <td>1960.0</td>\n",
       "      <td>M</td>\n",
       "      <td>N</td>\n",
       "      <td>33</td>\n",
       "      <td>09h00</td>\n",
       "    </tr>\n",
       "    <tr>\n",
       "      <th>3946</th>\n",
       "      <td>1960.0</td>\n",
       "      <td>M</td>\n",
       "      <td>N</td>\n",
       "      <td>41</td>\n",
       "      <td>14h45</td>\n",
       "    </tr>\n",
       "    <tr>\n",
       "      <th>3948</th>\n",
       "      <td>1960.0</td>\n",
       "      <td>M</td>\n",
       "      <td>N</td>\n",
       "      <td>17</td>\n",
       "      <td>15h00</td>\n",
       "    </tr>\n",
       "    <tr>\n",
       "      <th>3949</th>\n",
       "      <td>1960.0</td>\n",
       "      <td>M</td>\n",
       "      <td>N</td>\n",
       "      <td>24</td>\n",
       "      <td>NaN</td>\n",
       "    </tr>\n",
       "    <tr>\n",
       "      <th>3951</th>\n",
       "      <td>1960.0</td>\n",
       "      <td>M</td>\n",
       "      <td>N</td>\n",
       "      <td>NaN</td>\n",
       "      <td>NaN</td>\n",
       "    </tr>\n",
       "    <tr>\n",
       "      <th>3956</th>\n",
       "      <td>1960.0</td>\n",
       "      <td>M</td>\n",
       "      <td>N</td>\n",
       "      <td>26</td>\n",
       "      <td>NaN</td>\n",
       "    </tr>\n",
       "    <tr>\n",
       "      <th>5427</th>\n",
       "      <td>1909.0</td>\n",
       "      <td>NaN</td>\n",
       "      <td>N</td>\n",
       "      <td>NaN</td>\n",
       "      <td>NaN</td>\n",
       "    </tr>\n",
       "    <tr>\n",
       "      <th>6117</th>\n",
       "      <td>1815.0</td>\n",
       "      <td>M</td>\n",
       "      <td>y</td>\n",
       "      <td>NaN</td>\n",
       "      <td>NaN</td>\n",
       "    </tr>\n",
       "  </tbody>\n",
       "</table>\n",
       "</div>"
      ],
      "text/plain": [
       "        Year  Sex Fatal  Age     Time\n",
       "285   2016.0    M     M   22  Morning\n",
       "563        M    M     M    M        M\n",
       "786   2012.0    M  2017   57  Morning\n",
       "1587       M    M     M    M        M\n",
       "3942  1960.0    F     N   27      NaN\n",
       "3944  1960.0    M     N   33    09h00\n",
       "3946  1960.0    M     N   41    14h45\n",
       "3948  1960.0    M     N   17    15h00\n",
       "3949  1960.0    M     N   24      NaN\n",
       "3951  1960.0    M     N  NaN      NaN\n",
       "3956  1960.0    M     N   26      NaN\n",
       "5427  1909.0  NaN    N   NaN      NaN\n",
       "6117  1815.0    M     y  NaN      NaN"
      ]
     },
     "execution_count": 27,
     "metadata": {},
     "output_type": "execute_result"
    }
   ],
   "source": [
    "df[(df[\"Fatal\"] == \" N\") | (df[\"Fatal\"] == \"M\") | (df[\"Fatal\"] == \"2017\") | (df[\"Fatal\"] == \"N \") | (df[\"Fatal\"] == \"y\")]"
   ]
  },
  {
   "cell_type": "code",
   "execution_count": 28,
   "id": "d67adb1a",
   "metadata": {},
   "outputs": [
    {
     "name": "stderr",
     "output_type": "stream",
     "text": [
      "C:\\Users\\gdcma\\AppData\\Local\\Temp\\ipykernel_8096\\2794069139.py:1: SettingWithCopyWarning: \n",
      "A value is trying to be set on a copy of a slice from a DataFrame.\n",
      "Try using .loc[row_indexer,col_indexer] = value instead\n",
      "\n",
      "See the caveats in the documentation: https://pandas.pydata.org/pandas-docs/stable/user_guide/indexing.html#returning-a-view-versus-a-copy\n",
      "  df[(df[\"Fatal\"] == \" N\") | (df[\"Fatal\"] == \"N \") | (df[\"Fatal\"] == \"M\")] = \"N\"\n",
      "C:\\Users\\gdcma\\AppData\\Local\\Temp\\ipykernel_8096\\2794069139.py:2: SettingWithCopyWarning: \n",
      "A value is trying to be set on a copy of a slice from a DataFrame.\n",
      "Try using .loc[row_indexer,col_indexer] = value instead\n",
      "\n",
      "See the caveats in the documentation: https://pandas.pydata.org/pandas-docs/stable/user_guide/indexing.html#returning-a-view-versus-a-copy\n",
      "  df[df[\"Fatal\"] == \"y\"] = \"Y\"\n",
      "C:\\Users\\gdcma\\AppData\\Local\\Temp\\ipykernel_8096\\2794069139.py:3: SettingWithCopyWarning: \n",
      "A value is trying to be set on a copy of a slice from a DataFrame.\n",
      "Try using .loc[row_indexer,col_indexer] = value instead\n",
      "\n",
      "See the caveats in the documentation: https://pandas.pydata.org/pandas-docs/stable/user_guide/indexing.html#returning-a-view-versus-a-copy\n",
      "  df[(df[\"Fatal\"] == \"2017\") | (df[\"Fatal\"] == \"UNKNOWN\")] = None\n"
     ]
    }
   ],
   "source": [
    "df[(df[\"Fatal\"] == \" N\") | (df[\"Fatal\"] == \"N \") | (df[\"Fatal\"] == \"M\")] = \"N\"\n",
    "df[df[\"Fatal\"] == \"y\"] = \"Y\"\n",
    "df[(df[\"Fatal\"] == \"2017\") | (df[\"Fatal\"] == \"UNKNOWN\")] = None"
   ]
  },
  {
   "cell_type": "code",
   "execution_count": 29,
   "id": "d37d3b3f",
   "metadata": {},
   "outputs": [
    {
     "data": {
      "text/plain": [
       "Fatal\n",
       "N    3260\n",
       "Y     972\n",
       "Name: count, dtype: int64"
      ]
     },
     "execution_count": 29,
     "metadata": {},
     "output_type": "execute_result"
    }
   ],
   "source": [
    "df[\"Fatal\"].value_counts()"
   ]
  },
  {
   "cell_type": "code",
   "execution_count": 30,
   "id": "9f150a79",
   "metadata": {},
   "outputs": [
    {
     "data": {
      "text/plain": [
       "551"
      ]
     },
     "execution_count": 30,
     "metadata": {},
     "output_type": "execute_result"
    }
   ],
   "source": [
    "df[\"Fatal\"].isna().sum() # 551 subjects with unknown sex of a total of 4783. More than half the amount of fatal attacks\n",
    "                                        # Not imputable."
   ]
  },
  {
   "cell_type": "markdown",
   "id": "74b049ee",
   "metadata": {},
   "source": [
    "### Cleaning of \"Age\" (1397 NaN)"
   ]
  },
  {
   "cell_type": "markdown",
   "id": "5168195f",
   "metadata": {},
   "source": [
    "Time           1885"
   ]
  },
  {
   "cell_type": "code",
   "execution_count": 31,
   "id": "e0a6ed28",
   "metadata": {},
   "outputs": [
    {
     "name": "stdout",
     "output_type": "stream",
     "text": [
      "<class 'pandas.core.series.Series'>\n",
      "Index: 4783 entries, 0 to 6302\n",
      "Series name: Age\n",
      "Non-Null Count  Dtype \n",
      "--------------  ----- \n",
      "3365 non-null   object\n",
      "dtypes: object(1)\n",
      "memory usage: 74.7+ KB\n"
     ]
    }
   ],
   "source": [
    "# df[\"Age\"] = pd.to_numeric(df[\"Age\"])\n",
    "df.Age.info()"
   ]
  },
  {
   "cell_type": "markdown",
   "id": "7560d93f",
   "metadata": {},
   "source": [
    "ISSUES:\n",
    "- Years ending with an 's' with or without apostrophe (40's, 20s) - > They are trasnformed as half the period they refer to (45 or 25): `(\\d{1,2})'?s`\n",
    "- \"Teen\", \"teen\", \"Teens\" - > Transform to 15 years\n",
    "- \"N\" - > Transform to NaN\n",
    "- \"18 months\" - > Transform to 1\n",
    "- \"28 & 26\" - > Probably refering to two incidents occurring at the same time, but exlained together. Transform to 27\n",
    "- \"18 or 20\" - > Transform to 19\n",
    "- \"12 or 13\" - > Transform to 13\n",
    "- \"46 & 34\" - > Probably refering to two incidents occurring at the same time, but exlained together. Transform to 40\n",
    "- \"28, 23 & 30\" - > Transform to 27\n",
    "- \"36 & 26\" - > Transform to 31\n",
    "- \"8 or 10\" -> Transform to 9\n",
    "- \" \" - > Transform to NaN\n",
    "- \"\\xa0 \" - > Transform to NaN\n",
    "- \"30 or 36\" - > Transform to 33\n",
    "- \"6½\" - > Transform to 6\n",
    "- \"21 & ?\" - > Transform to 21\n",
    "- \"33 or 37\" - > Transform to 35\n",
    "- \"23 & 20\" - > Transform to 22\n",
    "- \"7      &    31\" - > Too different, shouldn't be treated as same individual. \n"
   ]
  },
  {
   "cell_type": "code",
   "execution_count": 32,
   "id": "31547ca8",
   "metadata": {},
   "outputs": [
    {
     "name": "stderr",
     "output_type": "stream",
     "text": [
      "C:\\Users\\gdcma\\AppData\\Local\\Temp\\ipykernel_8096\\3714912794.py:1: SettingWithCopyWarning: \n",
      "A value is trying to be set on a copy of a slice from a DataFrame.\n",
      "Try using .loc[row_indexer,col_indexer] = value instead\n",
      "\n",
      "See the caveats in the documentation: https://pandas.pydata.org/pandas-docs/stable/user_guide/indexing.html#returning-a-view-versus-a-copy\n",
      "  df[\"col1\"] = df[\"Age\"].str.extract(\"(\\d{1,2})'?s\")\n"
     ]
    }
   ],
   "source": [
    "df[\"col1\"] = df[\"Age\"].str.extract(\"(\\d{1,2})'?s\")"
   ]
  },
  {
   "cell_type": "code",
   "execution_count": 33,
   "id": "7702df88",
   "metadata": {},
   "outputs": [
    {
     "name": "stderr",
     "output_type": "stream",
     "text": [
      "C:\\Users\\gdcma\\AppData\\Local\\Temp\\ipykernel_8096\\2478760014.py:1: SettingWithCopyWarning: \n",
      "A value is trying to be set on a copy of a slice from a DataFrame.\n",
      "Try using .loc[row_indexer,col_indexer] = value instead\n",
      "\n",
      "See the caveats in the documentation: https://pandas.pydata.org/pandas-docs/stable/user_guide/indexing.html#returning-a-view-versus-a-copy\n",
      "  df[\"col1\"] = pd.to_numeric(df[\"col1\"]) + 5\n"
     ]
    }
   ],
   "source": [
    "df[\"col1\"] = pd.to_numeric(df[\"col1\"]) + 5"
   ]
  },
  {
   "cell_type": "code",
   "execution_count": 34,
   "id": "3c294872",
   "metadata": {},
   "outputs": [
    {
     "name": "stderr",
     "output_type": "stream",
     "text": [
      "C:\\Users\\gdcma\\AppData\\Local\\Temp\\ipykernel_8096\\4221263905.py:1: SettingWithCopyWarning: \n",
      "A value is trying to be set on a copy of a slice from a DataFrame.\n",
      "Try using .loc[row_indexer,col_indexer] = value instead\n",
      "\n",
      "See the caveats in the documentation: https://pandas.pydata.org/pandas-docs/stable/user_guide/indexing.html#returning-a-view-versus-a-copy\n",
      "  df[\"col1\"] = df[\"col1\"].astype(\"object\")\n"
     ]
    }
   ],
   "source": [
    "df[\"col1\"] = df[\"col1\"].astype(\"object\")"
   ]
  },
  {
   "cell_type": "code",
   "execution_count": 35,
   "id": "e62367b8",
   "metadata": {
    "scrolled": true
   },
   "outputs": [
    {
     "data": {
      "text/plain": [
       "Index([  48,  150,  194,  219,  468,  502,  509,  522,  743,  881, 1481, 1483,\n",
       "       1526, 1625, 1955, 2496, 2634, 2635, 2895, 2966, 3082, 3289, 5061],\n",
       "      dtype='int64')"
      ]
     },
     "execution_count": 35,
     "metadata": {},
     "output_type": "execute_result"
    }
   ],
   "source": [
    "df[\"col1\"][df[\"col1\"].notna()].index"
   ]
  },
  {
   "cell_type": "code",
   "execution_count": 36,
   "id": "e133b19a",
   "metadata": {},
   "outputs": [],
   "source": [
    "# To assign values of col1 in column Age only if col1 is not na:\n",
    "    # df.loc(indexes where col1 is not na, in column Age) = df.loc(indexes qhere col1 is not na, in column col1)\n",
    "df.loc[df[\"col1\"][df[\"col1\"].notna()].index, \"Age\"] = df.loc[df[\"col1\"][df[\"col1\"].notna()].index, \"col1\"]"
   ]
  },
  {
   "cell_type": "code",
   "execution_count": 37,
   "id": "508b4e6a",
   "metadata": {},
   "outputs": [
    {
     "name": "stderr",
     "output_type": "stream",
     "text": [
      "C:\\Users\\gdcma\\AppData\\Local\\Temp\\ipykernel_8096\\1224089297.py:1: SettingWithCopyWarning: \n",
      "A value is trying to be set on a copy of a slice from a DataFrame\n",
      "\n",
      "See the caveats in the documentation: https://pandas.pydata.org/pandas-docs/stable/user_guide/indexing.html#returning-a-view-versus-a-copy\n",
      "  df.drop([\"col1\"], axis = 1, inplace = True)\n"
     ]
    }
   ],
   "source": [
    "df.drop([\"col1\"], axis = 1, inplace = True)"
   ]
  },
  {
   "cell_type": "code",
   "execution_count": 38,
   "id": "42d17f34",
   "metadata": {},
   "outputs": [
    {
     "data": {
      "text/plain": [
       "Index([182, 294, 526, 983, 1331, 1658, 3643, 5002, 5544], dtype='int64')"
      ]
     },
     "execution_count": 38,
     "metadata": {},
     "output_type": "execute_result"
    }
   ],
   "source": [
    "df[\"Age\"][df[\"Age\"] == \"Teen\"].index"
   ]
  },
  {
   "cell_type": "code",
   "execution_count": 55,
   "id": "c0eabd6e",
   "metadata": {},
   "outputs": [],
   "source": [
    "df.loc[df[\"Age\"][(df[\"Age\"] == \"Teen\") | (df[\"Age\"] == \"teen\") | (df[\"Age\"] == \"Teens\")].index, \"Age\"] = \"15\"\n",
    "df.loc[df[\"Age\"][(df[\"Age\"] == \"N\") | (df[\"Age\"] == \" \") | (df[\"Age\"] == \"\\xa0 \")].index, \"Age\"] = None\n",
    "df.loc[df[\"Age\"][df[\"Age\"] == \"18 months\"].index, \"Age\"] = \"1\"\n",
    "df.loc[df[\"Age\"][df[\"Age\"] == \"28 & 26\"].index, \"Age\"] = \"27\"\n",
    "df.loc[df[\"Age\"][df[\"Age\"] == \"18 or 20\"].index, \"Age\"] = \"19\"\n",
    "df.loc[df[\"Age\"][df[\"Age\"] == \"12 or 13\"].index, \"Age\"] = \"13\"\n",
    "df.loc[df[\"Age\"][df[\"Age\"] == \"46 & 34\"].index, \"Age\"] = \"40\"\n",
    "df.loc[df[\"Age\"][df[\"Age\"] == \"28, 23 & 30\"].index, \"Age\"] = \"27\"\n",
    "df.loc[df[\"Age\"][df[\"Age\"] == \"36 & 26\"].index, \"Age\"] = \"31\"\n",
    "df.loc[df[\"Age\"][df[\"Age\"] == \"8 or 10\"].index, \"Age\"] = \"9\"\n",
    "df.loc[df[\"Age\"][df[\"Age\"] == \"30 or 36\"].index, \"Age\"] = \"33\"\n",
    "df.loc[df[\"Age\"][df[\"Age\"] == \"6½\"].index, \"Age\"] = \"6\"\n",
    "df.loc[df[\"Age\"][df[\"Age\"] == \"21 & ?\"].index, \"Age\"] = \"21\"\n",
    "df.loc[df[\"Age\"][df[\"Age\"] == \"33 or 37\"].index, \"Age\"] = \"35\"\n",
    "df.loc[df[\"Age\"][df[\"Age\"] == \"23 & 20\"].index, \"Age\"] = \"22\"\n",
    "\n"
   ]
  },
  {
   "cell_type": "code",
   "execution_count": 56,
   "id": "c9de6f60",
   "metadata": {
    "scrolled": true
   },
   "outputs": [
    {
     "ename": "ValueError",
     "evalue": "Unable to parse string \"7      &    31\" at position 2127",
     "output_type": "error",
     "traceback": [
      "\u001b[1;31m---------------------------------------------------------------------------\u001b[0m",
      "\u001b[1;31mValueError\u001b[0m                                Traceback (most recent call last)",
      "File \u001b[1;32mlib.pyx:2368\u001b[0m, in \u001b[0;36mpandas._libs.lib.maybe_convert_numeric\u001b[1;34m()\u001b[0m\n",
      "\u001b[1;31mValueError\u001b[0m: Unable to parse string \"7      &    31\"",
      "\nDuring handling of the above exception, another exception occurred:\n",
      "\u001b[1;31mValueError\u001b[0m                                Traceback (most recent call last)",
      "Cell \u001b[1;32mIn[56], line 1\u001b[0m\n\u001b[1;32m----> 1\u001b[0m df[\u001b[38;5;124m\"\u001b[39m\u001b[38;5;124mAge\u001b[39m\u001b[38;5;124m\"\u001b[39m] \u001b[38;5;241m=\u001b[39m pd\u001b[38;5;241m.\u001b[39mto_numeric(df[\u001b[38;5;124m\"\u001b[39m\u001b[38;5;124mAge\u001b[39m\u001b[38;5;124m\"\u001b[39m])\n",
      "File \u001b[1;32m~\\miniconda3\\envs\\ironhack\\Lib\\site-packages\\pandas\\core\\tools\\numeric.py:222\u001b[0m, in \u001b[0;36mto_numeric\u001b[1;34m(arg, errors, downcast, dtype_backend)\u001b[0m\n\u001b[0;32m    220\u001b[0m coerce_numeric \u001b[38;5;241m=\u001b[39m errors \u001b[38;5;129;01mnot\u001b[39;00m \u001b[38;5;129;01min\u001b[39;00m (\u001b[38;5;124m\"\u001b[39m\u001b[38;5;124mignore\u001b[39m\u001b[38;5;124m\"\u001b[39m, \u001b[38;5;124m\"\u001b[39m\u001b[38;5;124mraise\u001b[39m\u001b[38;5;124m\"\u001b[39m)\n\u001b[0;32m    221\u001b[0m \u001b[38;5;28;01mtry\u001b[39;00m:\n\u001b[1;32m--> 222\u001b[0m     values, new_mask \u001b[38;5;241m=\u001b[39m lib\u001b[38;5;241m.\u001b[39mmaybe_convert_numeric(  \u001b[38;5;66;03m# type: ignore[call-overload]  # noqa: E501\u001b[39;00m\n\u001b[0;32m    223\u001b[0m         values,\n\u001b[0;32m    224\u001b[0m         \u001b[38;5;28mset\u001b[39m(),\n\u001b[0;32m    225\u001b[0m         coerce_numeric\u001b[38;5;241m=\u001b[39mcoerce_numeric,\n\u001b[0;32m    226\u001b[0m         convert_to_masked_nullable\u001b[38;5;241m=\u001b[39mdtype_backend \u001b[38;5;129;01mis\u001b[39;00m \u001b[38;5;129;01mnot\u001b[39;00m lib\u001b[38;5;241m.\u001b[39mno_default\n\u001b[0;32m    227\u001b[0m         \u001b[38;5;129;01mor\u001b[39;00m \u001b[38;5;28misinstance\u001b[39m(values_dtype, StringDtype),\n\u001b[0;32m    228\u001b[0m     )\n\u001b[0;32m    229\u001b[0m \u001b[38;5;28;01mexcept\u001b[39;00m (\u001b[38;5;167;01mValueError\u001b[39;00m, \u001b[38;5;167;01mTypeError\u001b[39;00m):\n\u001b[0;32m    230\u001b[0m     \u001b[38;5;28;01mif\u001b[39;00m errors \u001b[38;5;241m==\u001b[39m \u001b[38;5;124m\"\u001b[39m\u001b[38;5;124mraise\u001b[39m\u001b[38;5;124m\"\u001b[39m:\n",
      "File \u001b[1;32mlib.pyx:2410\u001b[0m, in \u001b[0;36mpandas._libs.lib.maybe_convert_numeric\u001b[1;34m()\u001b[0m\n",
      "\u001b[1;31mValueError\u001b[0m: Unable to parse string \"7      &    31\" at position 2127"
     ]
    }
   ],
   "source": [
    "df[\"Age\"] = pd.to_numeric(df[\"Age\"])"
   ]
  },
  {
   "cell_type": "code",
   "execution_count": 46,
   "id": "fa69f92e",
   "metadata": {},
   "outputs": [
    {
     "name": "stdout",
     "output_type": "stream",
     "text": [
      "30 or 36\n"
     ]
    }
   ],
   "source": [
    "print(df.iloc[1669].Age)"
   ]
  },
  {
   "cell_type": "code",
   "execution_count": null,
   "id": "85d8bb60",
   "metadata": {},
   "outputs": [],
   "source": []
  }
 ],
 "metadata": {
  "kernelspec": {
   "display_name": "ironhack",
   "language": "python",
   "name": "ironhack"
  },
  "language_info": {
   "codemirror_mode": {
    "name": "ipython",
    "version": 3
   },
   "file_extension": ".py",
   "mimetype": "text/x-python",
   "name": "python",
   "nbconvert_exporter": "python",
   "pygments_lexer": "ipython3",
   "version": "3.11.5"
  }
 },
 "nbformat": 4,
 "nbformat_minor": 5
}
